{
 "cells": [
  {
   "cell_type": "markdown",
   "metadata": {},
   "source": [
    "# MNIST 데이터셋 분류 예제\n",
    "\n",
    "- 숫자 이미지에 대한 샘플 데이터 활용"
   ]
  },
  {
   "cell_type": "code",
   "execution_count": 15,
   "metadata": {},
   "outputs": [],
   "source": [
    "from tensorflow.keras.datasets.mnist import load_data\n",
    "from tensorflow.keras.utils import to_categorical\n",
    "from tensorflow.keras.models import Sequential\n",
    "from tensorflow.keras.layers import Dense, Flatten\n",
    "from sklearn.model_selection import train_test_split\n",
    "\n",
    "# sklearn.metrics 모듈은 여러가지 평가 지표에 관한 기능을 제공한다.\n",
    "from sklearn.metrics import classification_report, confusion_matrix\n",
    "\n",
    "import seaborn as sns\n",
    "import matplotlib.pyplot as plt\n",
    "import numpy as np\n",
    "from pandas import DataFrame\n",
    "\n",
    "# 랜덤 시드 고정\n",
    "np.random.seed(777)"
   ]
  },
  {
   "cell_type": "code",
   "execution_count": 2,
   "metadata": {},
   "outputs": [],
   "source": [
    "# 텐서플로우 저장소에서 데이터를 다운받는다.\n",
    "(x_train, y_train), (x_test, y_test) = load_data(path = 'mnist.npz')"
   ]
  },
  {
   "cell_type": "markdown",
   "metadata": {},
   "source": [
    "### 데이터의 형태 확인\n",
    "\n",
    "숫자 이미지(size: 28px * 28px)와 각 이미지에 해당하는 label(0부터 9까지)로 이루어져 있고, 60,000개의 학습 데이터와 10,000개의 테스트 데이터로 구성되어 있다."
   ]
  },
  {
   "cell_type": "code",
   "execution_count": 3,
   "metadata": {},
   "outputs": [
    {
     "name": "stdout",
     "output_type": "stream",
     "text": [
      "(60000, 28, 28) (60000,)\n",
      "[5 0 4 ... 5 6 8]\n"
     ]
    }
   ],
   "source": [
    "# 훈련 데이터\n",
    "# x_train -> 숫자이미지들\n",
    "# y_train -> 이미지들에 대한 실제 숫자 값\n",
    "print(x_train.shape, y_train.shape)\n",
    "print(y_train)"
   ]
  },
  {
   "cell_type": "code",
   "execution_count": 4,
   "metadata": {},
   "outputs": [
    {
     "name": "stdout",
     "output_type": "stream",
     "text": [
      "(10000, 28, 28) (10000,)\n",
      "[7 2 1 ... 4 5 6]\n",
      "60000\n"
     ]
    }
   ],
   "source": [
    "# 테스트데이터\n",
    "print(x_test.shape, y_test.shape)\n",
    "print(y_test)\n",
    "print(x_train.shape[0])"
   ]
  },
  {
   "cell_type": "code",
   "execution_count": 5,
   "metadata": {},
   "outputs": [
    {
     "name": "stdout",
     "output_type": "stream",
     "text": [
      "임의로 추출할 위치: [47919 15931 52134]\n"
     ]
    },
    {
     "data": {
      "image/png": "[encoded data removed]",
      "text/plain": [
       "<Figure size 432x288 with 1 Axes>"
      ]
     },
     "metadata": {
      "needs_background": "light"
     },
     "output_type": "display_data"
    },
    {
     "data": {
      "image/png": "[encoded data removed]",
      "text/plain": [
       "<Figure size 432x288 with 1 Axes>"
      ]
     },
     "metadata": {
      "needs_background": "light"
     },
     "output_type": "display_data"
    },
    {
     "data": {
      "image/png": "[encoded data removed]",
      "text/plain": [
       "<Figure size 432x288 with 1 Axes>"
      ]
     },
     "metadata": {
      "needs_background": "light"
     },
     "output_type": "display_data"
    }
   ],
   "source": [
    "# 임의로 추출할 위치 마련하기\n",
    "sample_size = 3\n",
    "\n",
    "# 0 ~ 59999의 범위에서 무작위로 3개의 정수를 뽑습니다.\n",
    "random_idx = np.random.randint(x_train.shape[0], size = sample_size)\n",
    "print(\"임의로 추출할 위치: %s\" % random_idx)\n",
    "\n",
    "# 데이터 그려보기\n",
    "for idx in random_idx:\n",
    "    # 이미지 꺼내기\n",
    "    img = x_train[idx, :]\n",
    "    \n",
    "    # 이미지에 대한 답 꺼내기\n",
    "    label = y_train[idx]\n",
    "    \n",
    "    # 그리기\n",
    "    plt.figure()\n",
    "    plt.imshow(img)\n",
    "    plt.title('%d-th image, label is %d' % (idx, label))"
   ]
  },
  {
   "cell_type": "markdown",
   "metadata": {},
   "source": [
    "### 검증 데이터 만들기\n",
    "- 훈련 데이터를 일정 비율(7:3)로 훈련 데이터와 검증 데이터로 나누는 과정\n",
    "- sklearn 패키지의 train_test_split() 함수\n",
    "    - 데이터 셋을 학습, 검증, 테스트 세트로 분리할 때 사용\n",
    "    - test_size: 테스트셋의 비율 --> 학습 비율은 \"1-테스트셋 비율\"\n",
    "    - random_state: random_seed와 같은 의미. 테스트 도중 매 실행시마다 결과값이 달라지는 것을 방지하기 위해 사용함."
   ]
  },
  {
   "cell_type": "code",
   "execution_count": 12,
   "metadata": {},
   "outputs": [],
   "source": [
    "re_x_train = x_train / 255\n",
    "re_x_test = x_test / 255\n",
    "\n",
    "# 각 데이터의 레이블을 범주형으로 변경\n",
    "ca_y_train = to_categorical(y_train)\n",
    "ca_y_test = to_categorical(y_test)\n",
    "\n",
    "# 훈련/테스트 데이터를 0.7 / 0.3의 비율로 분리\n",
    "# -> 기존의 re_x_train, ca_y_train을 각각 re_x_train(7) : re_x_val(3), ca_y_train(7) : ca_y_cal(3) 으로 분리함\n",
    "re_x_train, re_x_val, ca_y_train, ca_y_val = train_test_split(re_x_train, ca_y_train,\n",
    "                                                             test_size = 0.3,\n",
    "                                                             random_state = 777)"
   ]
  },
  {
   "cell_type": "markdown",
   "metadata": {},
   "source": [
    "### 모델 입력을 위한 전처리\n",
    "\n",
    "- 신경망은 입력 데이터의 스케일에 매우 민감하므로 적절한 전처리 과정이 필수\n",
    "    - 그래디언트 손실(Gradient Vanishing)과 그대리언트 폭발(Gradient Exploding)로 인해 학습이 진행되지 않는 현상을 방지하기 위함\n",
    "- (28 X 28) 2차 배열을 1차원으로 변환\n",
    "- 2차 배열이 몇 쌍인지를 의미하는 변수\n",
    "- gif라는 이미지는 팔레트(색깔)가 0-255 범위 안에 존재한다. 한 픽셀 안에 들어가는 색의 값이 0-255라는 뜻."
   ]
  },
  {
   "cell_type": "code",
   "execution_count": 13,
   "metadata": {},
   "outputs": [
    {
     "name": "stdout",
     "output_type": "stream",
     "text": [
      "42000\n",
      "18000\n",
      "10000\n"
     ]
    }
   ],
   "source": [
    "num_x_train = re_x_train.shape[0]\n",
    "num_x_val = re_x_val.shape[0]\n",
    "num_x_test = x_test.shape[0]\n",
    "print(num_x_train)\n",
    "print(num_x_val)\n",
    "print(num_x_test)"
   ]
  },
  {
   "cell_type": "markdown",
   "metadata": {},
   "source": [
    "### 모델 구성하기 -> Dense층 여러 개 쌓기\n",
    "- Dense층이 많아질수록 정확성은 좋아지지만 속도가 떨어진다. \n",
    "- 여기에 최적화된 층을 쌓는 것은 여러번의 실험을 통해 내가 최적화를 시켜야 한다.\n",
    "- Dense층을 어떻게 구성해야 할 지를 모르겠으면 마지막 층만 두고 나머지는 다 relu로 시도해본다. 요즘 유행하는 활성함수가 relu"
   ]
  },
  {
   "cell_type": "code",
   "execution_count": 16,
   "metadata": {},
   "outputs": [],
   "source": [
    "model = Sequential()\n",
    "model.add(Flatten(input_shape = (28, 28)))\n",
    "# Dense층의 첫 번째 층은 항상 입력 데이터의 형태(input_shape)를 꼭 명시해야 한다.\n",
    "# -> 784차원의 데이터를 입력으로 받고, 64개의 출력을 가지는 첫 번째 Dense 층\n",
    "\n",
    "model.add(Dense(64, activation = 'relu')) # input_shape 부분 삭제 - 위에서 Flatten으로 실행함\n",
    "model.add(Dense(32, activation = 'relu')) # 32개의 출력을 가지는 Dense층\n",
    "model.add(Dense(10, activation = 'softmax')) # 10개의 출력을 가지는 신경망"
   ]
  },
  {
   "cell_type": "markdown",
   "metadata": {},
   "source": [
    "### 학습과정 설정하기 --> 옵티마이저, 손실함수, 평가지표 설정\n",
    "다중 분류 무제에서의 손실함수는 'categoriacl_crossentropy' 사용\n",
    "- 정보 이론에서 파생된 함수\n",
    "- 실제값과 예측값이 같은 값을 갖는 방향으로 학습된다.\n",
    "- 실제값과 예측값이 다를 결우 무한대로 발산하게 되고 동일한 경우는 0으로 수렴한다. (로그함수의 특징을 따름)\n",
    "- 옵티마이저를 어떻게 설정할 지 잘 모르겠으면 adam을 쓴다. 프로그램이 자동으로 설정하도록 맡겨버리는 것!"
   ]
  },
  {
   "cell_type": "code",
   "execution_count": 17,
   "metadata": {},
   "outputs": [],
   "source": [
    "# adam 옵티마이저 사용 --> 학습률이 0.001로 기본 설정되어 있음.\n",
    "model.compile(optimizer = 'adam', # 옵티마이저 : Adam\n",
    "             loss = 'categorical_crossentropy', # 손실 함수: categorical_crossentropy\n",
    "             metrics = ['acc'])  # 모니터링할 평가지표: acc"
   ]
  },
  {
   "cell_type": "markdown",
   "metadata": {},
   "source": [
    "### 모델 학습하기\n",
    "- epoch --> 30회 반복(정확도에 비례함, 속도에 반비례함)\n",
    "- validation_data 파라미터에 검증 데이터 전달 -> 매 애폭의 끝에서 학습주인 모델에 대한 검증을 수행한다."
   ]
  },
  {
   "cell_type": "code",
   "execution_count": 18,
   "metadata": {
    "collapsed": true,
    "jupyter": {
     "outputs_hidden": true
    }
   },
   "outputs": [
    {
     "name": "stdout",
     "output_type": "stream",
     "text": [
      "Epoch 1/30\n",
      "329/329 [==============================] - 1s 2ms/step - loss: 0.4721 - acc: 0.8689 - val_loss: 0.2438 - val_acc: 0.9312\n",
      "Epoch 2/30\n",
      "329/329 [==============================] - 0s 1ms/step - loss: 0.1985 - acc: 0.9435 - val_loss: 0.1817 - val_acc: 0.9472\n",
      "Epoch 3/30\n",
      "329/329 [==============================] - 1s 2ms/step - loss: 0.1497 - acc: 0.9550 - val_loss: 0.1516 - val_acc: 0.9557\n",
      "Epoch 4/30\n",
      "329/329 [==============================] - 1s 2ms/step - loss: 0.1198 - acc: 0.9651 - val_loss: 0.1321 - val_acc: 0.9622\n",
      "Epoch 5/30\n",
      "329/329 [==============================] - 0s 1ms/step - loss: 0.1009 - acc: 0.9705 - val_loss: 0.1281 - val_acc: 0.9632\n",
      "Epoch 6/30\n",
      "329/329 [==============================] - 0s 2ms/step - loss: 0.0877 - acc: 0.9741 - val_loss: 0.1149 - val_acc: 0.9659\n",
      "Epoch 7/30\n",
      "329/329 [==============================] - 1s 2ms/step - loss: 0.0759 - acc: 0.9771 - val_loss: 0.1168 - val_acc: 0.9646\n",
      "Epoch 8/30\n",
      "329/329 [==============================] - 0s 1ms/step - loss: 0.0674 - acc: 0.9795 - val_loss: 0.1079 - val_acc: 0.9672\n",
      "Epoch 9/30\n",
      "329/329 [==============================] - 0s 1ms/step - loss: 0.0584 - acc: 0.9823 - val_loss: 0.1136 - val_acc: 0.9674\n",
      "Epoch 10/30\n",
      "329/329 [==============================] - 0s 1ms/step - loss: 0.0518 - acc: 0.9848 - val_loss: 0.1075 - val_acc: 0.9677\n",
      "Epoch 11/30\n",
      "329/329 [==============================] - 0s 1ms/step - loss: 0.0473 - acc: 0.9856 - val_loss: 0.1222 - val_acc: 0.9661\n",
      "Epoch 12/30\n",
      "329/329 [==============================] - 0s 1ms/step - loss: 0.0398 - acc: 0.9880 - val_loss: 0.1202 - val_acc: 0.9663\n",
      "Epoch 13/30\n",
      "329/329 [==============================] - 0s 1ms/step - loss: 0.0361 - acc: 0.9893 - val_loss: 0.1101 - val_acc: 0.9691\n",
      "Epoch 14/30\n",
      "329/329 [==============================] - 0s 1ms/step - loss: 0.0307 - acc: 0.9912 - val_loss: 0.1095 - val_acc: 0.9694\n",
      "Epoch 15/30\n",
      "329/329 [==============================] - 0s 1ms/step - loss: 0.0266 - acc: 0.9924 - val_loss: 0.1197 - val_acc: 0.9670\n",
      "Epoch 16/30\n",
      "329/329 [==============================] - 1s 2ms/step - loss: 0.0255 - acc: 0.9927 - val_loss: 0.1203 - val_acc: 0.9668\n",
      "Epoch 17/30\n",
      "329/329 [==============================] - 0s 1ms/step - loss: 0.0218 - acc: 0.9936 - val_loss: 0.1201 - val_acc: 0.9679\n",
      "Epoch 18/30\n",
      "329/329 [==============================] - 0s 1ms/step - loss: 0.0189 - acc: 0.9945 - val_loss: 0.1153 - val_acc: 0.9707\n",
      "Epoch 19/30\n",
      "329/329 [==============================] - 0s 1ms/step - loss: 0.0166 - acc: 0.9958 - val_loss: 0.1319 - val_acc: 0.9677\n",
      "Epoch 20/30\n",
      "329/329 [==============================] - 1s 2ms/step - loss: 0.0150 - acc: 0.9957 - val_loss: 0.1330 - val_acc: 0.9671\n",
      "Epoch 21/30\n",
      "329/329 [==============================] - 0s 1ms/step - loss: 0.0127 - acc: 0.9970 - val_loss: 0.1319 - val_acc: 0.9684\n",
      "Epoch 22/30\n",
      "329/329 [==============================] - 0s 1ms/step - loss: 0.0126 - acc: 0.9969 - val_loss: 0.1282 - val_acc: 0.9708\n",
      "Epoch 23/30\n",
      "329/329 [==============================] - 0s 1ms/step - loss: 0.0120 - acc: 0.9966 - val_loss: 0.1347 - val_acc: 0.9692\n",
      "Epoch 24/30\n",
      "329/329 [==============================] - 0s 1ms/step - loss: 0.0097 - acc: 0.9974 - val_loss: 0.1340 - val_acc: 0.9703\n",
      "Epoch 25/30\n",
      "329/329 [==============================] - 0s 1ms/step - loss: 0.0079 - acc: 0.9983 - val_loss: 0.1433 - val_acc: 0.9682\n",
      "Epoch 26/30\n",
      "329/329 [==============================] - 0s 1ms/step - loss: 0.0069 - acc: 0.9986 - val_loss: 0.1417 - val_acc: 0.9694\n",
      "Epoch 27/30\n",
      "329/329 [==============================] - 0s 1ms/step - loss: 0.0105 - acc: 0.9968 - val_loss: 0.1477 - val_acc: 0.9691\n",
      "Epoch 28/30\n",
      "329/329 [==============================] - 0s 1ms/step - loss: 0.0106 - acc: 0.9969 - val_loss: 0.1617 - val_acc: 0.9666\n",
      "Epoch 29/30\n",
      "329/329 [==============================] - 0s 1ms/step - loss: 0.0065 - acc: 0.9983 - val_loss: 0.1528 - val_acc: 0.9698\n",
      "Epoch 30/30\n",
      "329/329 [==============================] - 0s 1ms/step - loss: 0.0057 - acc: 0.9987 - val_loss: 0.1585 - val_acc: 0.9687\n"
     ]
    }
   ],
   "source": [
    "result = model.fit(re_x_train, ca_y_train,\n",
    "                   epochs = 30, \n",
    "                   batch_size = 128,\n",
    "                   validation_data = (re_x_val, ca_y_val))"
   ]
  },
  {
   "cell_type": "markdown",
   "metadata": {},
   "source": [
    "### history를 통해 확인해볼 수 있는 값 출력하기"
   ]
  },
  {
   "cell_type": "code",
   "execution_count": 19,
   "metadata": {},
   "outputs": [
    {
     "data": {
      "text/plain": [
       "dict_keys(['loss', 'acc', 'val_loss', 'val_acc'])"
      ]
     },
     "execution_count": 19,
     "metadata": {},
     "output_type": "execute_result"
    }
   ],
   "source": [
    "# 학습결과(학습 데이터, 검증 데이터, 손실값, 평가지표)를 dictionary로 저장하고 있다.\n",
    "k = result.history.keys()\n",
    "k"
   ]
  },
  {
   "cell_type": "markdown",
   "metadata": {},
   "source": [
    "### 학습 결과 DataFrame 생성하기"
   ]
  },
  {
   "cell_type": "code",
   "execution_count": 20,
   "metadata": {},
   "outputs": [
    {
     "data": {
      "text/html": [
       "<div>\n",
       "<style scoped>\n",
       "    .dataframe tbody tr th:only-of-type {\n",
       "        vertical-align: middle;\n",
       "    }\n",
       "\n",
       "    .dataframe tbody tr th {\n",
       "        vertical-align: top;\n",
       "    }\n",
       "\n",
       "    .dataframe thead th {\n",
       "        text-align: right;\n",
       "    }\n",
       "</style>\n",
       "<table border=\"1\" class=\"dataframe\">\n",
       "  <thead>\n",
       "    <tr style=\"text-align: right;\">\n",
       "      <th></th>\n",
       "      <th>loss</th>\n",
       "      <th>acc</th>\n",
       "      <th>val_loss</th>\n",
       "      <th>val_acc</th>\n",
       "    </tr>\n",
       "  </thead>\n",
       "  <tbody>\n",
       "    <tr>\n",
       "      <th>0</th>\n",
       "      <td>0.472090</td>\n",
       "      <td>0.868857</td>\n",
       "      <td>0.243847</td>\n",
       "      <td>0.931167</td>\n",
       "    </tr>\n",
       "    <tr>\n",
       "      <th>1</th>\n",
       "      <td>0.198530</td>\n",
       "      <td>0.943548</td>\n",
       "      <td>0.181689</td>\n",
       "      <td>0.947167</td>\n",
       "    </tr>\n",
       "    <tr>\n",
       "      <th>2</th>\n",
       "      <td>0.149702</td>\n",
       "      <td>0.955048</td>\n",
       "      <td>0.151625</td>\n",
       "      <td>0.955667</td>\n",
       "    </tr>\n",
       "    <tr>\n",
       "      <th>3</th>\n",
       "      <td>0.119791</td>\n",
       "      <td>0.965119</td>\n",
       "      <td>0.132073</td>\n",
       "      <td>0.962222</td>\n",
       "    </tr>\n",
       "    <tr>\n",
       "      <th>4</th>\n",
       "      <td>0.100898</td>\n",
       "      <td>0.970452</td>\n",
       "      <td>0.128097</td>\n",
       "      <td>0.963167</td>\n",
       "    </tr>\n",
       "    <tr>\n",
       "      <th>5</th>\n",
       "      <td>0.087722</td>\n",
       "      <td>0.974119</td>\n",
       "      <td>0.114911</td>\n",
       "      <td>0.965889</td>\n",
       "    </tr>\n",
       "    <tr>\n",
       "      <th>6</th>\n",
       "      <td>0.075922</td>\n",
       "      <td>0.977143</td>\n",
       "      <td>0.116846</td>\n",
       "      <td>0.964556</td>\n",
       "    </tr>\n",
       "    <tr>\n",
       "      <th>7</th>\n",
       "      <td>0.067435</td>\n",
       "      <td>0.979476</td>\n",
       "      <td>0.107908</td>\n",
       "      <td>0.967167</td>\n",
       "    </tr>\n",
       "    <tr>\n",
       "      <th>8</th>\n",
       "      <td>0.058357</td>\n",
       "      <td>0.982262</td>\n",
       "      <td>0.113591</td>\n",
       "      <td>0.967444</td>\n",
       "    </tr>\n",
       "    <tr>\n",
       "      <th>9</th>\n",
       "      <td>0.051826</td>\n",
       "      <td>0.984762</td>\n",
       "      <td>0.107538</td>\n",
       "      <td>0.967667</td>\n",
       "    </tr>\n",
       "    <tr>\n",
       "      <th>10</th>\n",
       "      <td>0.047256</td>\n",
       "      <td>0.985595</td>\n",
       "      <td>0.122191</td>\n",
       "      <td>0.966111</td>\n",
       "    </tr>\n",
       "    <tr>\n",
       "      <th>11</th>\n",
       "      <td>0.039774</td>\n",
       "      <td>0.987976</td>\n",
       "      <td>0.120212</td>\n",
       "      <td>0.966278</td>\n",
       "    </tr>\n",
       "    <tr>\n",
       "      <th>12</th>\n",
       "      <td>0.036052</td>\n",
       "      <td>0.989286</td>\n",
       "      <td>0.110129</td>\n",
       "      <td>0.969111</td>\n",
       "    </tr>\n",
       "    <tr>\n",
       "      <th>13</th>\n",
       "      <td>0.030685</td>\n",
       "      <td>0.991238</td>\n",
       "      <td>0.109528</td>\n",
       "      <td>0.969389</td>\n",
       "    </tr>\n",
       "    <tr>\n",
       "      <th>14</th>\n",
       "      <td>0.026619</td>\n",
       "      <td>0.992357</td>\n",
       "      <td>0.119719</td>\n",
       "      <td>0.967000</td>\n",
       "    </tr>\n",
       "    <tr>\n",
       "      <th>15</th>\n",
       "      <td>0.025550</td>\n",
       "      <td>0.992691</td>\n",
       "      <td>0.120336</td>\n",
       "      <td>0.966833</td>\n",
       "    </tr>\n",
       "    <tr>\n",
       "      <th>16</th>\n",
       "      <td>0.021790</td>\n",
       "      <td>0.993643</td>\n",
       "      <td>0.120120</td>\n",
       "      <td>0.967889</td>\n",
       "    </tr>\n",
       "    <tr>\n",
       "      <th>17</th>\n",
       "      <td>0.018946</td>\n",
       "      <td>0.994548</td>\n",
       "      <td>0.115275</td>\n",
       "      <td>0.970722</td>\n",
       "    </tr>\n",
       "    <tr>\n",
       "      <th>18</th>\n",
       "      <td>0.016557</td>\n",
       "      <td>0.995762</td>\n",
       "      <td>0.131855</td>\n",
       "      <td>0.967667</td>\n",
       "    </tr>\n",
       "    <tr>\n",
       "      <th>19</th>\n",
       "      <td>0.014989</td>\n",
       "      <td>0.995714</td>\n",
       "      <td>0.133035</td>\n",
       "      <td>0.967056</td>\n",
       "    </tr>\n",
       "    <tr>\n",
       "      <th>20</th>\n",
       "      <td>0.012664</td>\n",
       "      <td>0.996952</td>\n",
       "      <td>0.131950</td>\n",
       "      <td>0.968389</td>\n",
       "    </tr>\n",
       "    <tr>\n",
       "      <th>21</th>\n",
       "      <td>0.012639</td>\n",
       "      <td>0.996881</td>\n",
       "      <td>0.128218</td>\n",
       "      <td>0.970778</td>\n",
       "    </tr>\n",
       "    <tr>\n",
       "      <th>22</th>\n",
       "      <td>0.012008</td>\n",
       "      <td>0.996619</td>\n",
       "      <td>0.134676</td>\n",
       "      <td>0.969167</td>\n",
       "    </tr>\n",
       "    <tr>\n",
       "      <th>23</th>\n",
       "      <td>0.009691</td>\n",
       "      <td>0.997405</td>\n",
       "      <td>0.134029</td>\n",
       "      <td>0.970333</td>\n",
       "    </tr>\n",
       "    <tr>\n",
       "      <th>24</th>\n",
       "      <td>0.007911</td>\n",
       "      <td>0.998262</td>\n",
       "      <td>0.143327</td>\n",
       "      <td>0.968167</td>\n",
       "    </tr>\n",
       "    <tr>\n",
       "      <th>25</th>\n",
       "      <td>0.006885</td>\n",
       "      <td>0.998595</td>\n",
       "      <td>0.141719</td>\n",
       "      <td>0.969389</td>\n",
       "    </tr>\n",
       "    <tr>\n",
       "      <th>26</th>\n",
       "      <td>0.010493</td>\n",
       "      <td>0.996833</td>\n",
       "      <td>0.147703</td>\n",
       "      <td>0.969111</td>\n",
       "    </tr>\n",
       "    <tr>\n",
       "      <th>27</th>\n",
       "      <td>0.010617</td>\n",
       "      <td>0.996905</td>\n",
       "      <td>0.161727</td>\n",
       "      <td>0.966556</td>\n",
       "    </tr>\n",
       "    <tr>\n",
       "      <th>28</th>\n",
       "      <td>0.006540</td>\n",
       "      <td>0.998286</td>\n",
       "      <td>0.152787</td>\n",
       "      <td>0.969778</td>\n",
       "    </tr>\n",
       "    <tr>\n",
       "      <th>29</th>\n",
       "      <td>0.005737</td>\n",
       "      <td>0.998690</td>\n",
       "      <td>0.158515</td>\n",
       "      <td>0.968722</td>\n",
       "    </tr>\n",
       "  </tbody>\n",
       "</table>\n",
       "</div>"
      ],
      "text/plain": [
       "        loss       acc  val_loss   val_acc\n",
       "0   0.472090  0.868857  0.243847  0.931167\n",
       "1   0.198530  0.943548  0.181689  0.947167\n",
       "2   0.149702  0.955048  0.151625  0.955667\n",
       "3   0.119791  0.965119  0.132073  0.962222\n",
       "4   0.100898  0.970452  0.128097  0.963167\n",
       "5   0.087722  0.974119  0.114911  0.965889\n",
       "6   0.075922  0.977143  0.116846  0.964556\n",
       "7   0.067435  0.979476  0.107908  0.967167\n",
       "8   0.058357  0.982262  0.113591  0.967444\n",
       "9   0.051826  0.984762  0.107538  0.967667\n",
       "10  0.047256  0.985595  0.122191  0.966111\n",
       "11  0.039774  0.987976  0.120212  0.966278\n",
       "12  0.036052  0.989286  0.110129  0.969111\n",
       "13  0.030685  0.991238  0.109528  0.969389\n",
       "14  0.026619  0.992357  0.119719  0.967000\n",
       "15  0.025550  0.992691  0.120336  0.966833\n",
       "16  0.021790  0.993643  0.120120  0.967889\n",
       "17  0.018946  0.994548  0.115275  0.970722\n",
       "18  0.016557  0.995762  0.131855  0.967667\n",
       "19  0.014989  0.995714  0.133035  0.967056\n",
       "20  0.012664  0.996952  0.131950  0.968389\n",
       "21  0.012639  0.996881  0.128218  0.970778\n",
       "22  0.012008  0.996619  0.134676  0.969167\n",
       "23  0.009691  0.997405  0.134029  0.970333\n",
       "24  0.007911  0.998262  0.143327  0.968167\n",
       "25  0.006885  0.998595  0.141719  0.969389\n",
       "26  0.010493  0.996833  0.147703  0.969111\n",
       "27  0.010617  0.996905  0.161727  0.966556\n",
       "28  0.006540  0.998286  0.152787  0.969778\n",
       "29  0.005737  0.998690  0.158515  0.968722"
      ]
     },
     "execution_count": 20,
     "metadata": {},
     "output_type": "execute_result"
    }
   ],
   "source": [
    "result_df = DataFrame(result.history, columns = k)\n",
    "# 이 데이터를 시각화 하거나, 엑셀 혹은 DataBase에 저장 가능하다.\n",
    "result_df"
   ]
  },
  {
   "cell_type": "markdown",
   "metadata": {},
   "source": [
    "### 학습 결과 그려보기"
   ]
  },
  {
   "cell_type": "code",
   "execution_count": 21,
   "metadata": {},
   "outputs": [
    {
     "data": {
      "image/png": "[encoded data removed]",
      "text/plain": [
       "<Figure size 1008x360 with 2 Axes>"
      ]
     },
     "metadata": {
      "needs_background": "light"
     },
     "output_type": "display_data"
    }
   ],
   "source": [
    "plt.rcParams['font.family'] = 'NanumGothic'\n",
    "plt.rcParams['font.size'] = 16\n",
    "plt.rcParams['figure.figsize'] = (14, 5)\n",
    "\n",
    "# 그래프를 그리기 위한 객체 생성\n",
    "fig = plt.figure()\n",
    "\n",
    "# 1) 훈련 및 검증 손실 그리기\n",
    "\n",
    "# 훈련 손실률 (y축)\n",
    "loss = result.history['loss']\n",
    "# 검증 손실률 (y축)\n",
    "val_loss = result.history['val_loss']\n",
    "\n",
    "# 학습회차 (1부터 길이 + 1 전까지) --> x축으로 사용\n",
    "epochs = range(1, len(loss) + 1)\n",
    "\n",
    "# 첫 번째 그래프\n",
    "ax1 = fig.add_subplot(1, 2, 1)\n",
    "ax1.plot(epochs, loss, color = 'blue', label = '훈련 손실률')\n",
    "ax1.plot(epochs, val_loss, color = 'orange', label = '검증 손실률')\n",
    "ax1.set_title('훈련 및 검증 손실률')\n",
    "ax1.set_xlabel('반복회차')\n",
    "ax1.set_ylabel('손실률')\n",
    "ax1.legend()\n",
    "\n",
    "# 2) 훈련 및 검증 정확도 그리기\n",
    "\n",
    "# 훈련 정확도 (y축)\n",
    "acc = result.history['acc']\n",
    "# 검증 정확도 (y축)\n",
    "val_acc = result.history['val_acc']\n",
    "\n",
    "# 첫 번째 그래프\n",
    "ax2 = fig.add_subplot(1, 2, 2)\n",
    "ax2.plot(epochs, acc, color = 'blue', label = '훈련 정확도')\n",
    "ax2.plot(epochs, val_acc, color = 'orange', label = '검증 정확도')\n",
    "ax2.set_title('훈련 및 검증 정확도')\n",
    "ax2.set_xlabel('반복회차')\n",
    "ax2.set_ylabel('손실률')\n",
    "ax2.legend()\n",
    "\n",
    "plt.show()"
   ]
  },
  {
   "cell_type": "markdown",
   "metadata": {},
   "source": [
    "### 그래프 설명\n",
    "\n",
    "- 과대적합 --> 대략 '5에폭'까지는 올바르게 학습되고 있지만, 그 이후에는 두 그래프가 점점 벌어진다.\n",
    "- 데이터 특성, 모델 구조 등을 수정해보고 재학습시키는 방법이 있지만 먼저 과대적합이 진행되기 전까지의 모델을 사용하여 결과를 확인해보고 기록해두는 것이 좋다. (여기서는 큰 문제가 되지 않으므로 그냥 진행한다.)"
   ]
  },
  {
   "cell_type": "code",
   "execution_count": 22,
   "metadata": {},
   "outputs": [
    {
     "name": "stdout",
     "output_type": "stream",
     "text": [
      "313/313 [==============================] - 0s 602us/step - loss: 0.1438 - acc: 0.9698\n"
     ]
    },
    {
     "data": {
      "text/plain": [
       "[0.14378641545772552, 0.9697999954223633]"
      ]
     },
     "execution_count": 22,
     "metadata": {},
     "output_type": "execute_result"
    }
   ],
   "source": [
    "# 모델 평가하기 --> 최종 손실값과 정확도가 출력된다.\n",
    "model.evaluate(re_x_test, ca_y_test)"
   ]
  },
  {
   "cell_type": "markdown",
   "metadata": {},
   "source": [
    "### 학습된 모델을 통해 값 예측하기"
   ]
  },
  {
   "cell_type": "code",
   "execution_count": 23,
   "metadata": {},
   "outputs": [
    {
     "name": "stdout",
     "output_type": "stream",
     "text": [
      "(10000, 10)\n"
     ]
    }
   ],
   "source": [
    "# set_printoptions -> 출력 옵션 변경 함수.\n",
    "# precision --> 소수점 자리수를 의미\n",
    "np.set_printoptions(precision = 7) # numpy 소수점 제한\n",
    "\n",
    "results = model.predict(re_x_test)\n",
    "\n",
    "print(results.shape)"
   ]
  },
  {
   "cell_type": "code",
   "execution_count": 24,
   "metadata": {},
   "outputs": [
    {
     "name": "stdout",
     "output_type": "stream",
     "text": [
      "10000개의 검증 데이터가 10개의 경우의 수를 갖는다.\n"
     ]
    }
   ],
   "source": [
    "data_count, case_count = results.shape\n",
    "print('%d개의 검증 데이터가 %d개의 경우의 수를 갖는다.' % (data_count, case_count))"
   ]
  },
  {
   "cell_type": "code",
   "execution_count": 25,
   "metadata": {},
   "outputs": [
    {
     "data": {
      "text/plain": [
       "array([[3.5432357e-08, 1.4011970e-12, 3.1923584e-08, ..., 9.9971706e-01,\n",
       "        2.6218885e-08, 2.8217238e-04],\n",
       "       [7.3328726e-14, 5.2564808e-08, 1.0000000e+00, ..., 6.2914028e-22,\n",
       "        1.2889507e-18, 2.5554975e-24],\n",
       "       [1.8024423e-09, 9.9992335e-01, 1.3959620e-05, ..., 3.2072468e-05,\n",
       "        6.2157085e-07, 2.0282989e-10],\n",
       "       ...,\n",
       "       [4.8814154e-20, 1.1398151e-13, 1.4311383e-24, ..., 2.0632469e-12,\n",
       "        9.0010128e-17, 3.5851089e-11],\n",
       "       [2.1608528e-17, 1.2632379e-20, 2.5126894e-20, ..., 2.6480372e-17,\n",
       "        2.3024902e-09, 1.0057546e-21],\n",
       "       [1.0409065e-16, 8.1746933e-16, 5.0934228e-20, ..., 3.8022409e-22,\n",
       "        3.7342116e-20, 1.3067222e-13]], dtype=float32)"
      ]
     },
     "execution_count": 25,
     "metadata": {},
     "output_type": "execute_result"
    }
   ],
   "source": [
    "# 각각의 검증 데이터가 각 경우의 수에 속할 확률\n",
    "# 각각의 레이블(숫자 0 ~ 9 : 카테고리 1 ~ 10) 중 각각의 레이블에 속할 확률을 나타낸 것\n",
    "results"
   ]
  },
  {
   "cell_type": "code",
   "execution_count": 26,
   "metadata": {},
   "outputs": [
    {
     "data": {
      "text/plain": [
       "array([7, 2, 1, ..., 4, 5, 6], dtype=int64)"
      ]
     },
     "execution_count": 26,
     "metadata": {},
     "output_type": "execute_result"
    }
   ],
   "source": [
    "# 가장 큰 확률 값의 인덱스 리스트\n",
    "arg_results = np.argmax(results, axis = -1)\n",
    "arg_results"
   ]
  },
  {
   "cell_type": "code",
   "execution_count": 27,
   "metadata": {},
   "outputs": [
    {
     "data": {
      "image/png": "[encoded data removed]",
      "text/plain": [
       "<Figure size 1008x360 with 1 Axes>"
      ]
     },
     "metadata": {
      "needs_background": "light"
     },
     "output_type": "display_data"
    },
    {
     "data": {
      "image/png": "[encoded data removed]",
      "text/plain": [
       "<Figure size 1008x360 with 1 Axes>"
      ]
     },
     "metadata": {
      "needs_background": "light"
     },
     "output_type": "display_data"
    },
    {
     "data": {
      "image/png": "[encoded data removed]",
      "text/plain": [
       "<Figure size 1008x360 with 1 Axes>"
      ]
     },
     "metadata": {
      "needs_background": "light"
     },
     "output_type": "display_data"
    },
    {
     "data": {
      "image/png": "[encoded data removed]",
      "text/plain": [
       "<Figure size 1008x360 with 1 Axes>"
      ]
     },
     "metadata": {
      "needs_background": "light"
     },
     "output_type": "display_data"
    },
    {
     "data": {
      "image/png": "[encoded data removed]",
      "text/plain": [
       "<Figure size 1008x360 with 1 Axes>"
      ]
     },
     "metadata": {
      "needs_background": "light"
     },
     "output_type": "display_data"
    },
    {
     "data": {
      "image/png": "[encoded data removed]",
      "text/plain": [
       "<Figure size 1008x360 with 1 Axes>"
      ]
     },
     "metadata": {
      "needs_background": "light"
     },
     "output_type": "display_data"
    },
    {
     "data": {
      "image/png": "[encoded data removed]",
      "text/plain": [
       "<Figure size 1008x360 with 1 Axes>"
      ]
     },
     "metadata": {
      "needs_background": "light"
     },
     "output_type": "display_data"
    },
    {
     "data": {
      "image/png": "[encoded data removed]",
      "text/plain": [
       "<Figure size 1008x360 with 1 Axes>"
      ]
     },
     "metadata": {
      "needs_background": "light"
     },
     "output_type": "display_data"
    },
    {
     "data": {
      "image/png": "[encoded data removed]",
      "text/plain": [
       "<Figure size 1008x360 with 1 Axes>"
      ]
     },
     "metadata": {
      "needs_background": "light"
     },
     "output_type": "display_data"
    },
    {
     "data": {
      "image/png": "[encoded data removed]",
      "text/plain": [
       "<Figure size 1008x360 with 1 Axes>"
      ]
     },
     "metadata": {
      "needs_background": "light"
     },
     "output_type": "display_data"
    },
    {
     "data": {
      "image/png": "[encoded data removed]",
      "text/plain": [
       "<Figure size 1008x360 with 1 Axes>"
      ]
     },
     "metadata": {
      "needs_background": "light"
     },
     "output_type": "display_data"
    },
    {
     "data": {
      "image/png": "[encoded data removed]",
      "text/plain": [
       "<Figure size 1008x360 with 1 Axes>"
      ]
     },
     "metadata": {
      "needs_background": "light"
     },
     "output_type": "display_data"
    }
   ],
   "source": [
    "# 예측값 그려서 확인해보기\n",
    "for i, v in enumerate(arg_results):\n",
    "    plt.imshow(x_test[i].reshape(28, 28))\n",
    "    plt.title('예측값: ' + str(v))\n",
    "    plt.show()\n",
    "    \n",
    "    if i > 10:\n",
    "        break"
   ]
  },
  {
   "cell_type": "markdown",
   "metadata": {},
   "source": [
    "### 모델 평가 방법 1 : 혼동 행렬\n",
    "- 숫자가 골고루 퍼져 있을수록 혼란스러워함을 의미"
   ]
  },
  {
   "cell_type": "code",
   "execution_count": 28,
   "metadata": {},
   "outputs": [
    {
     "data": {
      "text/plain": [
       "array([[ 968,    0,    0,    0,    0,    2,    3,    3,    1,    3],\n",
       "       [   0, 1121,    2,    1,    0,    1,    5,    2,    3,    0],\n",
       "       [   3,    0, 1006,   10,    2,    0,    2,    6,    3,    0],\n",
       "       [   0,    0,    4,  990,    1,    3,    0,    7,    2,    3],\n",
       "       [   1,    0,    3,    0,  952,    0,    4,    3,    1,   18],\n",
       "       [   3,    0,    0,   23,    2,  852,    4,    3,    4,    1],\n",
       "       [   7,    3,    2,    0,    6,    7,  931,    1,    1,    0],\n",
       "       [   1,    4,   11,    8,    3,    0,    0,  988,    4,    9],\n",
       "       [   4,    0,    5,   25,    5,    7,    3,    6,  913,    6],\n",
       "       [   2,    2,    0,    7,   10,    2,    0,    6,    3,  977]],\n",
       "      dtype=int64)"
      ]
     },
     "execution_count": 28,
     "metadata": {},
     "output_type": "execute_result"
    }
   ],
   "source": [
    "# 예측데이터(ca_y_test)를 x축으로, 결과 데이터(results)를 y축으로 놓는 오차행렬(confusion_matrix) 생성하기\n",
    "cm = confusion_matrix(np.argmax(ca_y_test, axis = -1), np.argmax(results, axis = -1))\n",
    "cm"
   ]
  },
  {
   "cell_type": "code",
   "execution_count": 29,
   "metadata": {},
   "outputs": [
    {
     "data": {
      "image/png": "[encoded data removed]",
      "text/plain": [
       "<Figure size 720x720 with 2 Axes>"
      ]
     },
     "metadata": {
      "needs_background": "light"
     },
     "output_type": "display_data"
    }
   ],
   "source": [
    "# 오차행렬 시각화\n",
    "# 5를 분류할 때 가장 많이 혼란스러워한다.\n",
    "# 오차행렬은 모델의 강점과 약점을 파악하기에 유용하다.\n",
    "\n",
    "plt.rcParams['font.family'] = 'NanumGothic'\n",
    "plt.rcParams['font.size'] = 16\n",
    "plt.rcParams['figure.figsize'] = (10, 10)\n",
    "\n",
    "# 오차행렬을 히트맵 그래프로 표현\n",
    "# -> annot : 그래프의 각 칸에 수치값 출력\n",
    "# -> fmt : 수치값 출력 format (여기서는 10진수)\n",
    "# -> cmap : 색상맵(https://matplotlib.org/3.2.1/tutorials/colors/colormaps.html)\n",
    "sns.heatmap(cm, annot = True, fmt = 'd', cmap = 'Blues')\n",
    "plt.xlabel('예측값')\n",
    "plt.ylabel('결과값')\n",
    "plt.show()"
   ]
  },
  {
   "cell_type": "markdown",
   "metadata": {},
   "source": [
    "### 모델 평가 방법 2 - 분류 보고서"
   ]
  },
  {
   "cell_type": "code",
   "execution_count": 30,
   "metadata": {},
   "outputs": [
    {
     "data": {
      "text/html": [
       "<div>\n",
       "<style scoped>\n",
       "    .dataframe tbody tr th:only-of-type {\n",
       "        vertical-align: middle;\n",
       "    }\n",
       "\n",
       "    .dataframe tbody tr th {\n",
       "        vertical-align: top;\n",
       "    }\n",
       "\n",
       "    .dataframe thead th {\n",
       "        text-align: right;\n",
       "    }\n",
       "</style>\n",
       "<table border=\"1\" class=\"dataframe\">\n",
       "  <thead>\n",
       "    <tr style=\"text-align: right;\">\n",
       "      <th></th>\n",
       "      <th>precision</th>\n",
       "      <th>recall</th>\n",
       "      <th>f1-score</th>\n",
       "      <th>support</th>\n",
       "    </tr>\n",
       "  </thead>\n",
       "  <tbody>\n",
       "    <tr>\n",
       "      <th>0</th>\n",
       "      <td>0.978766</td>\n",
       "      <td>0.987755</td>\n",
       "      <td>0.983240</td>\n",
       "      <td>980.0000</td>\n",
       "    </tr>\n",
       "    <tr>\n",
       "      <th>1</th>\n",
       "      <td>0.992035</td>\n",
       "      <td>0.987665</td>\n",
       "      <td>0.989845</td>\n",
       "      <td>1135.0000</td>\n",
       "    </tr>\n",
       "    <tr>\n",
       "      <th>2</th>\n",
       "      <td>0.973863</td>\n",
       "      <td>0.974806</td>\n",
       "      <td>0.974334</td>\n",
       "      <td>1032.0000</td>\n",
       "    </tr>\n",
       "    <tr>\n",
       "      <th>3</th>\n",
       "      <td>0.930451</td>\n",
       "      <td>0.980198</td>\n",
       "      <td>0.954677</td>\n",
       "      <td>1010.0000</td>\n",
       "    </tr>\n",
       "    <tr>\n",
       "      <th>4</th>\n",
       "      <td>0.970438</td>\n",
       "      <td>0.969450</td>\n",
       "      <td>0.969944</td>\n",
       "      <td>982.0000</td>\n",
       "    </tr>\n",
       "    <tr>\n",
       "      <th>5</th>\n",
       "      <td>0.974828</td>\n",
       "      <td>0.955157</td>\n",
       "      <td>0.964892</td>\n",
       "      <td>892.0000</td>\n",
       "    </tr>\n",
       "    <tr>\n",
       "      <th>6</th>\n",
       "      <td>0.977941</td>\n",
       "      <td>0.971816</td>\n",
       "      <td>0.974869</td>\n",
       "      <td>958.0000</td>\n",
       "    </tr>\n",
       "    <tr>\n",
       "      <th>7</th>\n",
       "      <td>0.963902</td>\n",
       "      <td>0.961089</td>\n",
       "      <td>0.962494</td>\n",
       "      <td>1028.0000</td>\n",
       "    </tr>\n",
       "    <tr>\n",
       "      <th>8</th>\n",
       "      <td>0.976471</td>\n",
       "      <td>0.937372</td>\n",
       "      <td>0.956522</td>\n",
       "      <td>974.0000</td>\n",
       "    </tr>\n",
       "    <tr>\n",
       "      <th>9</th>\n",
       "      <td>0.960669</td>\n",
       "      <td>0.968285</td>\n",
       "      <td>0.964462</td>\n",
       "      <td>1009.0000</td>\n",
       "    </tr>\n",
       "    <tr>\n",
       "      <th>accuracy</th>\n",
       "      <td>0.969800</td>\n",
       "      <td>0.969800</td>\n",
       "      <td>0.969800</td>\n",
       "      <td>0.9698</td>\n",
       "    </tr>\n",
       "    <tr>\n",
       "      <th>macro avg</th>\n",
       "      <td>0.969937</td>\n",
       "      <td>0.969359</td>\n",
       "      <td>0.969528</td>\n",
       "      <td>10000.0000</td>\n",
       "    </tr>\n",
       "    <tr>\n",
       "      <th>weighted avg</th>\n",
       "      <td>0.970061</td>\n",
       "      <td>0.969800</td>\n",
       "      <td>0.969812</td>\n",
       "      <td>10000.0000</td>\n",
       "    </tr>\n",
       "  </tbody>\n",
       "</table>\n",
       "</div>"
      ],
      "text/plain": [
       "              precision    recall  f1-score     support\n",
       "0              0.978766  0.987755  0.983240    980.0000\n",
       "1              0.992035  0.987665  0.989845   1135.0000\n",
       "2              0.973863  0.974806  0.974334   1032.0000\n",
       "3              0.930451  0.980198  0.954677   1010.0000\n",
       "4              0.970438  0.969450  0.969944    982.0000\n",
       "5              0.974828  0.955157  0.964892    892.0000\n",
       "6              0.977941  0.971816  0.974869    958.0000\n",
       "7              0.963902  0.961089  0.962494   1028.0000\n",
       "8              0.976471  0.937372  0.956522    974.0000\n",
       "9              0.960669  0.968285  0.964462   1009.0000\n",
       "accuracy       0.969800  0.969800  0.969800      0.9698\n",
       "macro avg      0.969937  0.969359  0.969528  10000.0000\n",
       "weighted avg   0.970061  0.969800  0.969812  10000.0000"
      ]
     },
     "execution_count": 30,
     "metadata": {},
     "output_type": "execute_result"
    }
   ],
   "source": [
    "report = classification_report(np.argmax(ca_y_test, axis = -1),\n",
    "                              np.argmax(results, axis = -1),\n",
    "                              output_dict = True)\n",
    "DataFrame(report).transpose()"
   ]
  }
 ],
 "metadata": {
  "kernelspec": {
   "display_name": "Python 3",
   "language": "python",
   "name": "python3"
  },
  "language_info": {
   "codemirror_mode": {
    "name": "ipython",
    "version": 3
   },
   "file_extension": ".py",
   "mimetype": "text/x-python",
   "name": "python",
   "nbconvert_exporter": "python",
   "pygments_lexer": "ipython3",
   "version": "3.8.6"
  }
 },
 "nbformat": 4,
 "nbformat_minor": 4
}
