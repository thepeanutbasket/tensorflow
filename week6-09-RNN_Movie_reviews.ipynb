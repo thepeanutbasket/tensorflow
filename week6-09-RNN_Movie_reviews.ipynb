{
 "cells": [
  {
   "cell_type": "markdown",
   "metadata": {},
   "source": [
    "## 09-네이버 영화 리뷰 분류"
   ]
  },
  {
   "cell_type": "code",
   "execution_count": 1,
   "metadata": {},
   "outputs": [],
   "source": [
    "# 필요한 패키지 import\n",
    "import pandas as pd\n",
    "import numpy as np\n",
    "import matplotlib.pyplot as plt\n",
    "import re\n",
    "import urllib.request\n",
    "from konlpy.tag import Okt\n",
    "from tensorflow.keras.preprocessing.text import Tokenizer\n",
    "from tensorflow.keras.preprocessing.sequence import pad_sequences\n",
    "from tensorflow.keras.layers import Embedding, Dense, LSTM\n",
    "from tensorflow.keras.models import Sequential\n",
    "from tensorflow.keras.models import load_model\n",
    "from tensorflow.keras.callbacks import EarlyStopping, ModelCheckpoint"
   ]
  },
  {
   "cell_type": "code",
   "execution_count": 2,
   "metadata": {},
   "outputs": [],
   "source": [
    "# 데이터 로드하기\n",
    "train_data = pd.read_table('ratings_train.txt')\n",
    "test_data = pd.read_table('ratings_test.txt')"
   ]
  },
  {
   "cell_type": "code",
   "execution_count": 3,
   "metadata": {},
   "outputs": [
    {
     "name": "stdout",
     "output_type": "stream",
     "text": [
      "훈련용 리뷰 개수:  50000\n"
     ]
    },
    {
     "data": {
      "text/html": [
       "<div>\n",
       "<style scoped>\n",
       "    .dataframe tbody tr th:only-of-type {\n",
       "        vertical-align: middle;\n",
       "    }\n",
       "\n",
       "    .dataframe tbody tr th {\n",
       "        vertical-align: top;\n",
       "    }\n",
       "\n",
       "    .dataframe thead th {\n",
       "        text-align: right;\n",
       "    }\n",
       "</style>\n",
       "<table border=\"1\" class=\"dataframe\">\n",
       "  <thead>\n",
       "    <tr style=\"text-align: right;\">\n",
       "      <th></th>\n",
       "      <th>id</th>\n",
       "      <th>document</th>\n",
       "      <th>label</th>\n",
       "    </tr>\n",
       "  </thead>\n",
       "  <tbody>\n",
       "    <tr>\n",
       "      <th>0</th>\n",
       "      <td>6270596</td>\n",
       "      <td>굳 ㅋ</td>\n",
       "      <td>1</td>\n",
       "    </tr>\n",
       "    <tr>\n",
       "      <th>1</th>\n",
       "      <td>9274899</td>\n",
       "      <td>GDNTOPCLASSINTHECLUB</td>\n",
       "      <td>0</td>\n",
       "    </tr>\n",
       "    <tr>\n",
       "      <th>2</th>\n",
       "      <td>8544678</td>\n",
       "      <td>뭐야 이 평점들은.... 나쁘진 않지만 10점 짜리는 더더욱 아니잖아</td>\n",
       "      <td>0</td>\n",
       "    </tr>\n",
       "    <tr>\n",
       "      <th>3</th>\n",
       "      <td>6825595</td>\n",
       "      <td>지루하지는 않은데 완전 막장임... 돈주고 보기에는....</td>\n",
       "      <td>0</td>\n",
       "    </tr>\n",
       "    <tr>\n",
       "      <th>4</th>\n",
       "      <td>6723715</td>\n",
       "      <td>3D만 아니었어도 별 다섯 개 줬을텐데.. 왜 3D로 나와서 제 심기를 불편하게 하죠??</td>\n",
       "      <td>0</td>\n",
       "    </tr>\n",
       "  </tbody>\n",
       "</table>\n",
       "</div>"
      ],
      "text/plain": [
       "        id                                           document  label\n",
       "0  6270596                                                굳 ㅋ      1\n",
       "1  9274899                               GDNTOPCLASSINTHECLUB      0\n",
       "2  8544678             뭐야 이 평점들은.... 나쁘진 않지만 10점 짜리는 더더욱 아니잖아      0\n",
       "3  6825595                   지루하지는 않은데 완전 막장임... 돈주고 보기에는....      0\n",
       "4  6723715  3D만 아니었어도 별 다섯 개 줬을텐데.. 왜 3D로 나와서 제 심기를 불편하게 하죠??      0"
      ]
     },
     "execution_count": 3,
     "metadata": {},
     "output_type": "execute_result"
    }
   ],
   "source": [
    "# 훈련데이터 확인\n",
    "print('훈련용 리뷰 개수: ', len(test_data))\n",
    "\n",
    "# 상위 5개 출력\n",
    "test_data.head()"
   ]
  },
  {
   "cell_type": "code",
   "execution_count": 4,
   "metadata": {},
   "outputs": [
    {
     "data": {
      "text/plain": [
       "(146182, 2)"
      ]
     },
     "execution_count": 4,
     "metadata": {},
     "output_type": "execute_result"
    }
   ],
   "source": [
    "# 데이터별 중복 확인\n",
    "train_data['document'].nunique(), train_data['label'].nunique()"
   ]
  },
  {
   "cell_type": "code",
   "execution_count": 5,
   "metadata": {},
   "outputs": [
    {
     "name": "stdout",
     "output_type": "stream",
     "text": [
      "총 샘플의 수:  146183\n"
     ]
    }
   ],
   "source": [
    "# document 컬럼에 대한 중복 데이터 제거\n",
    "train_data.drop_duplicates(subset = ['document'], inplace = True)\n",
    "print('총 샘플의 수: ', len(train_data))"
   ]
  },
  {
   "cell_type": "code",
   "execution_count": 6,
   "metadata": {},
   "outputs": [
    {
     "data": {
      "text/plain": [
       "<AxesSubplot:>"
      ]
     },
     "execution_count": 6,
     "metadata": {},
     "output_type": "execute_result"
    },
    {
     "data": {
      "image/png": "[encoded data removed]",
      "text/plain": [
       "<Figure size 432x288 with 1 Axes>"
      ]
     },
     "metadata": {
      "needs_background": "light"
     },
     "output_type": "display_data"
    }
   ],
   "source": [
    "# 각 리뷰별로 긍정과 부정 비율 확인\n",
    "train_data['label'].value_counts().plot(kind = 'bar')"
   ]
  },
  {
   "cell_type": "code",
   "execution_count": 7,
   "metadata": {},
   "outputs": [
    {
     "data": {
      "text/html": [
       "<div>\n",
       "<style scoped>\n",
       "    .dataframe tbody tr th:only-of-type {\n",
       "        vertical-align: middle;\n",
       "    }\n",
       "\n",
       "    .dataframe tbody tr th {\n",
       "        vertical-align: top;\n",
       "    }\n",
       "\n",
       "    .dataframe thead th {\n",
       "        text-align: right;\n",
       "    }\n",
       "</style>\n",
       "<table border=\"1\" class=\"dataframe\">\n",
       "  <thead>\n",
       "    <tr style=\"text-align: right;\">\n",
       "      <th></th>\n",
       "      <th>label</th>\n",
       "      <th>count</th>\n",
       "    </tr>\n",
       "  </thead>\n",
       "  <tbody>\n",
       "    <tr>\n",
       "      <th>0</th>\n",
       "      <td>0</td>\n",
       "      <td>73342</td>\n",
       "    </tr>\n",
       "    <tr>\n",
       "      <th>1</th>\n",
       "      <td>1</td>\n",
       "      <td>72841</td>\n",
       "    </tr>\n",
       "  </tbody>\n",
       "</table>\n",
       "</div>"
      ],
      "text/plain": [
       "   label  count\n",
       "0      0  73342\n",
       "1      1  72841"
      ]
     },
     "execution_count": 7,
     "metadata": {},
     "output_type": "execute_result"
    }
   ],
   "source": [
    "# 각 리뷰별로 긍정과 부정의 정확한 수치 확인\n",
    "train_data.groupby('label').size().reset_index(name = 'count')"
   ]
  },
  {
   "cell_type": "code",
   "execution_count": 8,
   "metadata": {},
   "outputs": [
    {
     "data": {
      "text/plain": [
       "id          0\n",
       "document    1\n",
       "label       0\n",
       "dtype: int64"
      ]
     },
     "execution_count": 8,
     "metadata": {},
     "output_type": "execute_result"
    }
   ],
   "source": [
    "# 결측치 데이터 확인\n",
    "train_data.isnull().sum()"
   ]
  },
  {
   "cell_type": "code",
   "execution_count": 9,
   "metadata": {},
   "outputs": [
    {
     "data": {
      "text/html": [
       "<div>\n",
       "<style scoped>\n",
       "    .dataframe tbody tr th:only-of-type {\n",
       "        vertical-align: middle;\n",
       "    }\n",
       "\n",
       "    .dataframe tbody tr th {\n",
       "        vertical-align: top;\n",
       "    }\n",
       "\n",
       "    .dataframe thead th {\n",
       "        text-align: right;\n",
       "    }\n",
       "</style>\n",
       "<table border=\"1\" class=\"dataframe\">\n",
       "  <thead>\n",
       "    <tr style=\"text-align: right;\">\n",
       "      <th></th>\n",
       "      <th>id</th>\n",
       "      <th>document</th>\n",
       "      <th>label</th>\n",
       "    </tr>\n",
       "  </thead>\n",
       "  <tbody>\n",
       "    <tr>\n",
       "      <th>25857</th>\n",
       "      <td>2172111</td>\n",
       "      <td>NaN</td>\n",
       "      <td>1</td>\n",
       "    </tr>\n",
       "  </tbody>\n",
       "</table>\n",
       "</div>"
      ],
      "text/plain": [
       "            id document  label\n",
       "25857  2172111      NaN      1"
      ]
     },
     "execution_count": 9,
     "metadata": {},
     "output_type": "execute_result"
    }
   ],
   "source": [
    "# 어떤 리뷰가 비어 있는지 정확하게 확인\n",
    "train_data.loc[train_data.document.isnull()]"
   ]
  },
  {
   "cell_type": "code",
   "execution_count": 10,
   "metadata": {},
   "outputs": [
    {
     "data": {
      "text/plain": [
       "id          0\n",
       "document    0\n",
       "label       0\n",
       "dtype: int64"
      ]
     },
     "execution_count": 10,
     "metadata": {},
     "output_type": "execute_result"
    }
   ],
   "source": [
    "# null데이터를 갖는 행 삭제\n",
    "train_data = train_data.dropna(how = 'any')\n",
    "train_data.isnull().sum()"
   ]
  },
  {
   "cell_type": "code",
   "execution_count": 11,
   "metadata": {},
   "outputs": [],
   "source": [
    "# 정규표현식 사용하여 리뷰글에 한글과 공백만 남겨두고 나머지 제거\n",
    "# -> 영문으로만 작성된 리뷰는 빈 문자열로 변경됨\n",
    "train_data['document'] = train_data['document'].str.replace('[^ㄱ-ㅎㅏ-ㅣ가-힣 ]','')"
   ]
  },
  {
   "cell_type": "code",
   "execution_count": 12,
   "metadata": {},
   "outputs": [
    {
     "data": {
      "text/plain": [
       "id            0\n",
       "document    391\n",
       "label         0\n",
       "dtype: int64"
      ]
     },
     "execution_count": 12,
     "metadata": {},
     "output_type": "execute_result"
    }
   ],
   "source": [
    "# 빈 문자열값은 결측치로 변경\n",
    "train_data['document'].replace('', np.nan, inplace = True)\n",
    "train_data.isnull().sum()"
   ]
  },
  {
   "cell_type": "code",
   "execution_count": 13,
   "metadata": {},
   "outputs": [
    {
     "data": {
      "text/plain": [
       "id          0\n",
       "document    0\n",
       "label       0\n",
       "dtype: int64"
      ]
     },
     "execution_count": 13,
     "metadata": {},
     "output_type": "execute_result"
    }
   ],
   "source": [
    "# 다시 결측치 데이터 삭제\n",
    "train_data = train_data.dropna(how = 'any')\n",
    "train_data.isnull().sum()"
   ]
  },
  {
   "cell_type": "code",
   "execution_count": 14,
   "metadata": {},
   "outputs": [
    {
     "name": "stdout",
     "output_type": "stream",
     "text": [
      "전처리 후 테스트용 샘플의 개수:  48995\n"
     ]
    }
   ],
   "source": [
    "# 같은 과정을 테스트 데이터에도 적용\n",
    "# document 열에서 중복인 내용이 있다면 중복 제거\n",
    "test_data.drop_duplicates(subset = ['document'], inplace = True)\n",
    "\n",
    "# 정규표현식 진행\n",
    "test_data['document'] = test_data['document'].str.replace('[^ㄱ-ㅎㅏ-ㅣ가-힣 ]', '')\n",
    "\n",
    "# 공백은 null 값으로 변경\n",
    "test_data['document'].replace('', np.nan, inplace = True)\n",
    "test_data = test_data.dropna(how = 'any')\n",
    "print('전처리 후 테스트용 샘플의 개수: ', len(test_data))"
   ]
  },
  {
   "cell_type": "code",
   "execution_count": 15,
   "metadata": {},
   "outputs": [],
   "source": [
    "# 토큰화를 위한 불용어 정의\n",
    "stopwords = ['의','가','이','은','들','는','좀','잘','걍','과','도','를','으로','자','에','와','한','하다']"
   ]
  },
  {
   "cell_type": "code",
   "execution_count": 16,
   "metadata": {},
   "outputs": [],
   "source": [
    "# 형태소 분석 엔진 객체 생성\n",
    "okt = Okt()"
   ]
  },
  {
   "cell_type": "code",
   "execution_count": 17,
   "metadata": {},
   "outputs": [
    {
     "data": {
      "text/plain": [
       "['오다', '이렇다', '것', '도', '영화', '라고', '차라리', '뮤직비디오', '를', '만들다', '게', '나다', '뻔']"
      ]
     },
     "execution_count": 17,
     "metadata": {},
     "output_type": "execute_result"
    }
   ],
   "source": [
    "# 아래는 okt의 사용법 샘플(전체 예제와는 상관 없음)\n",
    "okt.morphs('와 이런 것도 영화라고 차라리 뮤직비디오를 만드는 게 나을 뻔', stem = True)"
   ]
  },
  {
   "cell_type": "code",
   "execution_count": 18,
   "metadata": {},
   "outputs": [
    {
     "name": "stdout",
     "output_type": "stream",
     "text": [
      "[['아', '더빙', '진짜', '짜증나다', '목소리'], ['흠', '포스터', '보고', '초딩', '영화', '줄', '오버', '연기', '조차', '가볍다', '않다'], ['너', '무재', '밓었', '다그', '래서', '보다', '추천', '다']]\n"
     ]
    }
   ],
   "source": [
    "X_train = []\n",
    "\n",
    "for sentence in train_data['document']:\n",
    "    temp_X = []\n",
    "    temp_X = okt.morphs(sentence, stem = True)\n",
    "    temp_X = [word for word in temp_X if not word in stopwords]\n",
    "    X_train.append(temp_X)\n",
    "    \n",
    "# 상위 3건만 출력하여 결과 확인\n",
    "print(X_train[:3])"
   ]
  },
  {
   "cell_type": "code",
   "execution_count": 19,
   "metadata": {},
   "outputs": [
    {
     "name": "stdout",
     "output_type": "stream",
     "text": [
      "[['굳다', 'ㅋ'], ['뭐', '야', '평점', '나쁘다', '않다', '점', '짜다', '리', '더', '더욱', '아니다'], ['지루하다', '않다', '완전', '막장', '임', '돈', '주다', '보기', '에는']]\n"
     ]
    }
   ],
   "source": [
    "# 테스트 데이터에 대해서 토큰화 수행\n",
    "X_test = []\n",
    "\n",
    "for sentence in test_data['document']:\n",
    "    temp_X = []\n",
    "    temp_X = okt.morphs(sentence, stem = True)\n",
    "    temp_X = [word for word in temp_X if not word in stopwords]\n",
    "    X_test.append(temp_X)\n",
    "    \n",
    "# 상위 3건만 출력하여 결과 확인\n",
    "print(X_test[:3])"
   ]
  },
  {
   "cell_type": "markdown",
   "metadata": {},
   "source": [
    "## 정수 인코딩\n",
    "- 단어 집합 생성 및 인덱스 번호 부여\n",
    "- 각 정수는 전체 훈련 데이터에서 등장 빈도수가 높은 순서대로 부여되었기 때문에, 높은 정수가 부여된 단어들은 등장 빈도수가 매우 낮다는 것을 의미"
   ]
  },
  {
   "cell_type": "code",
   "execution_count": 20,
   "metadata": {},
   "outputs": [],
   "source": [
    "tokenizer = Tokenizer()\n",
    "tokenizer.fit_on_texts(X_train)"
   ]
  },
  {
   "cell_type": "markdown",
   "metadata": {},
   "source": [
    "- 빈도수가 낮은 단어들은 자연어 처리에서 배제\n",
    "- 등장 빈도수가 3회 미만인 단어들이 이 데이터에서 언만큼의 비중을 차지하는지 확인"
   ]
  },
  {
   "cell_type": "code",
   "execution_count": 21,
   "metadata": {},
   "outputs": [
    {
     "name": "stdout",
     "output_type": "stream",
     "text": [
      "단어 집합(vocabulary)의 크기:  43752\n",
      "등장 빈도가 2번 이하인 희귀 단어의 수: 24337\n",
      "단어 집합에서 희귀 단어의 비율:  55.62488571950996\n",
      "전체 등장 빈도에서 희귀 단어 등장 빈도 비율:  1.8715872104872904\n"
     ]
    }
   ],
   "source": [
    "threshold = 3\n",
    "total_cnt = len(tokenizer.word_index) # 단어의 수\n",
    "rare_cnt = 0 # 등장 빈도수가 threshold보다 작은 단어의 개수를 카운트\n",
    "total_freq = 0 # 훈련 데이터의 전체 단어 빈도수 총 합\n",
    "rare_freq = 0 # 등장 빈도수가 threshold보다 작은 단어의 등장 빈도수의 총 합\n",
    "\n",
    "# 단어와 빈도의 쌍(pair)을 key와 value로 받는다.\n",
    "for key, value in tokenizer.word_counts.items():\n",
    "    total_freq = total_freq + value\n",
    "    \n",
    "    # 단어의 등장 빈도수가 threshold보다 작으면\n",
    "    if (value < threshold):\n",
    "        rare_cnt = rare_cnt + 1\n",
    "        rare_freq = rare_freq + value\n",
    "\n",
    "print('단어 집합(vocabulary)의 크기: ', total_cnt)\n",
    "print('등장 빈도가 %s번 이하인 희귀 단어의 수: %s'%(threshold - 1, rare_cnt))\n",
    "print('단어 집합에서 희귀 단어의 비율: ', (rare_cnt / total_cnt) * 100)\n",
    "print('전체 등장 빈도에서 희귀 단어 등장 빈도 비율: ', (rare_freq / total_freq) * 100)"
   ]
  },
  {
   "cell_type": "markdown",
   "metadata": {},
   "source": [
    "- 등장 빈도가 threshold 값인 3회 미만. 즉, 2회 이하인 단어들은 단어 집합에서 무려 절반 이상을 차지\n",
    "- 실제로 훈련 데이터에서 등장 빈도로 차지하는 비중은 상대적으로 매우 적은 수치인 1.87%\n",
    "- 등장 빈도가 2회 이하인 단어들은 자연어 처리에서 별로 중요하지 않은 듯 하다.\n",
    "- 이 단어들은 정수 인코딩 과정에서 배제한다."
   ]
  },
  {
   "cell_type": "code",
   "execution_count": 22,
   "metadata": {},
   "outputs": [
    {
     "name": "stdout",
     "output_type": "stream",
     "text": [
      "단어 집합의 크기:  19417\n"
     ]
    }
   ],
   "source": [
    "# 등장 빈도수가 2 이하인 단어들의 수를 제외한 단어의 개수를 단어 집합의 최대 크기로 제한\n",
    "# 0번 패딩 토큰과 1번 OOV 토큰을 고려하여 +2\n",
    "\n",
    "vocab_size = total_cnt - rare_cnt + 2\n",
    "print('단어 집합의 크기: ', vocab_size)"
   ]
  },
  {
   "cell_type": "code",
   "execution_count": 23,
   "metadata": {},
   "outputs": [
    {
     "name": "stdout",
     "output_type": "stream",
     "text": [
      "[[51, 455, 17, 261, 660], [934, 458, 42, 603, 2, 215, 1450, 25, 962, 676, 20], [387, 2445, 1, 2316, 5672, 3, 223, 10]]\n"
     ]
    }
   ],
   "source": [
    "# 산출된 단어 집합의 크기(vocab_size)를 케라스 토크나이저의 인자로 설정\n",
    "# -> 텍스트 시퀀스를 숫자 시퀀스로 변환\n",
    "# -> 이보다 큰 숫자가 부여된 단어들은 OOV로 변환\n",
    "\n",
    "tokenizer = Tokenizer(vocab_size, oov_token = 'OOV')\n",
    "tokenizer.fit_on_texts(X_train)\n",
    "X_train = tokenizer.texts_to_sequences(X_train)\n",
    "X_test = tokenizer.texts_to_sequences(X_test)\n",
    "\n",
    "print(X_train[:3])"
   ]
  },
  {
   "cell_type": "markdown",
   "metadata": {},
   "source": [
    "- 단어의 개수는 19,417개로 제한되었다.\n",
    "- 0번 단어 ~ 19,416번 단어까지만 사용\n",
    "- 0번 단어는 패딩을 위한 토큰, 1번 단어는 OOV를 위한 토큰\n",
    "- 다시 말해, 19,417 이상의 정수는 더이상 훈련 데이터에 존재하지 않는다."
   ]
  },
  {
   "cell_type": "code",
   "execution_count": 24,
   "metadata": {},
   "outputs": [],
   "source": [
    "# train_data에서 y_train과 y_test를 별도로 저장\n",
    "y_train = np.array(train_data['label'])\n",
    "y_test = np.array(test_data['label'])"
   ]
  },
  {
   "cell_type": "markdown",
   "metadata": {},
   "source": [
    "## 빈 샘플 (empty samples) 제거\n",
    "- 전체 데이터에서 빈도수가 낮은 단어가 삭제되었다는 것은 빈도수가 낮은 단어만으로 구성되었던 샘플들은 이제 빈(empty) 샘플이 되었다는 것을 의미\n",
    "- 빈 샘플들은 어떤 레이블이 붙어있던 의미가 없으므로 빈 샘플들을 제거해주는 작업 수행\n",
    "- 각 샘플들의 길이를 확인해서 길이가 0인 샘플들의 인덱스를 받아오기"
   ]
  },
  {
   "cell_type": "code",
   "execution_count": 25,
   "metadata": {},
   "outputs": [
    {
     "data": {
      "text/plain": [
       "[404, 412, 470]"
      ]
     },
     "execution_count": 25,
     "metadata": {},
     "output_type": "execute_result"
    }
   ],
   "source": [
    "drop_train = [index for index, sentence in enumerate(X_train) if len(sentence) < 1]\n",
    "\n",
    "drop_train[:3]"
   ]
  },
  {
   "cell_type": "code",
   "execution_count": 26,
   "metadata": {},
   "outputs": [
    {
     "name": "stdout",
     "output_type": "stream",
     "text": [
      "145380\n",
      "145380\n"
     ]
    }
   ],
   "source": [
    "# 빈 샘플 제거\n",
    "X_train = np.delete(X_train, drop_train, axis = 0)\n",
    "y_train = np.delete(y_train, drop_train, axis = 0)\n",
    "print(len(X_train))\n",
    "print(len(y_train))"
   ]
  },
  {
   "cell_type": "markdown",
   "metadata": {},
   "source": [
    "## 패딩\n",
    "- 서로 다른 길이의 샘플들의 길이를 동일하게 맞춰주는 작업"
   ]
  },
  {
   "cell_type": "code",
   "execution_count": 27,
   "metadata": {},
   "outputs": [
    {
     "name": "stdout",
     "output_type": "stream",
     "text": [
      "리뷰의 최대 길이:  72\n",
      "리뷰의 평균 길이:  11.002187371027652\n"
     ]
    },
    {
     "data": {
      "image/png": "[encoded data removed]",
      "text/plain": [
       "<Figure size 432x288 with 1 Axes>"
      ]
     },
     "metadata": {
      "needs_background": "light"
     },
     "output_type": "display_data"
    }
   ],
   "source": [
    "# 전체 데이터에서 가장 길이가 긴 리뷰와 전체 데이터의 길이 분포\n",
    "\n",
    "print('리뷰의 최대 길이: ', max(len(l) for l in X_train))\n",
    "print('리뷰의 평균 길이: ', sum(map(len, X_train)) / len(X_train))\n",
    "plt.hist([len(s) for s in X_train], bins = 50)\n",
    "plt.xlabel('length of samples')\n",
    "plt.ylabel('number of samples')\n",
    "plt.show()"
   ]
  },
  {
   "cell_type": "markdown",
   "metadata": {},
   "source": [
    "- 리뷰의 가장 긴 리뷰의 길이는 72이며, 그래프를 봤을 때 전체 데이터의 길이 분포는 대체적으로 약 11내외의 길이\n",
    "- 델이 처리할 수 있도록 X_train과 X_test의 모든 샘플의 길이를 특정 길이로 동일하게 맞춰줄 필요가 있음"
   ]
  },
  {
   "cell_type": "code",
   "execution_count": 28,
   "metadata": {},
   "outputs": [
    {
     "name": "stdout",
     "output_type": "stream",
     "text": [
      "전체 샘플 중 길이가 30이하인 샘플의 비율: 94.0830925849498\n"
     ]
    }
   ],
   "source": [
    "# 특정 길이를 의미하는 변수\n",
    "max_len = 30\n",
    "\n",
    "# 전체 샘플 중 길이가 max_len 이하인 샘플의 비율이 몇 %인지 확인하는 함수\n",
    "def below_threshold_len(max_len, nested_list):\n",
    "    cnt = 0\n",
    "    for s in nested_list:\n",
    "        if(len(s) <= max_len):\n",
    "            cnt = cnt + 1\n",
    "    print('전체 샘플 중 길이가 %s이하인 샘플의 비율: %s'%(max_len, (cnt / len(nested_list)) * 100))\n",
    "    \n",
    "below_threshold_len(max_len, X_train)"
   ]
  },
  {
   "cell_type": "code",
   "execution_count": 29,
   "metadata": {},
   "outputs": [],
   "source": [
    "# 모든 샘플의 길이를 30으로 맞추기\n",
    "X_train = pad_sequences(X_train, maxlen = max_len)\n",
    "X_test = pad_sequences(X_test, maxlen = max_len)"
   ]
  },
  {
   "cell_type": "markdown",
   "metadata": {},
   "source": [
    "## 모델 구성하기"
   ]
  },
  {
   "cell_type": "code",
   "execution_count": 30,
   "metadata": {},
   "outputs": [
    {
     "name": "stdout",
     "output_type": "stream",
     "text": [
      "Model: \"sequential\"\n",
      "_________________________________________________________________\n",
      "Layer (type)                 Output Shape              Param #   \n",
      "=================================================================\n",
      "embedding (Embedding)        (None, None, 100)         1941700   \n",
      "_________________________________________________________________\n",
      "lstm (LSTM)                  (None, 128)               117248    \n",
      "_________________________________________________________________\n",
      "dense (Dense)                (None, 1)                 129       \n",
      "=================================================================\n",
      "Total params: 2,059,077\n",
      "Trainable params: 2,059,077\n",
      "Non-trainable params: 0\n",
      "_________________________________________________________________\n"
     ]
    }
   ],
   "source": [
    "model = Sequential()\n",
    "model.add(Embedding(vocab_size, 100))\n",
    "model.add(LSTM(128))\n",
    "model.add(Dense(1, activation = 'sigmoid'))\n",
    "\n",
    "# 훈련 도중 중간 조건 설정\n",
    "# --> 손실률(val_loss)의 최소값(min)이 1부터 4번 증가하면 중단\n",
    "es = EarlyStopping(monitor = 'val_loss', mode = 'min', verbose = 1, patience = 4)\n",
    "\n",
    "# 훈련 모델 저장 조건\n",
    "# --> 훈련 정확도(val_acc)가 이전보다 좋아졌을 때만 저장\n",
    "mc = ModelCheckpoint('best_model.h5', monitor = 'val_acc', mode = 'max', verbose = 1, save_best_only = True)\n",
    "\n",
    "# 모델 컴파일\n",
    "model.compile(optimizer = 'rmsprop', loss = 'binary_crossentropy', metrics = ['acc'])\n",
    "model.summary()"
   ]
  },
  {
   "cell_type": "markdown",
   "metadata": {},
   "source": [
    "## 학습하기"
   ]
  },
  {
   "cell_type": "code",
   "execution_count": 31,
   "metadata": {},
   "outputs": [
    {
     "name": "stdout",
     "output_type": "stream",
     "text": [
      "Epoch 1/15\n",
      "1939/1939 [==============================] - ETA: 0s - loss: 0.3916 - acc: 0.8232\n",
      "Epoch 00001: val_acc improved from -inf to 0.84344, saving model to best_model.h5\n",
      "1939/1939 [==============================] - 145s 75ms/step - loss: 0.3916 - acc: 0.8232 - val_loss: 0.3545 - val_acc: 0.8434\n",
      "Epoch 2/15\n",
      "1939/1939 [==============================] - ETA: 0s - loss: 0.3288 - acc: 0.8570\n",
      "Epoch 00002: val_acc improved from 0.84344 to 0.85256, saving model to best_model.h5\n",
      "1939/1939 [==============================] - 145s 75ms/step - loss: 0.3288 - acc: 0.8570 - val_loss: 0.3335 - val_acc: 0.8526\n",
      "Epoch 3/15\n",
      "1939/1939 [==============================] - ETA: 0s - loss: 0.3031 - acc: 0.8708\n",
      "Epoch 00003: val_acc improved from 0.85256 to 0.85514, saving model to best_model.h5\n",
      "1939/1939 [==============================] - 145s 75ms/step - loss: 0.3031 - acc: 0.8708 - val_loss: 0.3333 - val_acc: 0.8551\n",
      "Epoch 4/15\n",
      "1939/1939 [==============================] - ETA: 0s - loss: 0.2838 - acc: 0.8813\n",
      "Epoch 00004: val_acc improved from 0.85514 to 0.85868, saving model to best_model.h5\n",
      "1939/1939 [==============================] - 147s 76ms/step - loss: 0.2838 - acc: 0.8813 - val_loss: 0.3286 - val_acc: 0.8587\n",
      "Epoch 5/15\n",
      "1939/1939 [==============================] - ETA: 0s - loss: 0.2680 - acc: 0.8896\n",
      "Epoch 00005: val_acc improved from 0.85868 to 0.85885, saving model to best_model.h5\n",
      "1939/1939 [==============================] - 145s 75ms/step - loss: 0.2680 - acc: 0.8896 - val_loss: 0.3299 - val_acc: 0.8589\n",
      "Epoch 6/15\n",
      "1938/1939 [============================>.] - ETA: 0s - loss: 0.2527 - acc: 0.8971\n",
      "Epoch 00006: val_acc did not improve from 0.85885\n",
      "1939/1939 [==============================] - 145s 75ms/step - loss: 0.2527 - acc: 0.8971 - val_loss: 0.3384 - val_acc: 0.8568\n",
      "Epoch 7/15\n",
      "1939/1939 [==============================] - ETA: 0s - loss: 0.2375 - acc: 0.9044\n",
      "Epoch 00007: val_acc did not improve from 0.85885\n",
      "1939/1939 [==============================] - 146s 75ms/step - loss: 0.2375 - acc: 0.9044 - val_loss: 0.3397 - val_acc: 0.8548\n",
      "Epoch 8/15\n",
      "1939/1939 [==============================] - ETA: 0s - loss: 0.2221 - acc: 0.9115\n",
      "Epoch 00008: val_acc did not improve from 0.85885\n",
      "1939/1939 [==============================] - 144s 74ms/step - loss: 0.2221 - acc: 0.9115 - val_loss: 0.3646 - val_acc: 0.8478\n",
      "Epoch 00008: early stopping\n"
     ]
    }
   ],
   "source": [
    "history = model.fit(X_train, y_train, epochs = 15, callbacks = [es, mc], batch_size = 60, validation_split = 0.2)"
   ]
  },
  {
   "cell_type": "markdown",
   "metadata": {},
   "source": [
    "## 학습 과정 확인"
   ]
  },
  {
   "cell_type": "code",
   "execution_count": 32,
   "metadata": {},
   "outputs": [],
   "source": [
    "his_dict = history.history"
   ]
  },
  {
   "cell_type": "code",
   "execution_count": 33,
   "metadata": {},
   "outputs": [
    {
     "name": "stderr",
     "output_type": "stream",
     "text": [
      "c:\\users\\youjin\\appdata\\local\\programs\\python\\python38\\lib\\site-packages\\matplotlib\\backends\\backend_agg.py:238: RuntimeWarning: Glyph 54984 missing from current font.\n",
      "  font.set_text(s, 0.0, flags=flags)\n",
      "c:\\users\\youjin\\appdata\\local\\programs\\python\\python38\\lib\\site-packages\\matplotlib\\backends\\backend_agg.py:238: RuntimeWarning: Glyph 47144 missing from current font.\n",
      "  font.set_text(s, 0.0, flags=flags)\n",
      "c:\\users\\youjin\\appdata\\local\\programs\\python\\python38\\lib\\site-packages\\matplotlib\\backends\\backend_agg.py:238: RuntimeWarning: Glyph 48143 missing from current font.\n",
      "  font.set_text(s, 0.0, flags=flags)\n",
      "c:\\users\\youjin\\appdata\\local\\programs\\python\\python38\\lib\\site-packages\\matplotlib\\backends\\backend_agg.py:238: RuntimeWarning: Glyph 44160 missing from current font.\n",
      "  font.set_text(s, 0.0, flags=flags)\n",
      "c:\\users\\youjin\\appdata\\local\\programs\\python\\python38\\lib\\site-packages\\matplotlib\\backends\\backend_agg.py:238: RuntimeWarning: Glyph 51613 missing from current font.\n",
      "  font.set_text(s, 0.0, flags=flags)\n",
      "c:\\users\\youjin\\appdata\\local\\programs\\python\\python38\\lib\\site-packages\\matplotlib\\backends\\backend_agg.py:238: RuntimeWarning: Glyph 49552 missing from current font.\n",
      "  font.set_text(s, 0.0, flags=flags)\n",
      "c:\\users\\youjin\\appdata\\local\\programs\\python\\python38\\lib\\site-packages\\matplotlib\\backends\\backend_agg.py:238: RuntimeWarning: Glyph 49892 missing from current font.\n",
      "  font.set_text(s, 0.0, flags=flags)\n",
      "c:\\users\\youjin\\appdata\\local\\programs\\python\\python38\\lib\\site-packages\\matplotlib\\backends\\backend_agg.py:238: RuntimeWarning: Glyph 47456 missing from current font.\n",
      "  font.set_text(s, 0.0, flags=flags)\n",
      "c:\\users\\youjin\\appdata\\local\\programs\\python\\python38\\lib\\site-packages\\matplotlib\\backends\\backend_agg.py:238: RuntimeWarning: Glyph 51221 missing from current font.\n",
      "  font.set_text(s, 0.0, flags=flags)\n",
      "c:\\users\\youjin\\appdata\\local\\programs\\python\\python38\\lib\\site-packages\\matplotlib\\backends\\backend_agg.py:238: RuntimeWarning: Glyph 54869 missing from current font.\n",
      "  font.set_text(s, 0.0, flags=flags)\n",
      "c:\\users\\youjin\\appdata\\local\\programs\\python\\python38\\lib\\site-packages\\matplotlib\\backends\\backend_agg.py:238: RuntimeWarning: Glyph 46020 missing from current font.\n",
      "  font.set_text(s, 0.0, flags=flags)\n",
      "c:\\users\\youjin\\appdata\\local\\programs\\python\\python38\\lib\\site-packages\\matplotlib\\backends\\backend_agg.py:201: RuntimeWarning: Glyph 49552 missing from current font.\n",
      "  font.set_text(s, 0, flags=flags)\n",
      "c:\\users\\youjin\\appdata\\local\\programs\\python\\python38\\lib\\site-packages\\matplotlib\\backends\\backend_agg.py:201: RuntimeWarning: Glyph 49892 missing from current font.\n",
      "  font.set_text(s, 0, flags=flags)\n",
      "c:\\users\\youjin\\appdata\\local\\programs\\python\\python38\\lib\\site-packages\\matplotlib\\backends\\backend_agg.py:201: RuntimeWarning: Glyph 47456 missing from current font.\n",
      "  font.set_text(s, 0, flags=flags)\n",
      "c:\\users\\youjin\\appdata\\local\\programs\\python\\python38\\lib\\site-packages\\matplotlib\\backends\\backend_agg.py:201: RuntimeWarning: Glyph 54984 missing from current font.\n",
      "  font.set_text(s, 0, flags=flags)\n",
      "c:\\users\\youjin\\appdata\\local\\programs\\python\\python38\\lib\\site-packages\\matplotlib\\backends\\backend_agg.py:201: RuntimeWarning: Glyph 47144 missing from current font.\n",
      "  font.set_text(s, 0, flags=flags)\n",
      "c:\\users\\youjin\\appdata\\local\\programs\\python\\python38\\lib\\site-packages\\matplotlib\\backends\\backend_agg.py:201: RuntimeWarning: Glyph 48143 missing from current font.\n",
      "  font.set_text(s, 0, flags=flags)\n",
      "c:\\users\\youjin\\appdata\\local\\programs\\python\\python38\\lib\\site-packages\\matplotlib\\backends\\backend_agg.py:201: RuntimeWarning: Glyph 44160 missing from current font.\n",
      "  font.set_text(s, 0, flags=flags)\n",
      "c:\\users\\youjin\\appdata\\local\\programs\\python\\python38\\lib\\site-packages\\matplotlib\\backends\\backend_agg.py:201: RuntimeWarning: Glyph 51613 missing from current font.\n",
      "  font.set_text(s, 0, flags=flags)\n",
      "c:\\users\\youjin\\appdata\\local\\programs\\python\\python38\\lib\\site-packages\\matplotlib\\backends\\backend_agg.py:201: RuntimeWarning: Glyph 51221 missing from current font.\n",
      "  font.set_text(s, 0, flags=flags)\n",
      "c:\\users\\youjin\\appdata\\local\\programs\\python\\python38\\lib\\site-packages\\matplotlib\\backends\\backend_agg.py:201: RuntimeWarning: Glyph 54869 missing from current font.\n",
      "  font.set_text(s, 0, flags=flags)\n",
      "c:\\users\\youjin\\appdata\\local\\programs\\python\\python38\\lib\\site-packages\\matplotlib\\backends\\backend_agg.py:201: RuntimeWarning: Glyph 46020 missing from current font.\n",
      "  font.set_text(s, 0, flags=flags)\n"
     ]
    },
    {
     "data": {
      "image/png": "[encoded data removed]",
      "text/plain": [
       "<Figure size 720x360 with 2 Axes>"
      ]
     },
     "metadata": {
      "needs_background": "light"
     },
     "output_type": "display_data"
    }
   ],
   "source": [
    "# 훈련 및 검증 손실 그리기\n",
    "loss = his_dict['loss']\n",
    "val_loss = his_dict['val_loss']\n",
    "epochs = range(1, len(loss) + 1)\n",
    "\n",
    "fig = plt.figure(figsize = (10, 5))\n",
    "\n",
    "# 훈련 및 검증 손실 그리기\n",
    "ax1 = fig.add_subplot(1, 2, 1)\n",
    "ax1.plot(epochs, loss, color = 'blue', label = '훈련 손실')\n",
    "ax1.plot(epochs, val_loss, color = 'orange', label = '검증 손실')\n",
    "ax1.set_title('훈련 및 검증 손실')\n",
    "ax1.set_xlabel('epochs')\n",
    "ax1.set_ylabel('손실률')\n",
    "ax1.legend()\n",
    "\n",
    "# 훈련 및 검증 정확도 그리기\n",
    "acc = his_dict['acc']\n",
    "val_acc = his_dict['val_acc']\n",
    "\n",
    "ax2 = fig.add_subplot(1, 2, 2)\n",
    "ax2.plot(epochs, acc, color = 'blue', label = '훈련 정확도')\n",
    "ax2.plot(epochs, val_acc, color = 'orange', label = '검증 정확도')\n",
    "ax2.set_title('훈련 및 검증 정확도')\n",
    "ax2.set_xlabel('epochs')\n",
    "ax2.set_ylabel('정확도')\n",
    "ax2.legend()\n",
    "\n",
    "plt.show()"
   ]
  },
  {
   "cell_type": "markdown",
   "metadata": {},
   "source": [
    "## 테스트 데이터에 대한 정확도를 측정"
   ]
  },
  {
   "cell_type": "code",
   "execution_count": 34,
   "metadata": {},
   "outputs": [
    {
     "name": "stdout",
     "output_type": "stream",
     "text": [
      "1532/1532 [==============================] - 16s 10ms/step - loss: 0.3379 - acc: 0.8553\n",
      "\n",
      " 테스트 정확도: 0.8553\n"
     ]
    }
   ],
   "source": [
    "loaded_model = load_model('best_model.h5')\n",
    "print('\\n 테스트 정확도: %.4f' %(loaded_model.evaluate(X_test, y_test)[1]))"
   ]
  },
  {
   "cell_type": "code",
   "execution_count": 35,
   "metadata": {},
   "outputs": [],
   "source": [
    "# 리뷰 예측을 위한 함수\n",
    "\n",
    "def sentiment_predict(new_sentence):\n",
    "    # 토큰화\n",
    "    new_sentence = okt.morphs(new_sentence, stem = True)\n",
    "    # 불용어 제거\n",
    "    new_sentence = [word for word in new_sentence if not word in stopwords]\n",
    "    \n",
    "    encoded = tokenizer.texts_to_sequences([new_sentence]) # 정수 인코딩\n",
    "    pad_new = pad_sequences(encoded, maxlen = max_len) # 패딩\n",
    "    score = float(loaded_model.predict(pad_new)) # 예측\n",
    "    \n",
    "    result = None\n",
    "    if score > 0.5:\n",
    "        print('{:.2f}% 확률로 긍정 리뷰입니다. \\n'.format(score * 100))\n",
    "        result = 1\n",
    "    else:\n",
    "        print('{:.2f}f 확률로 부정 리뷰입니다. \\n'.format((1-score) * 100))\n",
    "        result = 0\n",
    "        \n",
    "    return result"
   ]
  },
  {
   "cell_type": "code",
   "execution_count": 36,
   "metadata": {},
   "outputs": [
    {
     "name": "stdout",
     "output_type": "stream",
     "text": [
      "69.98f 확률로 부정 리뷰입니다. \n",
      "\n"
     ]
    },
    {
     "data": {
      "text/plain": [
       "0"
      ]
     },
     "execution_count": 36,
     "metadata": {},
     "output_type": "execute_result"
    }
   ],
   "source": [
    "sentiment_predict('안본눈 삽니다.')"
   ]
  },
  {
   "cell_type": "markdown",
   "metadata": {},
   "source": [
    "## 네이버 영화 리뷰 수집결과 불러오기"
   ]
  },
  {
   "cell_type": "code",
   "execution_count": 37,
   "metadata": {},
   "outputs": [
    {
     "data": {
      "text/plain": [
       "['B급 이하전편보다 퇴보된 CG, 중구난방식 연출, 러닝타임 늘리기 위한 쓸모없는 컷, 부족한 액션, 영화가 주는 시사점도 없고 보는 내내 오그라들고 나가고싶었음.\\n',\n",
       " '이딴 영화가 평점 8점 후반대라는 게 믿기지 않는다. 역시 네이버 평점은 믿고 걸러야 한다.개연성 중요하게 생각하는 사람들은 보면서 토할 수도 있으니까 조심.중후반부터 느금마사급 전개가 계속 이어지기 때문에 정신잡기...\\n',\n",
       " '역시 원더우먼 영화는 주연배우 갤가돗과 크리스파인이 다 살리네.. 감독은 확실히 영화 못 찍음.... 예전 샤를리즈 테론 영화 몬스터만해도 배우가 다 살림... 원더우먼 1도 악당 허술하고 매력없고 스토리도 전개가 ...\\n']"
      ]
     },
     "execution_count": 37,
     "metadata": {},
     "output_type": "execute_result"
    }
   ],
   "source": [
    "review_list = []\n",
    "with open('result.txt', 'r', encoding = 'utf-8') as f:\n",
    "    review_list = f.readlines()\n",
    "    \n",
    "review_list[:3]"
   ]
  },
  {
   "cell_type": "code",
   "execution_count": 44,
   "metadata": {},
   "outputs": [],
   "source": [
    "# ~확률로 부정 리뷰입니다. 다른 리스트로 포함시키기\n",
    "\n",
    "# 리뷰 예측을 위한 함수\n",
    "\n",
    "def sentiment_predict(new_sentence):\n",
    "    re_list = []\n",
    "    # 토큰화\n",
    "    new_sentence = okt.morphs(new_sentence, stem = True)\n",
    "    # 불용어 제거\n",
    "    new_sentence = [word for word in new_sentence if not word in stopwords]\n",
    "    \n",
    "    encoded = tokenizer.texts_to_sequences([new_sentence]) # 정수 인코딩\n",
    "    pad_new = pad_sequences(encoded, maxlen = max_len) # 패딩\n",
    "    score = float(loaded_model.predict(pad_new)) # 예측\n",
    "    \n",
    "    result = None\n",
    "    if score > 0.5:\n",
    "        re_list.append('{:.2f}% 확률로 긍정 리뷰입니다. \\n'.format(score * 100))\n",
    "        result = 1\n",
    "    else:\n",
    "        re_list.append('{:.2f}f 확률로 부정 리뷰입니다. \\n'.format((1-score) * 100))\n",
    "        result = 0\n",
    "        \n",
    "    return result"
   ]
  },
  {
   "cell_type": "code",
   "execution_count": 45,
   "metadata": {},
   "outputs": [],
   "source": [
    "review_data = []\n",
    "size = len(review_list)\n",
    "\n",
    "for i, v in enumerate(review_list):\n",
    "    predict = sentiment_predict(v)\n",
    "    review_dict = {'document' : v, 'label' : predict}\n",
    "    review_data.append(review_dict)\n",
    "    \n",
    "import pandas as pd\n",
    "df = pd.DataFrame(review_data)"
   ]
  },
  {
   "cell_type": "code",
   "execution_count": 46,
   "metadata": {},
   "outputs": [
    {
     "data": {
      "text/html": [
       "<div>\n",
       "<style scoped>\n",
       "    .dataframe tbody tr th:only-of-type {\n",
       "        vertical-align: middle;\n",
       "    }\n",
       "\n",
       "    .dataframe tbody tr th {\n",
       "        vertical-align: top;\n",
       "    }\n",
       "\n",
       "    .dataframe thead th {\n",
       "        text-align: right;\n",
       "    }\n",
       "</style>\n",
       "<table border=\"1\" class=\"dataframe\">\n",
       "  <thead>\n",
       "    <tr style=\"text-align: right;\">\n",
       "      <th></th>\n",
       "      <th>document</th>\n",
       "      <th>label</th>\n",
       "    </tr>\n",
       "  </thead>\n",
       "  <tbody>\n",
       "    <tr>\n",
       "      <th>0</th>\n",
       "      <td>B급 이하전편보다 퇴보된 CG, 중구난방식 연출, 러닝타임 늘리기 위한 쓸모없는 컷...</td>\n",
       "      <td>0</td>\n",
       "    </tr>\n",
       "    <tr>\n",
       "      <th>1</th>\n",
       "      <td>이딴 영화가 평점 8점 후반대라는 게 믿기지 않는다. 역시 네이버 평점은 믿고 걸러...</td>\n",
       "      <td>0</td>\n",
       "    </tr>\n",
       "    <tr>\n",
       "      <th>2</th>\n",
       "      <td>역시 원더우먼 영화는 주연배우 갤가돗과 크리스파인이 다 살리네.. 감독은 확실히 영...</td>\n",
       "      <td>0</td>\n",
       "    </tr>\n",
       "    <tr>\n",
       "      <th>3</th>\n",
       "      <td>진짜 개노잼이다.. 1편이랑 같은 감독맞나?러닝타임도 길어서 개지루함 ㄹㅇ\\n</td>\n",
       "      <td>0</td>\n",
       "    </tr>\n",
       "    <tr>\n",
       "      <th>4</th>\n",
       "      <td>스포일러가 포함된 감상평입니다. 감상평 보기\\n</td>\n",
       "      <td>1</td>\n",
       "    </tr>\n",
       "    <tr>\n",
       "      <th>...</th>\n",
       "      <td>...</td>\n",
       "      <td>...</td>\n",
       "    </tr>\n",
       "    <tr>\n",
       "      <th>4063</th>\n",
       "      <td>스포일러가 포함된 감상평입니다. 감상평 보기\\n</td>\n",
       "      <td>1</td>\n",
       "    </tr>\n",
       "    <tr>\n",
       "      <th>4064</th>\n",
       "      <td>원더우먼은 강하지 못했으며악역도 강하지 못했다.내가 세상에서 제일 잘나갔으면 좋겠다.\\n</td>\n",
       "      <td>0</td>\n",
       "    </tr>\n",
       "    <tr>\n",
       "      <th>4065</th>\n",
       "      <td>지금 하고 있는 영화 중에 유일하게 재밌어 보여서 골랐고 즐기기에 괜찮음. 여성감독...</td>\n",
       "      <td>0</td>\n",
       "    </tr>\n",
       "    <tr>\n",
       "      <th>4066</th>\n",
       "      <td>난 존나 재밉게 봤는데 OO들이네 이이상 어떻게 더만들어겔갓돈 그자체로 이쁨\\n</td>\n",
       "      <td>1</td>\n",
       "    </tr>\n",
       "    <tr>\n",
       "      <th>4067</th>\n",
       "      <td>그냥 볼만합니다 큰 기대는 안하시는게 좋을듯\\n</td>\n",
       "      <td>0</td>\n",
       "    </tr>\n",
       "  </tbody>\n",
       "</table>\n",
       "<p>4068 rows × 2 columns</p>\n",
       "</div>"
      ],
      "text/plain": [
       "                                               document  label\n",
       "0     B급 이하전편보다 퇴보된 CG, 중구난방식 연출, 러닝타임 늘리기 위한 쓸모없는 컷...      0\n",
       "1     이딴 영화가 평점 8점 후반대라는 게 믿기지 않는다. 역시 네이버 평점은 믿고 걸러...      0\n",
       "2     역시 원더우먼 영화는 주연배우 갤가돗과 크리스파인이 다 살리네.. 감독은 확실히 영...      0\n",
       "3           진짜 개노잼이다.. 1편이랑 같은 감독맞나?러닝타임도 길어서 개지루함 ㄹㅇ\\n      0\n",
       "4                            스포일러가 포함된 감상평입니다. 감상평 보기\\n      1\n",
       "...                                                 ...    ...\n",
       "4063                         스포일러가 포함된 감상평입니다. 감상평 보기\\n      1\n",
       "4064  원더우먼은 강하지 못했으며악역도 강하지 못했다.내가 세상에서 제일 잘나갔으면 좋겠다.\\n      0\n",
       "4065  지금 하고 있는 영화 중에 유일하게 재밌어 보여서 골랐고 즐기기에 괜찮음. 여성감독...      0\n",
       "4066       난 존나 재밉게 봤는데 OO들이네 이이상 어떻게 더만들어겔갓돈 그자체로 이쁨\\n      1\n",
       "4067                         그냥 볼만합니다 큰 기대는 안하시는게 좋을듯\\n      0\n",
       "\n",
       "[4068 rows x 2 columns]"
      ]
     },
     "execution_count": 46,
     "metadata": {},
     "output_type": "execute_result"
    }
   ],
   "source": [
    "df"
   ]
  },
  {
   "cell_type": "code",
   "execution_count": 47,
   "metadata": {},
   "outputs": [],
   "source": [
    "# csv파일로 저장\n",
    "df.to_csv('movie_reviews_RNN.csv', header = True, index = False, encoding = 'utf-8')"
   ]
  },
  {
   "cell_type": "code",
   "execution_count": 48,
   "metadata": {},
   "outputs": [
    {
     "data": {
      "text/plain": [
       "label\n",
       "0        2595\n",
       "1        1473\n",
       "dtype: int64"
      ]
     },
     "execution_count": 48,
     "metadata": {},
     "output_type": "execute_result"
    }
   ],
   "source": [
    "cnt = df.filter(['label']).value_counts()\n",
    "cnt"
   ]
  },
  {
   "cell_type": "code",
   "execution_count": 49,
   "metadata": {},
   "outputs": [
    {
     "data": {
      "image/png": "[encoded data removed]",
      "text/plain": [
       "<Figure size 864x576 with 1 Axes>"
      ]
     },
     "metadata": {
      "needs_background": "light"
     },
     "output_type": "display_data"
    }
   ],
   "source": [
    "# 한글폰트, 그래픽 크기 설정\n",
    "plt.rcParams['font.family'] = 'Malgun Gothic'\n",
    "plt.rcParams['font.size'] = 16\n",
    "plt.rcParams['figure.figsize'] = (12, 8)\n",
    "\n",
    "cnt.plot.bar(rot = 0)\n",
    "plt.grid()\n",
    "plt.legend()\n",
    "plt.title('리뷰 호응도')\n",
    "plt.ylabel('리뷰수')\n",
    "plt.xlabel('긍정/부정')\n",
    "plt.xticks([0, 1], ['부정','긍정'])\n",
    "plt.show()"
   ]
  },
  {
   "cell_type": "code",
   "execution_count": 50,
   "metadata": {},
   "outputs": [
    {
     "data": {
      "image/png": "[encoded data removed]",
      "text/plain": [
       "<Figure size 864x576 with 1 Axes>"
      ]
     },
     "metadata": {},
     "output_type": "display_data"
    }
   ],
   "source": [
    "cnt.plot.pie(labels = ['재미없다','재미있다'], autopct = '%0.1f%%')\n",
    "plt.title('리뷰 호응도')\n",
    "plt.ylabel(None)\n",
    "plt.show()"
   ]
  }
 ],
 "metadata": {
  "kernelspec": {
   "display_name": "Python 3",
   "language": "python",
   "name": "python3"
  },
  "language_info": {
   "codemirror_mode": {
    "name": "ipython",
    "version": 3
   },
   "file_extension": ".py",
   "mimetype": "text/x-python",
   "name": "python",
   "nbconvert_exporter": "python",
   "pygments_lexer": "ipython3",
   "version": "3.8.6"
  }
 },
 "nbformat": 4,
 "nbformat_minor": 4
}
