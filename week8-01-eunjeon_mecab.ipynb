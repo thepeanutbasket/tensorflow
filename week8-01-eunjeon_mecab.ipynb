{
 "cells": [
  {
   "cell_type": "markdown",
   "metadata": {},
   "source": [
    "## 은전한잎 형태소 분석 엔진 사용방법 샘플"
   ]
  },
  {
   "cell_type": "code",
   "execution_count": 2,
   "metadata": {},
   "outputs": [],
   "source": [
    "from eunjeon import Mecab\n",
    "tagger = Mecab()"
   ]
  },
  {
   "cell_type": "markdown",
   "metadata": {},
   "source": [
    "## 명사만 추출"
   ]
  },
  {
   "cell_type": "code",
   "execution_count": 4,
   "metadata": {},
   "outputs": [
    {
     "name": "stdout",
     "output_type": "stream",
     "text": [
      "['고양이', '녜']\n"
     ]
    }
   ],
   "source": [
    "nouns = tagger.nouns('고양이가 냐 하고 울면 나는 녜')\n",
    "print(nouns)"
   ]
  },
  {
   "cell_type": "code",
   "execution_count": 5,
   "metadata": {},
   "outputs": [],
   "source": [
    "poem = \"\"\"\n",
    "흘러내린 머리카락이 흐린 호박빛 아래 빛난다.\n",
    "유영하며.\n",
    "저건가보다.\n",
    "세월의 힘을 이겨낸 마지막 하나 남은 가로등.\n",
    "미래의 색, 역겨운 청록색으로 창백하게 바뀔 마지막 가로등\n",
    "난 유영한다. 차분하게 과거에 살면서 현재의 공기를 마신다.\n",
    "가로등이 깜빡인다.\n",
    "나도 깜빡여준다.\n",
    "\"\"\""
   ]
  },
  {
   "cell_type": "code",
   "execution_count": 6,
   "metadata": {},
   "outputs": [
    {
     "name": "stdout",
     "output_type": "stream",
     "text": [
      "['머리카락', '호박', '빛', '아래', '유영', '저건가', '세월', '힘', '마지막', '하나', '가로등', '미래', '색', '청록색', '마지막', '가로등', '유영', '과거', '현재', '공기', '가로등', '나']\n"
     ]
    }
   ],
   "source": [
    "# 명사만 추출\n",
    "nouns = tagger.nouns(poem)\n",
    "print(nouns)"
   ]
  },
  {
   "cell_type": "code",
   "execution_count": 7,
   "metadata": {},
   "outputs": [
    {
     "name": "stdout",
     "output_type": "stream",
     "text": [
      "['흘러내린', '머리카락', '이', '흐린', '호박', '빛', '아래', '빛난다', '.', '유영', '하', '며', '.', '저건가', '보', '다', '.', '세월', '의', '힘', '을', '이겨', '낸', '마지막', '하나', '남', '은', '가로등', '.', '미래', '의', '색', ',', '역겨운', '청록색', '으로', '창백', '하', '게', '바뀔', '마지막', '가로등', '난', '유영', '한다', '.', '차분', '하', '게', '과거', '에', '살', '면서', '현재', '의', '공기', '를', '마신다', '.', '가로등', '이', '깜빡인다', '.', '나', '도', '깜빡', '여', '준다', '.']\n"
     ]
    }
   ],
   "source": [
    "# 형태소 단위로 나눠서 추출\n",
    "morphs = tagger.morphs(poem)\n",
    "print(morphs)"
   ]
  },
  {
   "cell_type": "code",
   "execution_count": 8,
   "metadata": {},
   "outputs": [
    {
     "name": "stdout",
     "output_type": "stream",
     "text": [
      "[('흘러내린', 'VV+ETM'), ('머리카락', 'NNG'), ('이', 'JKS'), ('흐린', 'VA+ETM'), ('호박', 'NNG'), ('빛', 'NNG'), ('아래', 'NNG'), ('빛난다', 'VV+EF'), ('.', 'SF'), ('유영', 'NNG'), ('하', 'XSV'), ('며', 'EC'), ('.', 'SF'), ('저건가', 'NP+VCP+EC'), ('보', 'VX'), ('다', 'EF'), ('.', 'SF'), ('세월', 'NNG'), ('의', 'JKG'), ('힘', 'NNG'), ('을', 'JKO'), ('이겨', 'VV+EC'), ('낸', 'VX+ETM'), ('마지막', 'NNG'), ('하나', 'NR'), ('남', 'VV'), ('은', 'ETM'), ('가로등', 'NNG'), ('.', 'SY'), ('미래', 'NNG'), ('의', 'JKG'), ('색', 'NNG'), (',', 'SC'), ('역겨운', 'VA+ETM'), ('청록색', 'NNG'), ('으로', 'JKB'), ('창백', 'XR'), ('하', 'XSA'), ('게', 'EC'), ('바뀔', 'VV+ETM'), ('마지막', 'NNG'), ('가로등', 'NNG'), ('난', 'VV+ETM'), ('유영', 'NNG'), ('한다', 'XSV+EF'), ('.', 'SF'), ('차분', 'XR'), ('하', 'XSA'), ('게', 'EC'), ('과거', 'NNG'), ('에', 'JKB'), ('살', 'VV'), ('면서', 'EC'), ('현재', 'NNG'), ('의', 'JKG'), ('공기', 'NNG'), ('를', 'JKO'), ('마신다', 'VV+EF'), ('.', 'SF'), ('가로등', 'NNG'), ('이', 'JKS'), ('깜빡인다', 'VV+EF'), ('.', 'SF'), ('나', 'NP'), ('도', 'JX'), ('깜빡', 'MAG'), ('여', 'VV'), ('준다', 'EC+VX+EF'), ('.', 'SF')]\n"
     ]
    }
   ],
   "source": [
    "# 품사까지 추출\n",
    "pos = tagger.pos(poem)\n",
    "print(pos)"
   ]
  }
 ],
 "metadata": {
  "kernelspec": {
   "display_name": "Python 3",
   "language": "python",
   "name": "python3"
  },
  "language_info": {
   "codemirror_mode": {
    "name": "ipython",
    "version": 3
   },
   "file_extension": ".py",
   "mimetype": "text/x-python",
   "name": "python",
   "nbconvert_exporter": "python",
   "pygments_lexer": "ipython3",
   "version": "3.8.6"
  }
 },
 "nbformat": 4,
 "nbformat_minor": 4
}
