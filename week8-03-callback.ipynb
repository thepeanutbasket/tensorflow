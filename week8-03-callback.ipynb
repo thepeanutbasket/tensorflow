{
 "cells": [
  {
   "cell_type": "markdown",
   "metadata": {},
   "source": [
    "## Callback\n",
    "- 케라스 콜백 - 모델의 학습 방향, 저장 시점, 학습 정지 시점 등에 대한 상황을 모니터링\n"
   ]
  },
  {
   "cell_type": "markdown",
   "metadata": {},
   "source": [
    "1) ModelCheckpoint\n",
    "- 지정한 평가지표를 기준으로 가장 뛰어난 성능을 보여주는 모델을 저장할 때 사용\n",
    "- `ModelCheckpoint(filepath, monitor = 'val_loss', verbose = 0, save_best_only = False, save_weights_only = False, mode = 'auto')`\n",
    "    - filepath: 모델의 저장 경로를 지정\n",
    "    - monitor: 모니터링할 평가지표를 설정. 모델이 포함하고 있는 모든 지표를 사용할 수 있다.\n",
    "    - verbose: 콜백의 수행 과정 노출 여부를 지정.\n",
    "        - 0: 아무런 표시 하지 않음(기본값)\n",
    "        - 1: progress bar로 표시\n",
    "        - 2: 매 에폭마다 수행과정을 자세하게 출력함\n",
    "    - save_best_only: True인 경우, 가장 성능이 뛰어난 모델만 저장. 그보다 좋지 않은 모델의 경우는 덮어쓰지 않는다.\n",
    "    - save_weights_only: Ture인 경우 모델의 가중치만 저장\n",
    "    - mode: ['auto', min', 'max'] 중 하나를 사용\n",
    "        - monitor에서 지정한 평가지표를 기준으로 작동\n",
    "            - 평가지표가 val_acc인 경우 max를 선택해야 함.\n",
    "            - 평가지표가 val_loss인 경우 min을 선택해야 함.\n",
    "            - auto인 경우 평가지표의 이름을 통해 자동으로 유추.\n"
   ]
  },
  {
   "cell_type": "markdown",
   "metadata": {},
   "source": [
    "2) EarlyStopping\n",
    "- 모델 학습 시에 지정된 기간동안 모니터링하는 평가지표에서 성능 향상이 일어나지 않은 경우 학습을 중단\n",
    "- `EarlyStopping(monitor = 'val_loss', patience = 0, verbose = 0, mode = 'auto')`\n",
    "    - monitor, verbose, mode는 1)의 ModelCheckpoint와 같다.\n",
    "    - patience: 지정한 수만큼의 기간에서 평가지표의 향상이 일어나지 않을 경우 학습을 중단(기간 = epoch)\n",
    "        - 예를 들어 patience = 5일 때, 5에폭동안 성능 향상이 일어나지 않으면 학습을 중단"
   ]
  },
  {
   "cell_type": "markdown",
   "metadata": {},
   "source": [
    "3) ReduceLROnPlateau\n",
    "- EarlyStopping 콜백과 같이 patience 인자를 지정하여 지정된 기간동안 평가지표에서 성능 향상이 일어나지 않으면 학습률을 조정하는 콜백\n",
    "- `ReduceLROnPlateau(monitor = 'val_loss', factor = 0.1, patience = 10, verbose = 0, min_lr = 0)`\n",
    "    - monitor, verbose는 1)의 ModelCheckpoint와 같다.\n",
    "    - factor: 학습률 조정에 사용되는 값(새로운 학습률 = factor * 기존 학습률)\n",
    "    - min_lr: 학습률의 하한을 지정"
   ]
  },
  {
   "cell_type": "markdown",
   "metadata": {},
   "source": [
    "4) TensorBoard\n",
    "- 학습 과정을 편리하게 모니터링할 수 있도록 텐서플로우에서 제공하고 있는 도구\n",
    "- `TensorBoard(log_dir = './logs', histogram_freq = 0, batch_size = 32, write_graph = True, write_images = True)`\n",
    "    - log_dir: 텐서보드를 사용할 로그 파일의 저장 경로\n",
    "    - histogram_freq: 활성화 및 가중치를 히스토그램으로 얼마나 자주 나타낼지를 결정\n",
    "        - 0인 경우 히스토그램을 생성하지 않는다.\n",
    "        - 이를 시행하기 위해서는 학습시에 검증 데이터가 전달되어야 한다.\n",
    "    - batch_size: 히스토그램을 계산하기 위한 배치 크기\n",
    "    - write_graph: 그래프 시각화에 대한 여부. 기본값은 True\n",
    "    - write_images: 텐서보드에서 이미지로 시각화하기 위한 가중치의 기록 여부"
   ]
  },
  {
   "cell_type": "markdown",
   "metadata": {},
   "source": [
    "## Callback함수 사용 방법"
   ]
  },
  {
   "cell_type": "markdown",
   "metadata": {},
   "source": [
    "1) 콜백 정의\n",
    "\n",
    "- callbacks = [ 콜백1, 콜백2, ..., 콜백n ]"
   ]
  },
  {
   "cell_type": "markdown",
   "metadata": {},
   "source": [
    "2) 학습을 위한 fit()함수에서 callbacks 파라미터에 미리 정의한 리스트를 지정\n",
    "\n",
    "- \n",
    "```python\n",
    "callbacks = [TensorBoard(log_dir = logdir, histogram_freq = 1, write_graph = True, write_images = True),\n",
    "             EarlyStopping(monitor = 'val_loss', patience = 3, verbose = 1),\n",
    "             ModelCheckpoint(filpath = filepath, monitor = 'var_loss', verbose = 1, save_best_only = True)\n",
    "            ]\n",
    "model.fit(x_train, y_train, batch_size = 32, validation_data = (x_val, y_val), epochs = 10, callbacks = callbacks)\n",
    "```"
   ]
  }
 ],
 "metadata": {
  "kernelspec": {
   "display_name": "Python 3",
   "language": "python",
   "name": "python3"
  },
  "language_info": {
   "codemirror_mode": {
    "name": "ipython",
    "version": 3
   },
   "file_extension": ".py",
   "mimetype": "text/x-python",
   "name": "python",
   "nbconvert_exporter": "python",
   "pygments_lexer": "ipython3",
   "version": "3.8.6"
  }
 },
 "nbformat": 4,
 "nbformat_minor": 4
}
