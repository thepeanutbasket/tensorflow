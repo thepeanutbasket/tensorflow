{
 "cells": [
  {
   "cell_type": "markdown",
   "metadata": {},
   "source": [
    "## 패키지 참조 + 시드고정"
   ]
  },
  {
   "cell_type": "code",
   "execution_count": 1,
   "metadata": {},
   "outputs": [],
   "source": [
    "import tensorflow as tf\n",
    "tf.random.set_seed(777)\n",
    "\n",
    "from matplotlib import pyplot as plt\n",
    "\n",
    "import numpy as np\n",
    "from tensorflow.keras.models import Sequential\n",
    "from tensorflow.keras.layers import Dense\n",
    "# 기울기를 단순 누적하지 않고 지수, 가중, 이동, 평균을 사용하여 최신 기울기들이 더 크게 반영되도록 하는 경사하강법 공식 중의 하나\n",
    "from tensorflow.keras.optimizers import RMSprop\n",
    "from tensorflow.keras.losses import mse"
   ]
  },
  {
   "cell_type": "markdown",
   "metadata": {},
   "source": [
    "## 데이터 준비하기"
   ]
  },
  {
   "cell_type": "code",
   "execution_count": 2,
   "metadata": {},
   "outputs": [],
   "source": [
    "data = np.array([[0, 0], [1, 0], [0, 1], [1, 1]])\n",
    "label = np.array([[0], [1], [1], [0]])      # data 값이 서로 같으면 0, 다르면 1"
   ]
  },
  {
   "cell_type": "markdown",
   "metadata": {},
   "source": [
    "## 모델 구성하기"
   ]
  },
  {
   "cell_type": "code",
   "execution_count": 3,
   "metadata": {},
   "outputs": [],
   "source": [
    "model = Sequential()\n",
    "# 32개의 은닉층 갯수를 만들고 그걸로 조합 가능한 모든 경우의 수를 수행한 후 1개의 출력값을 갖는다.\n",
    "model.add(Dense(32, input_shape = (2, ), activation = 'relu'))\n",
    "model.add(Dense(1, activation = 'sigmoid'))"
   ]
  },
  {
   "cell_type": "markdown",
   "metadata": {},
   "source": [
    "## 모델 준비하기"
   ]
  },
  {
   "cell_type": "code",
   "execution_count": 4,
   "metadata": {},
   "outputs": [],
   "source": [
    "model.compile(optimizer = RMSprop(), loss = mse, metrics = ['acc'])"
   ]
  },
  {
   "cell_type": "markdown",
   "metadata": {},
   "source": [
    "## 학습시키기"
   ]
  },
  {
   "cell_type": "code",
   "execution_count": 5,
   "metadata": {
    "collapsed": true,
    "jupyter": {
     "outputs_hidden": true
    }
   },
   "outputs": [
    {
     "name": "stdout",
     "output_type": "stream",
     "text": [
      "Epoch 1/100\n",
      "1/1 [==============================] - 0s 972us/step - loss: 0.2646 - acc: 0.5000\n",
      "Epoch 2/100\n",
      "1/1 [==============================] - 0s 998us/step - loss: 0.2621 - acc: 0.2500\n",
      "Epoch 3/100\n",
      "1/1 [==============================] - 0s 997us/step - loss: 0.2603 - acc: 0.2500\n",
      "Epoch 4/100\n",
      "1/1 [==============================] - 0s 997us/step - loss: 0.2589 - acc: 0.2500\n",
      "Epoch 5/100\n",
      "1/1 [==============================] - 0s 995us/step - loss: 0.2578 - acc: 0.2500\n",
      "Epoch 6/100\n",
      "1/1 [==============================] - 0s 998us/step - loss: 0.2568 - acc: 0.2500\n",
      "Epoch 7/100\n",
      "1/1 [==============================] - 0s 969us/step - loss: 0.2558 - acc: 0.2500\n",
      "Epoch 8/100\n",
      "1/1 [==============================] - 0s 0s/step - loss: 0.2550 - acc: 0.2500\n",
      "Epoch 9/100\n",
      "1/1 [==============================] - 0s 994us/step - loss: 0.2541 - acc: 0.2500\n",
      "Epoch 10/100\n",
      "1/1 [==============================] - 0s 997us/step - loss: 0.2533 - acc: 0.2500\n",
      "Epoch 11/100\n",
      "1/1 [==============================] - 0s 998us/step - loss: 0.2526 - acc: 0.5000\n",
      "Epoch 12/100\n",
      "1/1 [==============================] - 0s 998us/step - loss: 0.2518 - acc: 0.5000\n",
      "Epoch 13/100\n",
      "1/1 [==============================] - 0s 1ms/step - loss: 0.2512 - acc: 0.5000\n",
      "Epoch 14/100\n",
      "1/1 [==============================] - 0s 2ms/step - loss: 0.2505 - acc: 0.5000\n",
      "Epoch 15/100\n",
      "1/1 [==============================] - 0s 998us/step - loss: 0.2499 - acc: 0.5000\n",
      "Epoch 16/100\n",
      "1/1 [==============================] - 0s 2ms/step - loss: 0.2493 - acc: 0.5000\n",
      "Epoch 17/100\n",
      "1/1 [==============================] - 0s 993us/step - loss: 0.2487 - acc: 0.5000\n",
      "Epoch 18/100\n",
      "1/1 [==============================] - 0s 0s/step - loss: 0.2481 - acc: 0.5000\n",
      "Epoch 19/100\n",
      "1/1 [==============================] - 0s 1ms/step - loss: 0.2475 - acc: 0.5000\n",
      "Epoch 20/100\n",
      "1/1 [==============================] - 0s 994us/step - loss: 0.2470 - acc: 0.5000\n",
      "Epoch 21/100\n",
      "1/1 [==============================] - 0s 2ms/step - loss: 0.2464 - acc: 0.5000\n",
      "Epoch 22/100\n",
      "1/1 [==============================] - 0s 2ms/step - loss: 0.2459 - acc: 0.5000\n",
      "Epoch 23/100\n",
      "1/1 [==============================] - 0s 998us/step - loss: 0.2453 - acc: 0.5000\n",
      "Epoch 24/100\n",
      "1/1 [==============================] - 0s 2ms/step - loss: 0.2448 - acc: 0.5000\n",
      "Epoch 25/100\n",
      "1/1 [==============================] - 0s 997us/step - loss: 0.2443 - acc: 0.5000\n",
      "Epoch 26/100\n",
      "1/1 [==============================] - 0s 997us/step - loss: 0.2437 - acc: 0.5000\n",
      "Epoch 27/100\n",
      "1/1 [==============================] - 0s 997us/step - loss: 0.2432 - acc: 0.5000\n",
      "Epoch 28/100\n",
      "1/1 [==============================] - 0s 998us/step - loss: 0.2427 - acc: 0.5000\n",
      "Epoch 29/100\n",
      "1/1 [==============================] - 0s 2ms/step - loss: 0.2422 - acc: 0.5000\n",
      "Epoch 30/100\n",
      "1/1 [==============================] - 0s 997us/step - loss: 0.2416 - acc: 0.5000\n",
      "Epoch 31/100\n",
      "1/1 [==============================] - 0s 997us/step - loss: 0.2411 - acc: 0.5000\n",
      "Epoch 32/100\n",
      "1/1 [==============================] - 0s 998us/step - loss: 0.2406 - acc: 0.5000\n",
      "Epoch 33/100\n",
      "1/1 [==============================] - 0s 998us/step - loss: 0.2401 - acc: 0.5000\n",
      "Epoch 34/100\n",
      "1/1 [==============================] - 0s 997us/step - loss: 0.2396 - acc: 0.5000\n",
      "Epoch 35/100\n",
      "1/1 [==============================] - 0s 998us/step - loss: 0.2390 - acc: 0.5000\n",
      "Epoch 36/100\n",
      "1/1 [==============================] - 0s 2ms/step - loss: 0.2385 - acc: 0.5000\n",
      "Epoch 37/100\n",
      "1/1 [==============================] - 0s 3ms/step - loss: 0.2380 - acc: 0.5000\n",
      "Epoch 38/100\n",
      "1/1 [==============================] - 0s 2ms/step - loss: 0.2375 - acc: 0.5000\n",
      "Epoch 39/100\n",
      "1/1 [==============================] - 0s 997us/step - loss: 0.2369 - acc: 0.5000\n",
      "Epoch 40/100\n",
      "1/1 [==============================] - 0s 2ms/step - loss: 0.2364 - acc: 0.5000\n",
      "Epoch 41/100\n",
      "1/1 [==============================] - 0s 2ms/step - loss: 0.2359 - acc: 0.7500\n",
      "Epoch 42/100\n",
      "1/1 [==============================] - 0s 2ms/step - loss: 0.2354 - acc: 0.7500\n",
      "Epoch 43/100\n",
      "1/1 [==============================] - 0s 998us/step - loss: 0.2349 - acc: 0.7500\n",
      "Epoch 44/100\n",
      "1/1 [==============================] - 0s 998us/step - loss: 0.2344 - acc: 0.7500\n",
      "Epoch 45/100\n",
      "1/1 [==============================] - 0s 997us/step - loss: 0.2339 - acc: 0.7500\n",
      "Epoch 46/100\n",
      "1/1 [==============================] - 0s 3ms/step - loss: 0.2334 - acc: 0.7500\n",
      "Epoch 47/100\n",
      "1/1 [==============================] - 0s 2ms/step - loss: 0.2330 - acc: 0.7500\n",
      "Epoch 48/100\n",
      "1/1 [==============================] - 0s 993us/step - loss: 0.2325 - acc: 0.7500\n",
      "Epoch 49/100\n",
      "1/1 [==============================] - 0s 997us/step - loss: 0.2320 - acc: 0.7500\n",
      "Epoch 50/100\n",
      "1/1 [==============================] - 0s 2ms/step - loss: 0.2316 - acc: 0.7500\n",
      "Epoch 51/100\n",
      "1/1 [==============================] - 0s 2ms/step - loss: 0.2311 - acc: 0.7500\n",
      "Epoch 52/100\n",
      "1/1 [==============================] - 0s 997us/step - loss: 0.2307 - acc: 0.7500\n",
      "Epoch 53/100\n",
      "1/1 [==============================] - 0s 5ms/step - loss: 0.2302 - acc: 0.7500\n",
      "Epoch 54/100\n",
      "1/1 [==============================] - 0s 998us/step - loss: 0.2298 - acc: 0.7500\n",
      "Epoch 55/100\n",
      "1/1 [==============================] - 0s 3ms/step - loss: 0.2293 - acc: 0.7500\n",
      "Epoch 56/100\n",
      "1/1 [==============================] - 0s 998us/step - loss: 0.2288 - acc: 0.7500\n",
      "Epoch 57/100\n",
      "1/1 [==============================] - 0s 2ms/step - loss: 0.2283 - acc: 0.7500\n",
      "Epoch 58/100\n",
      "1/1 [==============================] - 0s 2ms/step - loss: 0.2278 - acc: 1.0000\n",
      "Epoch 59/100\n",
      "1/1 [==============================] - 0s 997us/step - loss: 0.2273 - acc: 1.0000\n",
      "Epoch 60/100\n",
      "1/1 [==============================] - 0s 997us/step - loss: 0.2269 - acc: 1.0000\n",
      "Epoch 61/100\n",
      "1/1 [==============================] - 0s 2ms/step - loss: 0.2265 - acc: 1.0000\n",
      "Epoch 62/100\n",
      "1/1 [==============================] - 0s 2ms/step - loss: 0.2261 - acc: 1.0000\n",
      "Epoch 63/100\n",
      "1/1 [==============================] - 0s 998us/step - loss: 0.2258 - acc: 1.0000\n",
      "Epoch 64/100\n",
      "1/1 [==============================] - 0s 2ms/step - loss: 0.2254 - acc: 1.0000\n",
      "Epoch 65/100\n",
      "1/1 [==============================] - 0s 998us/step - loss: 0.2250 - acc: 1.0000\n",
      "Epoch 66/100\n",
      "1/1 [==============================] - 0s 997us/step - loss: 0.2246 - acc: 1.0000\n",
      "Epoch 67/100\n",
      "1/1 [==============================] - 0s 998us/step - loss: 0.2242 - acc: 1.0000\n",
      "Epoch 68/100\n",
      "1/1 [==============================] - 0s 2ms/step - loss: 0.2238 - acc: 1.0000\n",
      "Epoch 69/100\n",
      "1/1 [==============================] - 0s 2ms/step - loss: 0.2234 - acc: 1.0000\n",
      "Epoch 70/100\n",
      "1/1 [==============================] - 0s 2ms/step - loss: 0.2230 - acc: 1.0000\n",
      "Epoch 71/100\n",
      "1/1 [==============================] - 0s 997us/step - loss: 0.2226 - acc: 1.0000\n",
      "Epoch 72/100\n",
      "1/1 [==============================] - 0s 2ms/step - loss: 0.2222 - acc: 1.0000\n",
      "Epoch 73/100\n",
      "1/1 [==============================] - 0s 997us/step - loss: 0.2219 - acc: 1.0000\n",
      "Epoch 74/100\n",
      "1/1 [==============================] - 0s 2ms/step - loss: 0.2214 - acc: 1.0000\n",
      "Epoch 75/100\n",
      "1/1 [==============================] - 0s 992us/step - loss: 0.2210 - acc: 1.0000\n",
      "Epoch 76/100\n",
      "1/1 [==============================] - 0s 998us/step - loss: 0.2206 - acc: 1.0000\n",
      "Epoch 77/100\n",
      "1/1 [==============================] - 0s 2ms/step - loss: 0.2203 - acc: 1.0000\n",
      "Epoch 78/100\n",
      "1/1 [==============================] - 0s 999us/step - loss: 0.2198 - acc: 1.0000\n",
      "Epoch 79/100\n",
      "1/1 [==============================] - 0s 997us/step - loss: 0.2195 - acc: 1.0000\n",
      "Epoch 80/100\n",
      "1/1 [==============================] - 0s 2ms/step - loss: 0.2191 - acc: 1.0000\n",
      "Epoch 81/100\n",
      "1/1 [==============================] - 0s 2ms/step - loss: 0.2187 - acc: 1.0000\n",
      "Epoch 82/100\n",
      "1/1 [==============================] - 0s 997us/step - loss: 0.2183 - acc: 1.0000\n",
      "Epoch 83/100\n",
      "1/1 [==============================] - 0s 997us/step - loss: 0.2179 - acc: 1.0000\n",
      "Epoch 84/100\n",
      "1/1 [==============================] - 0s 2ms/step - loss: 0.2175 - acc: 1.0000\n",
      "Epoch 85/100\n",
      "1/1 [==============================] - 0s 2ms/step - loss: 0.2171 - acc: 1.0000\n",
      "Epoch 86/100\n",
      "1/1 [==============================] - 0s 996us/step - loss: 0.2167 - acc: 1.0000\n",
      "Epoch 87/100\n",
      "1/1 [==============================] - 0s 2ms/step - loss: 0.2163 - acc: 1.0000\n",
      "Epoch 88/100\n",
      "1/1 [==============================] - 0s 2ms/step - loss: 0.2159 - acc: 1.0000\n",
      "Epoch 89/100\n",
      "1/1 [==============================] - 0s 2ms/step - loss: 0.2155 - acc: 1.0000\n",
      "Epoch 90/100\n",
      "1/1 [==============================] - 0s 997us/step - loss: 0.2151 - acc: 1.0000\n",
      "Epoch 91/100\n",
      "1/1 [==============================] - 0s 995us/step - loss: 0.2147 - acc: 1.0000\n",
      "Epoch 92/100\n",
      "1/1 [==============================] - 0s 997us/step - loss: 0.2143 - acc: 1.0000\n",
      "Epoch 93/100\n",
      "1/1 [==============================] - 0s 2ms/step - loss: 0.2138 - acc: 1.0000\n",
      "Epoch 94/100\n",
      "1/1 [==============================] - 0s 998us/step - loss: 0.2135 - acc: 1.0000\n",
      "Epoch 95/100\n",
      "1/1 [==============================] - 0s 997us/step - loss: 0.2130 - acc: 1.0000\n",
      "Epoch 96/100\n",
      "1/1 [==============================] - 0s 997us/step - loss: 0.2126 - acc: 1.0000\n",
      "Epoch 97/100\n",
      "1/1 [==============================] - 0s 3ms/step - loss: 0.2122 - acc: 1.0000\n",
      "Epoch 98/100\n",
      "1/1 [==============================] - 0s 3ms/step - loss: 0.2118 - acc: 1.0000\n",
      "Epoch 99/100\n",
      "1/1 [==============================] - 0s 2ms/step - loss: 0.2114 - acc: 1.0000\n",
      "Epoch 100/100\n",
      "1/1 [==============================] - 0s 2ms/step - loss: 0.2110 - acc: 1.0000\n"
     ]
    }
   ],
   "source": [
    "hist = model.fit(data, label, epochs = 100)"
   ]
  },
  {
   "cell_type": "markdown",
   "metadata": {},
   "source": [
    "## 모델 평가하기\n",
    "- 모델의 최종적인 정답률과 loss값을 알 수 있다.\n",
    "- loss는 예측값과 실제값이 차이나는 정도를 나타내는 지표이다. 작을수록 좋다."
   ]
  },
  {
   "cell_type": "code",
   "execution_count": 6,
   "metadata": {},
   "outputs": [
    {
     "name": "stdout",
     "output_type": "stream",
     "text": [
      "1/1 [==============================] - 0s 997us/step - loss: 0.2106 - acc: 1.0000\n"
     ]
    },
    {
     "data": {
      "text/plain": [
       "[0.21061019599437714, 1.0]"
      ]
     },
     "execution_count": 6,
     "metadata": {},
     "output_type": "execute_result"
    }
   ],
   "source": [
    "model.evaluate(data, label)"
   ]
  },
  {
   "cell_type": "markdown",
   "metadata": {},
   "source": [
    "## 모델 사용하기\n",
    "- 경사하강법은 절대로 이진수가 똑 떨어져서 나오지 않는다. 근사치를 뽑는다."
   ]
  },
  {
   "cell_type": "code",
   "execution_count": 7,
   "metadata": {},
   "outputs": [
    {
     "name": "stdout",
     "output_type": "stream",
     "text": [
      "[[0.48656905]\n",
      " [0.54643035]\n",
      " [0.55211586]\n",
      " [0.44650382]]\n"
     ]
    }
   ],
   "source": [
    "result = model.predict(data)\n",
    "print(result)"
   ]
  },
  {
   "cell_type": "markdown",
   "metadata": {},
   "source": [
    "## 모델의 손실률과 정확도 시각화"
   ]
  },
  {
   "cell_type": "code",
   "execution_count": 8,
   "metadata": {},
   "outputs": [
    {
     "data": {
      "image/png": "[encoded data removed]",
      "text/plain": [
       "<Figure size 720x360 with 2 Axes>"
      ]
     },
     "metadata": {
      "needs_background": "light"
     },
     "output_type": "display_data"
    }
   ],
   "source": [
    "plt.rcParams['font.family'] = 'Arial'\n",
    "plt.rcParams['font.size'] = 15\n",
    "plt.rcParams['figure.figsize'] = (10, 5)\n",
    "\n",
    "fig = plt.figure()\n",
    "ax1 = fig.add_subplot(1,1,1)\n",
    "ax2 = ax1.twinx()\n",
    "\n",
    "ax1.plot(hist.history['loss'], 'y', label = 'train loss')\n",
    "# ax1.plot(hist.history['val_loss'], 'r', label = 'val loss')\n",
    "ax1.set_xlabel('epoch')\n",
    "ax1.set_ylabel('loss')\n",
    "ax1.legend(bbox_to_anchor = (1, 1))\n",
    "\n",
    "ax2.plot(hist.history['acc'], 'b', label = 'train acc')\n",
    "# ax2.plot(hist.history['val_acc'], 'g', label = 'val acc')\n",
    "ax2.set_ylabel('accuracy')\n",
    "ax2.legend(loc = 'lower left')\n",
    "\n",
    "plt.show()"
   ]
  }
 ],
 "metadata": {
  "kernelspec": {
   "display_name": "Python 3",
   "language": "python",
   "name": "python3"
  },
  "language_info": {
   "codemirror_mode": {
    "name": "ipython",
    "version": 3
   },
   "file_extension": ".py",
   "mimetype": "text/x-python",
   "name": "python",
   "nbconvert_exporter": "python",
   "pygments_lexer": "ipython3",
   "version": "3.8.6"
  }
 },
 "nbformat": 4,
 "nbformat_minor": 4
}
