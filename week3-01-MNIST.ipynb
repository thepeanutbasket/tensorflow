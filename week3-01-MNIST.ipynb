{
 "cells": [
  {
   "cell_type": "markdown",
   "metadata": {},
   "source": [
    "# MNIST 데이터셋 분류 예제\n",
    "\n",
    "- 숫자 이미지에 대한 샘플 데이터 활용"
   ]
  },
  {
   "cell_type": "code",
   "execution_count": 2,
   "metadata": {},
   "outputs": [],
   "source": [
    "from tensorflow.keras.datasets.mnist import load_data\n",
    "from tensorflow.keras.utils import to_categorical\n",
    "from tensorflow.keras.models import Sequential\n",
    "from tensorflow.keras.layers import Dense\n",
    "from sklearn.model_selection import train_test_split\n",
    "\n",
    "# sklearn.metrics 모듈은 여러가지 평가 지표에 관한 기능을 제공한다.\n",
    "from sklearn.metrics import classification_report, confusion_matrix\n",
    "\n",
    "import seaborn as sns\n",
    "import matplotlib.pyplot as plt\n",
    "import numpy as np\n",
    "from pandas import DataFrame\n",
    "\n",
    "# 랜덤 시드 고정\n",
    "np.random.seed(777)"
   ]
  },
  {
   "cell_type": "code",
   "execution_count": 3,
   "metadata": {},
   "outputs": [],
   "source": [
    "# 텐서플로우 저장소에서 데이터를 다운받는다.\n",
    "(x_train, y_train), (x_test, y_test) = load_data(path = 'mnist.npz')"
   ]
  },
  {
   "cell_type": "markdown",
   "metadata": {},
   "source": [
    "### 데이터의 형태 확인\n",
    "\n",
    "숫자 이미지(size: 28px * 28px)와 각 이미지에 해당하는 label(0부터 9까지)로 이루어져 있고, 60,000개의 학습 데이터와 10,000개의 테스트 데이터로 구성되어 있다."
   ]
  },
  {
   "cell_type": "code",
   "execution_count": 4,
   "metadata": {},
   "outputs": [
    {
     "name": "stdout",
     "output_type": "stream",
     "text": [
      "(60000, 28, 28) (60000,)\n",
      "[5 0 4 ... 5 6 8]\n"
     ]
    }
   ],
   "source": [
    "# 훈련 데이터\n",
    "# x_train -> 숫자이미지들\n",
    "# y_train -> 이미지들에 대한 실제 숫자 값\n",
    "print(x_train.shape, y_train.shape)\n",
    "print(y_train)"
   ]
  },
  {
   "cell_type": "code",
   "execution_count": 5,
   "metadata": {},
   "outputs": [
    {
     "name": "stdout",
     "output_type": "stream",
     "text": [
      "(10000, 28, 28) (10000,)\n",
      "[7 2 1 ... 4 5 6]\n",
      "60000\n"
     ]
    }
   ],
   "source": [
    "# 테스트데이터\n",
    "print(x_test.shape, y_test.shape)\n",
    "print(y_test)\n",
    "print(x_train.shape[0])"
   ]
  },
  {
   "cell_type": "code",
   "execution_count": 6,
   "metadata": {},
   "outputs": [
    {
     "name": "stdout",
     "output_type": "stream",
     "text": [
      "임의로 추출할 위치: [47919 15931 52134]\n"
     ]
    },
    {
     "data": {
      "image/png": "[encoded data removed]",
      "text/plain": [
       "<Figure size 432x288 with 1 Axes>"
      ]
     },
     "metadata": {
      "needs_background": "light"
     },
     "output_type": "display_data"
    },
    {
     "data": {
      "image/png": "[encoded data removed]",
      "text/plain": [
       "<Figure size 432x288 with 1 Axes>"
      ]
     },
     "metadata": {
      "needs_background": "light"
     },
     "output_type": "display_data"
    },
    {
     "data": {
      "image/png": "[encoded data removed]",
      "text/plain": [
       "<Figure size 432x288 with 1 Axes>"
      ]
     },
     "metadata": {
      "needs_background": "light"
     },
     "output_type": "display_data"
    }
   ],
   "source": [
    "# 임의로 추출할 위치 마련하기\n",
    "sample_size = 3\n",
    "\n",
    "# 0 ~ 59999의 범위에서 무작위로 3개의 정수를 뽑습니다.\n",
    "random_idx = np.random.randint(x_train.shape[0], size = sample_size)\n",
    "print(\"임의로 추출할 위치: %s\" % random_idx)\n",
    "\n",
    "# 데이터 그려보기\n",
    "for idx in random_idx:\n",
    "    # 이미지 꺼내기\n",
    "    img = x_train[idx, :]\n",
    "    \n",
    "    # 이미지에 대한 답 꺼내기\n",
    "    label = y_train[idx]\n",
    "    \n",
    "    # 그리기\n",
    "    plt.figure()\n",
    "    plt.imshow(img)\n",
    "    plt.title('%d-th image, label is %d' % (idx, label))"
   ]
  },
  {
   "cell_type": "markdown",
   "metadata": {},
   "source": [
    "### 검증 데이터 만들기\n",
    "- 훈련 데이터를 일정 비율(7:3)로 훈련 데이터와 검증 데이터로 나누는 과정\n",
    "- sklearn 패키지의 train_test_split() 함수\n",
    "    - 데이터 셋을 학습, 검증, 테스트 세트로 분리할 때 사용\n",
    "    - test_size: 테스트셋의 비율 --> 학습 비율은 \"1-테스트셋 비율\"\n",
    "    - random_state: random_seed와 같은 의미. 테스트 도중 매 실행시마다 결과값이 달라지는 것을 방지하기 위해 사용함."
   ]
  },
  {
   "cell_type": "code",
   "execution_count": 7,
   "metadata": {},
   "outputs": [
    {
     "name": "stdout",
     "output_type": "stream",
     "text": [
      "훈련 데이터 (42000, 28, 28) 레이블 (42000,)\n",
      "검증 데이터 (18000, 28, 28) 레이블 (18000,)\n"
     ]
    }
   ],
   "source": [
    "# 훈련/테스트 데이터를 0.7/0.3의 비율로 분리\n",
    "x_train, x_val, y_train, y_val = train_test_split(x_train, y_train, \n",
    "                                                  test_size = 0.3, random_state = 777)\n",
    "\n",
    "print(f'훈련 데이터 {x_train.shape} 레이블 {y_train.shape}')\n",
    "print(f'검증 데이터 {x_val.shape} 레이블 {y_val.shape}')"
   ]
  },
  {
   "cell_type": "markdown",
   "metadata": {},
   "source": [
    "### 모델 입력을 위한 전처리\n",
    "\n",
    "- 신경망은 입력 데이터의 스케일에 매우 민감하므로 적절한 전처리 과정이 필수\n",
    "    - 그래디언트 손실(Gradient Vanishing)과 그대리언트 폭발(Gradient Exploding)로 인해 학습이 진행되지 않는 현상을 방지하기 위함\n",
    "- (28 X 28) 2차 배열을 1차원으로 변환\n",
    "- 2차 배열이 몇 쌍인지를 의미하는 변수\n",
    "- gif라는 이미지는 팔레트(색깔)가 0-255 범위 안에 존재한다. 한 픽셀 안에 들어가는 색의 값이 0-255라는 뜻."
   ]
  },
  {
   "cell_type": "code",
   "execution_count": 8,
   "metadata": {},
   "outputs": [
    {
     "name": "stdout",
     "output_type": "stream",
     "text": [
      "42000\n",
      "18000\n",
      "10000\n"
     ]
    }
   ],
   "source": [
    "num_x_train = x_train.shape[0]\n",
    "num_x_val = x_val.shape[0]\n",
    "num_x_test = x_test.shape[0]\n",
    "print(num_x_train)\n",
    "print(num_x_val)\n",
    "print(num_x_test)"
   ]
  },
  {
   "cell_type": "code",
   "execution_count": 9,
   "metadata": {},
   "outputs": [
    {
     "name": "stdout",
     "output_type": "stream",
     "text": [
      "(42000, 784)\n",
      "(18000, 784)\n",
      "(10000, 784)\n"
     ]
    }
   ],
   "source": [
    "# 배열의 차수 재설정\n",
    "re_x_train = (x_train.reshape((num_x_train, 28 * 28))) / 255\n",
    "# 255는 이미지 자체의 픽셀 수. 이미지가 gif파일인 경우에는 픽셀 수가 255이다.\n",
    "# 0 - 255의 값을 백분율로 바꾸었다고 생각하면 된다???\n",
    "re_x_val = (x_val.reshape((num_x_val, 28 * 28))) / 255\n",
    "re_x_test = (x_test.reshape((num_x_test, 28 * 28))) / 255\n",
    "\n",
    "print(re_x_train.shape)\n",
    "print(re_x_val.shape)\n",
    "print(re_x_test.shape)"
   ]
  },
  {
   "cell_type": "markdown",
   "metadata": {},
   "source": [
    "### 모델 입력을 위한 레이블 전처리\n",
    "- 어차피 레이블은 1 - 10까지의 숫자로 되어 있으므로, 각각의 값을 범주(category)로 만들어준다.\n",
    "- 모델의 마지막층에서 softmax를 사용하므로 label데이터를 범주형으로 변환해두어야 한다."
   ]
  },
  {
   "cell_type": "code",
   "execution_count": 11,
   "metadata": {},
   "outputs": [
    {
     "name": "stdout",
     "output_type": "stream",
     "text": [
      "(42000, 10)\n",
      "(18000, 10)\n",
      "(10000, 10)\n"
     ]
    }
   ],
   "source": [
    "# 각 데이터의 레이블을 범주형 형태로 변경한다.\n",
    "ca_y_train = to_categorical(y_train)\n",
    "ca_y_val = to_categorical(y_val)\n",
    "ca_y_test = to_categorical(y_test)\n",
    "\n",
    "print(ca_y_train.shape)\n",
    "print(ca_y_val.shape)\n",
    "print(ca_y_test.shape)"
   ]
  },
  {
   "cell_type": "markdown",
   "metadata": {},
   "source": [
    "### 모델 구성하기 -> Dense층 여러 개 쌓기\n",
    "- Dense층이 많아질수록 정확성은 좋아지지만 속도가 떨어진다. \n",
    "- 여기에 최적화된 층을 쌓는 것은 여러번의 실험을 통해 내가 최적화를 시켜야 한다.\n",
    "- Dense층을 어떻게 구성해야 할 지를 모르겠으면 마지막 층만 두고 나머지는 다 relu로 시도해본다. 요즘 유행하는 활성함수가 relu"
   ]
  },
  {
   "cell_type": "code",
   "execution_count": 12,
   "metadata": {},
   "outputs": [],
   "source": [
    "model = Sequential()\n",
    "# Dense층의 첫 번째 층은 항상 입력 데이터의 형태(input_shape)를 꼭 명시해야 한다.\n",
    "# -> 784차원의 데이터를 입력으로 받고, 64개의 출력을 가지는 첫 번째 Dense 층\n",
    "\n",
    "model.add(Dense(64, activation = 'relu', input_shape = (784, )))\n",
    "model.add(Dense(32, activation = 'relu')) # 32개의 출력을 가지는 Dense층\n",
    "model.add(Dense(10, activation = 'softmax')) # 10개의 출력을 가지는 신경망"
   ]
  },
  {
   "cell_type": "markdown",
   "metadata": {},
   "source": [
    "### 학습과정 설정하기 --> 옵티마이저, 손실함수, 평가지표 설정\n",
    "다중 분류 무제에서의 손실함수는 'categoriacl_crossentropy' 사용\n",
    "- 정보 이론에서 파생된 함수\n",
    "- 실제값과 예측값이 같은 값을 갖는 방향으로 학습된다.\n",
    "- 실제값과 예측값이 다를 결우 무한대로 발산하게 되고 동일한 경우는 0으로 수렴한다. (로그함수의 특징을 따름)\n",
    "- 옵티마이저를 어떻게 설정할 지 잘 모르겠으면 adam을 쓴다. 프로그램이 자동으로 설정하도록 맡겨버리는 것!"
   ]
  },
  {
   "cell_type": "code",
   "execution_count": 13,
   "metadata": {},
   "outputs": [],
   "source": [
    "# adam 옵티마이저 사용 --> 학습률이 0.001로 기본 설정되어 있음.\n",
    "model.compile(optimizer = 'adam', # 옵티마이저 : Adam\n",
    "             loss = 'categorical_crossentropy', # 손실 함수: categorical_crossentropy\n",
    "             metrics = ['acc'])  # 모니터링할 평가지표: acc"
   ]
  },
  {
   "cell_type": "markdown",
   "metadata": {},
   "source": [
    "### 모델 학습하기\n",
    "- epoch --> 30회 반복(정확도에 비례함, 속도에 반비례함)\n",
    "- validation_data 파라미터에 검증 데이터 전달 -> 매 애폭의 끝에서 학습주인 모델에 대한 검증을 수행한다."
   ]
  },
  {
   "cell_type": "code",
   "execution_count": 15,
   "metadata": {
    "collapsed": true,
    "jupyter": {
     "outputs_hidden": true
    }
   },
   "outputs": [
    {
     "name": "stdout",
     "output_type": "stream",
     "text": [
      "Epoch 1/30\n",
      "329/329 [==============================] - 1s 2ms/step - loss: 0.4855 - acc: 0.8650 - val_loss: 0.2366 - val_acc: 0.9348\n",
      "Epoch 2/30\n",
      "329/329 [==============================] - 0s 1ms/step - loss: 0.2009 - acc: 0.9428 - val_loss: 0.1804 - val_acc: 0.9475\n",
      "Epoch 3/30\n",
      "329/329 [==============================] - 0s 1ms/step - loss: 0.1507 - acc: 0.9570 - val_loss: 0.1533 - val_acc: 0.9578\n",
      "Epoch 4/30\n",
      "329/329 [==============================] - 1s 2ms/step - loss: 0.1211 - acc: 0.9654 - val_loss: 0.1389 - val_acc: 0.9581\n",
      "Epoch 5/30\n",
      "329/329 [==============================] - 1s 2ms/step - loss: 0.1014 - acc: 0.9703 - val_loss: 0.1272 - val_acc: 0.9620\n",
      "Epoch 6/30\n",
      "329/329 [==============================] - 0s 1ms/step - loss: 0.0871 - acc: 0.9755 - val_loss: 0.1166 - val_acc: 0.9648\n",
      "Epoch 7/30\n",
      "329/329 [==============================] - 0s 1ms/step - loss: 0.0771 - acc: 0.9775 - val_loss: 0.1148 - val_acc: 0.9671\n",
      "Epoch 8/30\n",
      "329/329 [==============================] - 0s 1ms/step - loss: 0.0661 - acc: 0.9806 - val_loss: 0.1188 - val_acc: 0.9647\n",
      "Epoch 9/30\n",
      "329/329 [==============================] - 0s 1ms/step - loss: 0.0577 - acc: 0.9834 - val_loss: 0.1093 - val_acc: 0.9681\n",
      "Epoch 10/30\n",
      "329/329 [==============================] - 0s 1ms/step - loss: 0.0523 - acc: 0.9844 - val_loss: 0.1094 - val_acc: 0.9678\n",
      "Epoch 11/30\n",
      "329/329 [==============================] - 0s 1ms/step - loss: 0.0452 - acc: 0.9870 - val_loss: 0.1049 - val_acc: 0.9692\n",
      "Epoch 12/30\n",
      "329/329 [==============================] - 0s 1ms/step - loss: 0.0390 - acc: 0.9887 - val_loss: 0.1086 - val_acc: 0.9687\n",
      "Epoch 13/30\n",
      "329/329 [==============================] - 0s 1ms/step - loss: 0.0351 - acc: 0.9902 - val_loss: 0.1113 - val_acc: 0.9688\n",
      "Epoch 14/30\n",
      "329/329 [==============================] - 1s 2ms/step - loss: 0.0306 - acc: 0.9907 - val_loss: 0.1092 - val_acc: 0.9688\n",
      "Epoch 15/30\n",
      "329/329 [==============================] - 1s 2ms/step - loss: 0.0273 - acc: 0.9916 - val_loss: 0.1113 - val_acc: 0.9696\n",
      "Epoch 16/30\n",
      "329/329 [==============================] - 0s 1ms/step - loss: 0.0234 - acc: 0.9931 - val_loss: 0.1150 - val_acc: 0.9696\n",
      "Epoch 17/30\n",
      "329/329 [==============================] - 0s 1ms/step - loss: 0.0204 - acc: 0.9942 - val_loss: 0.1121 - val_acc: 0.9704\n",
      "Epoch 18/30\n",
      "329/329 [==============================] - 1s 2ms/step - loss: 0.0175 - acc: 0.9953 - val_loss: 0.1202 - val_acc: 0.9690\n",
      "Epoch 19/30\n",
      "329/329 [==============================] - 1s 2ms/step - loss: 0.0166 - acc: 0.9952 - val_loss: 0.1273 - val_acc: 0.9677\n",
      "Epoch 20/30\n",
      "329/329 [==============================] - 0s 1ms/step - loss: 0.0155 - acc: 0.9957 - val_loss: 0.1224 - val_acc: 0.9701\n",
      "Epoch 21/30\n",
      "329/329 [==============================] - 0s 1ms/step - loss: 0.0141 - acc: 0.9961 - val_loss: 0.1298 - val_acc: 0.9682\n",
      "Epoch 22/30\n",
      "329/329 [==============================] - 0s 1ms/step - loss: 0.0108 - acc: 0.9975 - val_loss: 0.1380 - val_acc: 0.9675\n",
      "Epoch 23/30\n",
      "329/329 [==============================] - 1s 2ms/step - loss: 0.0091 - acc: 0.9981 - val_loss: 0.1398 - val_acc: 0.9671\n",
      "Epoch 24/30\n",
      "329/329 [==============================] - 0s 1ms/step - loss: 0.0101 - acc: 0.9973 - val_loss: 0.1331 - val_acc: 0.9701\n",
      "Epoch 25/30\n",
      "329/329 [==============================] - 0s 1ms/step - loss: 0.0092 - acc: 0.9974 - val_loss: 0.1312 - val_acc: 0.9708\n",
      "Epoch 26/30\n",
      "329/329 [==============================] - 0s 1ms/step - loss: 0.0053 - acc: 0.9993 - val_loss: 0.1329 - val_acc: 0.9711\n",
      "Epoch 27/30\n",
      "329/329 [==============================] - 0s 2ms/step - loss: 0.0065 - acc: 0.9985 - val_loss: 0.1481 - val_acc: 0.9689\n",
      "Epoch 28/30\n",
      "329/329 [==============================] - 1s 2ms/step - loss: 0.0113 - acc: 0.9965 - val_loss: 0.1483 - val_acc: 0.9682\n",
      "Epoch 29/30\n",
      "329/329 [==============================] - 0s 1ms/step - loss: 0.0058 - acc: 0.9986 - val_loss: 0.1439 - val_acc: 0.9703\n",
      "Epoch 30/30\n",
      "329/329 [==============================] - 0s 1ms/step - loss: 0.0041 - acc: 0.9993 - val_loss: 0.1612 - val_acc: 0.9686\n"
     ]
    }
   ],
   "source": [
    "result = model.fit(re_x_train, ca_y_train,\n",
    "                   epochs = 30, \n",
    "                   batch_size = 128,\n",
    "                   validation_data = (re_x_val, ca_y_val))"
   ]
  },
  {
   "cell_type": "markdown",
   "metadata": {},
   "source": [
    "### history를 통해 확인해볼 수 있는 값 출력하기"
   ]
  },
  {
   "cell_type": "code",
   "execution_count": 18,
   "metadata": {},
   "outputs": [
    {
     "data": {
      "text/plain": [
       "dict_keys(['loss', 'acc', 'val_loss', 'val_acc'])"
      ]
     },
     "execution_count": 18,
     "metadata": {},
     "output_type": "execute_result"
    }
   ],
   "source": [
    "# 학습결과(학습 데이터, 검증 데이터, 손실값, 평가지표)를 dictionary로 저장하고 있다.\n",
    "k = result.history.keys()\n",
    "k"
   ]
  },
  {
   "cell_type": "markdown",
   "metadata": {},
   "source": [
    "### 학습 결과 DataFrame 생성하기"
   ]
  },
  {
   "cell_type": "code",
   "execution_count": 19,
   "metadata": {},
   "outputs": [
    {
     "data": {
      "text/html": [
       "<div>\n",
       "<style scoped>\n",
       "    .dataframe tbody tr th:only-of-type {\n",
       "        vertical-align: middle;\n",
       "    }\n",
       "\n",
       "    .dataframe tbody tr th {\n",
       "        vertical-align: top;\n",
       "    }\n",
       "\n",
       "    .dataframe thead th {\n",
       "        text-align: right;\n",
       "    }\n",
       "</style>\n",
       "<table border=\"1\" class=\"dataframe\">\n",
       "  <thead>\n",
       "    <tr style=\"text-align: right;\">\n",
       "      <th></th>\n",
       "      <th>loss</th>\n",
       "      <th>acc</th>\n",
       "      <th>val_loss</th>\n",
       "      <th>val_acc</th>\n",
       "    </tr>\n",
       "  </thead>\n",
       "  <tbody>\n",
       "    <tr>\n",
       "      <th>0</th>\n",
       "      <td>0.485456</td>\n",
       "      <td>0.865024</td>\n",
       "      <td>0.236627</td>\n",
       "      <td>0.934778</td>\n",
       "    </tr>\n",
       "    <tr>\n",
       "      <th>1</th>\n",
       "      <td>0.200878</td>\n",
       "      <td>0.942833</td>\n",
       "      <td>0.180354</td>\n",
       "      <td>0.947500</td>\n",
       "    </tr>\n",
       "    <tr>\n",
       "      <th>2</th>\n",
       "      <td>0.150668</td>\n",
       "      <td>0.957024</td>\n",
       "      <td>0.153305</td>\n",
       "      <td>0.957833</td>\n",
       "    </tr>\n",
       "    <tr>\n",
       "      <th>3</th>\n",
       "      <td>0.121105</td>\n",
       "      <td>0.965429</td>\n",
       "      <td>0.138884</td>\n",
       "      <td>0.958056</td>\n",
       "    </tr>\n",
       "    <tr>\n",
       "      <th>4</th>\n",
       "      <td>0.101438</td>\n",
       "      <td>0.970309</td>\n",
       "      <td>0.127238</td>\n",
       "      <td>0.962000</td>\n",
       "    </tr>\n",
       "    <tr>\n",
       "      <th>5</th>\n",
       "      <td>0.087136</td>\n",
       "      <td>0.975548</td>\n",
       "      <td>0.116562</td>\n",
       "      <td>0.964778</td>\n",
       "    </tr>\n",
       "    <tr>\n",
       "      <th>6</th>\n",
       "      <td>0.077121</td>\n",
       "      <td>0.977524</td>\n",
       "      <td>0.114825</td>\n",
       "      <td>0.967056</td>\n",
       "    </tr>\n",
       "    <tr>\n",
       "      <th>7</th>\n",
       "      <td>0.066092</td>\n",
       "      <td>0.980643</td>\n",
       "      <td>0.118798</td>\n",
       "      <td>0.964722</td>\n",
       "    </tr>\n",
       "    <tr>\n",
       "      <th>8</th>\n",
       "      <td>0.057725</td>\n",
       "      <td>0.983381</td>\n",
       "      <td>0.109268</td>\n",
       "      <td>0.968056</td>\n",
       "    </tr>\n",
       "    <tr>\n",
       "      <th>9</th>\n",
       "      <td>0.052260</td>\n",
       "      <td>0.984357</td>\n",
       "      <td>0.109446</td>\n",
       "      <td>0.967833</td>\n",
       "    </tr>\n",
       "    <tr>\n",
       "      <th>10</th>\n",
       "      <td>0.045223</td>\n",
       "      <td>0.986952</td>\n",
       "      <td>0.104892</td>\n",
       "      <td>0.969167</td>\n",
       "    </tr>\n",
       "    <tr>\n",
       "      <th>11</th>\n",
       "      <td>0.038970</td>\n",
       "      <td>0.988738</td>\n",
       "      <td>0.108617</td>\n",
       "      <td>0.968667</td>\n",
       "    </tr>\n",
       "    <tr>\n",
       "      <th>12</th>\n",
       "      <td>0.035050</td>\n",
       "      <td>0.990214</td>\n",
       "      <td>0.111316</td>\n",
       "      <td>0.968778</td>\n",
       "    </tr>\n",
       "    <tr>\n",
       "      <th>13</th>\n",
       "      <td>0.030572</td>\n",
       "      <td>0.990667</td>\n",
       "      <td>0.109223</td>\n",
       "      <td>0.968778</td>\n",
       "    </tr>\n",
       "    <tr>\n",
       "      <th>14</th>\n",
       "      <td>0.027306</td>\n",
       "      <td>0.991619</td>\n",
       "      <td>0.111279</td>\n",
       "      <td>0.969611</td>\n",
       "    </tr>\n",
       "    <tr>\n",
       "      <th>15</th>\n",
       "      <td>0.023375</td>\n",
       "      <td>0.993143</td>\n",
       "      <td>0.114951</td>\n",
       "      <td>0.969556</td>\n",
       "    </tr>\n",
       "    <tr>\n",
       "      <th>16</th>\n",
       "      <td>0.020421</td>\n",
       "      <td>0.994214</td>\n",
       "      <td>0.112068</td>\n",
       "      <td>0.970444</td>\n",
       "    </tr>\n",
       "    <tr>\n",
       "      <th>17</th>\n",
       "      <td>0.017475</td>\n",
       "      <td>0.995310</td>\n",
       "      <td>0.120250</td>\n",
       "      <td>0.969000</td>\n",
       "    </tr>\n",
       "    <tr>\n",
       "      <th>18</th>\n",
       "      <td>0.016650</td>\n",
       "      <td>0.995214</td>\n",
       "      <td>0.127252</td>\n",
       "      <td>0.967667</td>\n",
       "    </tr>\n",
       "    <tr>\n",
       "      <th>19</th>\n",
       "      <td>0.015520</td>\n",
       "      <td>0.995738</td>\n",
       "      <td>0.122418</td>\n",
       "      <td>0.970056</td>\n",
       "    </tr>\n",
       "    <tr>\n",
       "      <th>20</th>\n",
       "      <td>0.014098</td>\n",
       "      <td>0.996095</td>\n",
       "      <td>0.129794</td>\n",
       "      <td>0.968167</td>\n",
       "    </tr>\n",
       "    <tr>\n",
       "      <th>21</th>\n",
       "      <td>0.010820</td>\n",
       "      <td>0.997476</td>\n",
       "      <td>0.138012</td>\n",
       "      <td>0.967500</td>\n",
       "    </tr>\n",
       "    <tr>\n",
       "      <th>22</th>\n",
       "      <td>0.009052</td>\n",
       "      <td>0.998071</td>\n",
       "      <td>0.139774</td>\n",
       "      <td>0.967111</td>\n",
       "    </tr>\n",
       "    <tr>\n",
       "      <th>23</th>\n",
       "      <td>0.010135</td>\n",
       "      <td>0.997262</td>\n",
       "      <td>0.133111</td>\n",
       "      <td>0.970111</td>\n",
       "    </tr>\n",
       "    <tr>\n",
       "      <th>24</th>\n",
       "      <td>0.009165</td>\n",
       "      <td>0.997405</td>\n",
       "      <td>0.131213</td>\n",
       "      <td>0.970778</td>\n",
       "    </tr>\n",
       "    <tr>\n",
       "      <th>25</th>\n",
       "      <td>0.005345</td>\n",
       "      <td>0.999333</td>\n",
       "      <td>0.132897</td>\n",
       "      <td>0.971056</td>\n",
       "    </tr>\n",
       "    <tr>\n",
       "      <th>26</th>\n",
       "      <td>0.006455</td>\n",
       "      <td>0.998524</td>\n",
       "      <td>0.148113</td>\n",
       "      <td>0.968889</td>\n",
       "    </tr>\n",
       "    <tr>\n",
       "      <th>27</th>\n",
       "      <td>0.011328</td>\n",
       "      <td>0.996476</td>\n",
       "      <td>0.148276</td>\n",
       "      <td>0.968167</td>\n",
       "    </tr>\n",
       "    <tr>\n",
       "      <th>28</th>\n",
       "      <td>0.005758</td>\n",
       "      <td>0.998643</td>\n",
       "      <td>0.143888</td>\n",
       "      <td>0.970333</td>\n",
       "    </tr>\n",
       "    <tr>\n",
       "      <th>29</th>\n",
       "      <td>0.004061</td>\n",
       "      <td>0.999286</td>\n",
       "      <td>0.161213</td>\n",
       "      <td>0.968611</td>\n",
       "    </tr>\n",
       "  </tbody>\n",
       "</table>\n",
       "</div>"
      ],
      "text/plain": [
       "        loss       acc  val_loss   val_acc\n",
       "0   0.485456  0.865024  0.236627  0.934778\n",
       "1   0.200878  0.942833  0.180354  0.947500\n",
       "2   0.150668  0.957024  0.153305  0.957833\n",
       "3   0.121105  0.965429  0.138884  0.958056\n",
       "4   0.101438  0.970309  0.127238  0.962000\n",
       "5   0.087136  0.975548  0.116562  0.964778\n",
       "6   0.077121  0.977524  0.114825  0.967056\n",
       "7   0.066092  0.980643  0.118798  0.964722\n",
       "8   0.057725  0.983381  0.109268  0.968056\n",
       "9   0.052260  0.984357  0.109446  0.967833\n",
       "10  0.045223  0.986952  0.104892  0.969167\n",
       "11  0.038970  0.988738  0.108617  0.968667\n",
       "12  0.035050  0.990214  0.111316  0.968778\n",
       "13  0.030572  0.990667  0.109223  0.968778\n",
       "14  0.027306  0.991619  0.111279  0.969611\n",
       "15  0.023375  0.993143  0.114951  0.969556\n",
       "16  0.020421  0.994214  0.112068  0.970444\n",
       "17  0.017475  0.995310  0.120250  0.969000\n",
       "18  0.016650  0.995214  0.127252  0.967667\n",
       "19  0.015520  0.995738  0.122418  0.970056\n",
       "20  0.014098  0.996095  0.129794  0.968167\n",
       "21  0.010820  0.997476  0.138012  0.967500\n",
       "22  0.009052  0.998071  0.139774  0.967111\n",
       "23  0.010135  0.997262  0.133111  0.970111\n",
       "24  0.009165  0.997405  0.131213  0.970778\n",
       "25  0.005345  0.999333  0.132897  0.971056\n",
       "26  0.006455  0.998524  0.148113  0.968889\n",
       "27  0.011328  0.996476  0.148276  0.968167\n",
       "28  0.005758  0.998643  0.143888  0.970333\n",
       "29  0.004061  0.999286  0.161213  0.968611"
      ]
     },
     "execution_count": 19,
     "metadata": {},
     "output_type": "execute_result"
    }
   ],
   "source": [
    "result_df = DataFrame(result.history, columns = k)\n",
    "# 이 데이터를 시각화 하거나, 엑셀 혹은 DataBase에 저장 가능하다.\n",
    "result_df"
   ]
  },
  {
   "cell_type": "markdown",
   "metadata": {},
   "source": [
    "### 학습 결과 그려보기"
   ]
  },
  {
   "cell_type": "code",
   "execution_count": 25,
   "metadata": {},
   "outputs": [
    {
     "data": {
      "image/png": "[encoded data removed]",
      "text/plain": [
       "<Figure size 1008x360 with 2 Axes>"
      ]
     },
     "metadata": {
      "needs_background": "light"
     },
     "output_type": "display_data"
    }
   ],
   "source": [
    "plt.rcParams['font.family'] = 'NanumGothic'\n",
    "plt.rcParams['font.size'] = 16\n",
    "plt.rcParams['figure.figsize'] = (14, 5)\n",
    "\n",
    "# 그래프를 그리기 위한 객체 생성\n",
    "fig = plt.figure()\n",
    "\n",
    "# 1) 훈련 및 검증 손실 그리기\n",
    "\n",
    "# 훈련 손실률 (y축)\n",
    "loss = result.history['loss']\n",
    "# 검증 손실률 (y축)\n",
    "val_loss = result.history['val_loss']\n",
    "\n",
    "# 학습회차 (1부터 길이 + 1 전까지) --> x축으로 사용\n",
    "epochs = range(1, len(loss) + 1)\n",
    "\n",
    "# 첫 번째 그래프\n",
    "ax1 = fig.add_subplot(1, 2, 1)\n",
    "ax1.plot(epochs, loss, color = 'blue', label = '훈련 손실률')\n",
    "ax1.plot(epochs, val_loss, color = 'orange', label = '검증 손실률')\n",
    "ax1.set_title('훈련 및 검증 손실률')\n",
    "ax1.set_xlabel('반복회차')\n",
    "ax1.set_ylabel('손실률')\n",
    "ax1.legend()\n",
    "\n",
    "# 2) 훈련 및 검증 정확도 그리기\n",
    "\n",
    "# 훈련 정확도 (y축)\n",
    "acc = result.history['acc']\n",
    "# 검증 정확도 (y축)\n",
    "val_acc = result.history['val_acc']\n",
    "\n",
    "# 첫 번째 그래프\n",
    "ax2 = fig.add_subplot(1, 2, 2)\n",
    "ax2.plot(epochs, acc, color = 'blue', label = '훈련 정확도')\n",
    "ax2.plot(epochs, val_acc, color = 'orange', label = '검증 정확도')\n",
    "ax2.set_title('훈련 및 검증 정확도')\n",
    "ax2.set_xlabel('반복회차')\n",
    "ax2.set_ylabel('손실률')\n",
    "ax2.legend()\n",
    "\n",
    "plt.show()"
   ]
  },
  {
   "cell_type": "markdown",
   "metadata": {},
   "source": [
    "### 그래프 설명\n",
    "\n",
    "- 과대적합 --> 대략 '5에폭'까지는 올바르게 학습되고 있지만, 그 이후에는 두 그래프가 점점 벌어진다.\n",
    "- 데이터 특성, 모델 구조 등을 수정해보고 재학습시키는 방법이 있지만 먼저 과대적합이 진행되기 전까지의 모델을 사용하여 결과를 확인해보고 기록해두는 것이 좋다. (여기서는 큰 문제가 되지 않으므로 그냥 진행한다.)"
   ]
  },
  {
   "cell_type": "code",
   "execution_count": 27,
   "metadata": {},
   "outputs": [
    {
     "name": "stdout",
     "output_type": "stream",
     "text": [
      "313/313 [==============================] - 0s 782us/step - loss: 0.1519 - acc: 0.9672\n"
     ]
    },
    {
     "data": {
      "text/plain": [
       "[0.1519378125667572, 0.967199981212616]"
      ]
     },
     "execution_count": 27,
     "metadata": {},
     "output_type": "execute_result"
    }
   ],
   "source": [
    "# 모델 평가하기 --> 최종 손실값과 정확도가 출력된다.\n",
    "model.evaluate(re_x_test, ca_y_test)"
   ]
  },
  {
   "cell_type": "markdown",
   "metadata": {},
   "source": [
    "### 학습된 모델을 통해 값 예측하기"
   ]
  },
  {
   "cell_type": "code",
   "execution_count": 31,
   "metadata": {},
   "outputs": [
    {
     "name": "stdout",
     "output_type": "stream",
     "text": [
      "(10000, 10)\n"
     ]
    }
   ],
   "source": [
    "# set_printoptions -> 출력 옵션 변경 함수.\n",
    "# precision --> 소수점 자리수를 의미\n",
    "np.set_printoptions(precision = 7) # numpy 소수점 제한\n",
    "\n",
    "results = model.predict(re_x_test)\n",
    "\n",
    "print(results.shape)"
   ]
  },
  {
   "cell_type": "code",
   "execution_count": 29,
   "metadata": {},
   "outputs": [
    {
     "name": "stdout",
     "output_type": "stream",
     "text": [
      "10000개의 검증 데이터가 10개의 경우의 수를 갖는다.\n"
     ]
    }
   ],
   "source": [
    "data_count, case_count = results.shape\n",
    "print('%d개의 검증 데이터가 %d개의 경우의 수를 갖는다.' % (data_count, case_count))"
   ]
  },
  {
   "cell_type": "code",
   "execution_count": 32,
   "metadata": {},
   "outputs": [
    {
     "data": {
      "text/plain": [
       "array([[4.0971493e-12, 1.7278404e-13, 3.1218839e-09, ..., 9.9994290e-01,\n",
       "        2.9013270e-08, 4.1996642e-09],\n",
       "       [4.6310189e-13, 1.7058313e-10, 1.0000000e+00, ..., 5.8096610e-21,\n",
       "        8.5959861e-10, 9.0190530e-18],\n",
       "       [1.2552601e-10, 9.9994993e-01, 6.9372613e-06, ..., 4.1879812e-06,\n",
       "        1.4916253e-06, 1.1365893e-08],\n",
       "       ...,\n",
       "       [1.6632010e-21, 5.3647774e-16, 1.5924590e-21, ..., 2.8021769e-13,\n",
       "        1.9841182e-12, 4.5447007e-11],\n",
       "       [4.0206046e-12, 4.6215761e-15, 6.4841706e-20, ..., 6.5484878e-17,\n",
       "        3.7343856e-03, 2.2372634e-14],\n",
       "       [1.7301726e-12, 5.5491917e-25, 1.1264859e-14, ..., 1.8931277e-28,\n",
       "        5.5051043e-25, 2.3714927e-19]], dtype=float32)"
      ]
     },
     "execution_count": 32,
     "metadata": {},
     "output_type": "execute_result"
    }
   ],
   "source": [
    "# 각각의 검증 데이터가 각 경우의 수에 속할 확률\n",
    "# 각각의 레이블(숫자 0 ~ 9 : 카테고리 1 ~ 10) 중 각각의 레이블에 속할 확률을 나타낸 것\n",
    "results"
   ]
  },
  {
   "cell_type": "code",
   "execution_count": 33,
   "metadata": {},
   "outputs": [
    {
     "data": {
      "text/plain": [
       "array([7, 2, 1, ..., 4, 5, 6], dtype=int64)"
      ]
     },
     "execution_count": 33,
     "metadata": {},
     "output_type": "execute_result"
    }
   ],
   "source": [
    "# 가장 큰 확률 값의 인덱스 리스트\n",
    "arg_results = np.argmax(results, axis = -1)\n",
    "arg_results"
   ]
  },
  {
   "cell_type": "code",
   "execution_count": 36,
   "metadata": {
    "collapsed": true,
    "jupyter": {
     "outputs_hidden": true
    }
   },
   "outputs": [
    {
     "data": {
      "image/png": "[encoded data removed]",
      "text/plain": [
       "<Figure size 1008x360 with 1 Axes>"
      ]
     },
     "metadata": {
      "needs_background": "light"
     },
     "output_type": "display_data"
    },
    {
     "data": {
      "image/png": "[encoded data removed]",
      "text/plain": [
       "<Figure size 1008x360 with 1 Axes>"
      ]
     },
     "metadata": {
      "needs_background": "light"
     },
     "output_type": "display_data"
    },
    {
     "data": {
      "image/png": "[encoded data removed]",
      "text/plain": [
       "<Figure size 1008x360 with 1 Axes>"
      ]
     },
     "metadata": {
      "needs_background": "light"
     },
     "output_type": "display_data"
    },
    {
     "data": {
      "image/png": "[encoded data removed]",
      "text/plain": [
       "<Figure size 1008x360 with 1 Axes>"
      ]
     },
     "metadata": {
      "needs_background": "light"
     },
     "output_type": "display_data"
    },
    {
     "data": {
      "image/png": "[encoded data removed]",
      "text/plain": [
       "<Figure size 1008x360 with 1 Axes>"
      ]
     },
     "metadata": {
      "needs_background": "light"
     },
     "output_type": "display_data"
    },
    {
     "data": {
      "image/png": "[encoded data removed]",
      "text/plain": [
       "<Figure size 1008x360 with 1 Axes>"
      ]
     },
     "metadata": {
      "needs_background": "light"
     },
     "output_type": "display_data"
    },
    {
     "data": {
      "image/png": "[encoded data removed]",
      "text/plain": [
       "<Figure size 1008x360 with 1 Axes>"
      ]
     },
     "metadata": {
      "needs_background": "light"
     },
     "output_type": "display_data"
    },
    {
     "data": {
      "image/png": "[encoded data removed]",
      "text/plain": [
       "<Figure size 1008x360 with 1 Axes>"
      ]
     },
     "metadata": {
      "needs_background": "light"
     },
     "output_type": "display_data"
    },
    {
     "data": {
      "image/png": "[encoded data removed]",
      "text/plain": [
       "<Figure size 1008x360 with 1 Axes>"
      ]
     },
     "metadata": {
      "needs_background": "light"
     },
     "output_type": "display_data"
    },
    {
     "data": {
      "image/png": "[encoded data removed]",
      "text/plain": [
       "<Figure size 1008x360 with 1 Axes>"
      ]
     },
     "metadata": {
      "needs_background": "light"
     },
     "output_type": "display_data"
    },
    {
     "data": {
      "image/png": "[encoded data removed]",
      "text/plain": [
       "<Figure size 1008x360 with 1 Axes>"
      ]
     },
     "metadata": {
      "needs_background": "light"
     },
     "output_type": "display_data"
    },
    {
     "data": {
      "image/png": "[encoded data removed]",
      "text/plain": [
       "<Figure size 1008x360 with 1 Axes>"
      ]
     },
     "metadata": {
      "needs_background": "light"
     },
     "output_type": "display_data"
    }
   ],
   "source": [
    "# 예측값 그려서 확인해보기\n",
    "for i, v in enumerate(arg_results):\n",
    "    plt.imshow(x_test[i].reshape(28, 28))\n",
    "    plt.title('예측값: ' + str(v))\n",
    "    plt.show()\n",
    "    \n",
    "    if i > 10:\n",
    "        break"
   ]
  },
  {
   "cell_type": "markdown",
   "metadata": {},
   "source": [
    "### 모델 평가 방법 1 : 혼동 행렬\n",
    "- 숫자가 골고루 퍼져 있을수록 혼란스러워함을 의미"
   ]
  },
  {
   "cell_type": "code",
   "execution_count": 37,
   "metadata": {},
   "outputs": [
    {
     "data": {
      "text/plain": [
       "array([[ 966,    0,    2,    0,    0,    0,    7,    1,    2,    2],\n",
       "       [   0, 1115,    7,    1,    0,    1,    6,    0,    5,    0],\n",
       "       [   6,    0, 1005,    7,    2,    0,    2,    5,    4,    1],\n",
       "       [   0,    0,    4,  989,    0,    1,    2,    2,    4,    8],\n",
       "       [   0,    1,    0,    1,  950,    1,    7,    0,    2,   20],\n",
       "       [   5,    2,    0,   29,    2,  824,    9,    2,    9,   10],\n",
       "       [   5,    2,    2,    1,    4,    2,  940,    0,    1,    1],\n",
       "       [   2,    4,   13,    8,    2,    0,    0,  987,    2,   10],\n",
       "       [  12,    1,   10,   10,    4,    1,    8,    4,  915,    9],\n",
       "       [   1,    3,    0,    7,    6,    2,    2,    5,    2,  981]],\n",
       "      dtype=int64)"
      ]
     },
     "execution_count": 37,
     "metadata": {},
     "output_type": "execute_result"
    }
   ],
   "source": [
    "# 예측데이터(ca_y_test)를 x축으로, 결과 데이터(results)를 y축으로 놓는 오차행렬(confusion_matrix) 생성하기\n",
    "cm = confusion_matrix(np.argmax(ca_y_test, axis = -1), np.argmax(results, axis = -1))\n",
    "cm"
   ]
  },
  {
   "cell_type": "code",
   "execution_count": 40,
   "metadata": {},
   "outputs": [
    {
     "data": {
      "image/png": "[encoded data removed]",
      "text/plain": [
       "<Figure size 720x720 with 2 Axes>"
      ]
     },
     "metadata": {
      "needs_background": "light"
     },
     "output_type": "display_data"
    }
   ],
   "source": [
    "# 오차행렬 시각화\n",
    "# 5를 분류할 때 가장 많이 혼란스러워한다.\n",
    "# 오차행렬은 모델의 강점과 약점을 파악하기에 유용하다.\n",
    "\n",
    "plt.rcParams['font.family'] = 'NanumGothic'\n",
    "plt.rcParams['font.size'] = 16\n",
    "plt.rcParams['figure.figsize'] = (10, 10)\n",
    "\n",
    "# 오차행렬을 히트맵 그래프로 표현\n",
    "# -> annot : 그래프의 각 칸에 수치값 출력\n",
    "# -> fmt : 수치값 출력 format (여기서는 10진수)\n",
    "# -> cmap : 색상맵(https://matplotlib.org/3.2.1/tutorials/colors/colormaps.html)\n",
    "sns.heatmap(cm, annot = True, fmt = 'd', cmap = 'Blues')\n",
    "plt.xlabel('예측값')\n",
    "plt.ylabel('결과값')\n",
    "plt.show()"
   ]
  },
  {
   "cell_type": "markdown",
   "metadata": {},
   "source": [
    "### 모델 평가 방법 2 - 분류 보고서"
   ]
  },
  {
   "cell_type": "code",
   "execution_count": 41,
   "metadata": {},
   "outputs": [
    {
     "data": {
      "text/html": [
       "<div>\n",
       "<style scoped>\n",
       "    .dataframe tbody tr th:only-of-type {\n",
       "        vertical-align: middle;\n",
       "    }\n",
       "\n",
       "    .dataframe tbody tr th {\n",
       "        vertical-align: top;\n",
       "    }\n",
       "\n",
       "    .dataframe thead th {\n",
       "        text-align: right;\n",
       "    }\n",
       "</style>\n",
       "<table border=\"1\" class=\"dataframe\">\n",
       "  <thead>\n",
       "    <tr style=\"text-align: right;\">\n",
       "      <th></th>\n",
       "      <th>precision</th>\n",
       "      <th>recall</th>\n",
       "      <th>f1-score</th>\n",
       "      <th>support</th>\n",
       "    </tr>\n",
       "  </thead>\n",
       "  <tbody>\n",
       "    <tr>\n",
       "      <th>0</th>\n",
       "      <td>0.968907</td>\n",
       "      <td>0.985714</td>\n",
       "      <td>0.977238</td>\n",
       "      <td>980.0000</td>\n",
       "    </tr>\n",
       "    <tr>\n",
       "      <th>1</th>\n",
       "      <td>0.988475</td>\n",
       "      <td>0.982379</td>\n",
       "      <td>0.985418</td>\n",
       "      <td>1135.0000</td>\n",
       "    </tr>\n",
       "    <tr>\n",
       "      <th>2</th>\n",
       "      <td>0.963567</td>\n",
       "      <td>0.973837</td>\n",
       "      <td>0.968675</td>\n",
       "      <td>1032.0000</td>\n",
       "    </tr>\n",
       "    <tr>\n",
       "      <th>3</th>\n",
       "      <td>0.939221</td>\n",
       "      <td>0.979208</td>\n",
       "      <td>0.958798</td>\n",
       "      <td>1010.0000</td>\n",
       "    </tr>\n",
       "    <tr>\n",
       "      <th>4</th>\n",
       "      <td>0.979381</td>\n",
       "      <td>0.967413</td>\n",
       "      <td>0.973361</td>\n",
       "      <td>982.0000</td>\n",
       "    </tr>\n",
       "    <tr>\n",
       "      <th>5</th>\n",
       "      <td>0.990385</td>\n",
       "      <td>0.923767</td>\n",
       "      <td>0.955916</td>\n",
       "      <td>892.0000</td>\n",
       "    </tr>\n",
       "    <tr>\n",
       "      <th>6</th>\n",
       "      <td>0.956256</td>\n",
       "      <td>0.981211</td>\n",
       "      <td>0.968573</td>\n",
       "      <td>958.0000</td>\n",
       "    </tr>\n",
       "    <tr>\n",
       "      <th>7</th>\n",
       "      <td>0.981113</td>\n",
       "      <td>0.960117</td>\n",
       "      <td>0.970501</td>\n",
       "      <td>1028.0000</td>\n",
       "    </tr>\n",
       "    <tr>\n",
       "      <th>8</th>\n",
       "      <td>0.967230</td>\n",
       "      <td>0.939425</td>\n",
       "      <td>0.953125</td>\n",
       "      <td>974.0000</td>\n",
       "    </tr>\n",
       "    <tr>\n",
       "      <th>9</th>\n",
       "      <td>0.941459</td>\n",
       "      <td>0.972250</td>\n",
       "      <td>0.956607</td>\n",
       "      <td>1009.0000</td>\n",
       "    </tr>\n",
       "    <tr>\n",
       "      <th>accuracy</th>\n",
       "      <td>0.967200</td>\n",
       "      <td>0.967200</td>\n",
       "      <td>0.967200</td>\n",
       "      <td>0.9672</td>\n",
       "    </tr>\n",
       "    <tr>\n",
       "      <th>macro avg</th>\n",
       "      <td>0.967599</td>\n",
       "      <td>0.966532</td>\n",
       "      <td>0.966821</td>\n",
       "      <td>10000.0000</td>\n",
       "    </tr>\n",
       "    <tr>\n",
       "      <th>weighted avg</th>\n",
       "      <td>0.967633</td>\n",
       "      <td>0.967200</td>\n",
       "      <td>0.967185</td>\n",
       "      <td>10000.0000</td>\n",
       "    </tr>\n",
       "  </tbody>\n",
       "</table>\n",
       "</div>"
      ],
      "text/plain": [
       "              precision    recall  f1-score     support\n",
       "0              0.968907  0.985714  0.977238    980.0000\n",
       "1              0.988475  0.982379  0.985418   1135.0000\n",
       "2              0.963567  0.973837  0.968675   1032.0000\n",
       "3              0.939221  0.979208  0.958798   1010.0000\n",
       "4              0.979381  0.967413  0.973361    982.0000\n",
       "5              0.990385  0.923767  0.955916    892.0000\n",
       "6              0.956256  0.981211  0.968573    958.0000\n",
       "7              0.981113  0.960117  0.970501   1028.0000\n",
       "8              0.967230  0.939425  0.953125    974.0000\n",
       "9              0.941459  0.972250  0.956607   1009.0000\n",
       "accuracy       0.967200  0.967200  0.967200      0.9672\n",
       "macro avg      0.967599  0.966532  0.966821  10000.0000\n",
       "weighted avg   0.967633  0.967200  0.967185  10000.0000"
      ]
     },
     "execution_count": 41,
     "metadata": {},
     "output_type": "execute_result"
    }
   ],
   "source": [
    "report = classification_report(np.argmax(ca_y_test, axis = -1),\n",
    "                              np.argmax(results, axis = -1),\n",
    "                              output_dict = True)\n",
    "DataFrame(report).transpose()"
   ]
  }
 ],
 "metadata": {
  "kernelspec": {
   "display_name": "Python 3",
   "language": "python",
   "name": "python3"
  },
  "language_info": {
   "codemirror_mode": {
    "name": "ipython",
    "version": 3
   },
   "file_extension": ".py",
   "mimetype": "text/x-python",
   "name": "python",
   "nbconvert_exporter": "python",
   "pygments_lexer": "ipython3",
   "version": "3.8.6"
  }
 },
 "nbformat": 4,
 "nbformat_minor": 4
}
