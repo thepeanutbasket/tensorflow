{
 "cells": [
  {
   "cell_type": "markdown",
   "metadata": {},
   "source": [
    "## 텍스트 데이터를 신경망에 입력하기\n",
    "- 토큰화 작업을 수행하고 정의된 토큰에 고유 인덱스를 부여한 뒤, 인코딩을 통해 적절한 형태로 가공하는 전처리 작업을 거치게 된다. --> 워드 임베딩\n",
    "\n",
    "### Token\n",
    "- 문법적으로 더이상 나눌 수 없는 언어요소.\n",
    "\n",
    "### Tokenizer(토큰화)\n",
    "- 데이터를 token으로 나누는 작업.\n",
    "\n",
    "### 인코딩 방법\n",
    "- 이진 인코딩\n",
    "- 원-핫 인코딩\n",
    "\n",
    "### Embedding\n",
    "- 수많은 단어를 벡터 형태로 표현\n",
    "- 텍스트 분류를 위해 사용하는 가장 기본적인 층\n",
    "- CNN과 마찬가지로 사전 학습된 가중치를 불러와 사용할 수 있다."
   ]
  },
  {
   "cell_type": "code",
   "execution_count": 3,
   "metadata": {},
   "outputs": [
    {
     "data": {
      "text/plain": [
       "[[2, 3, 4, 5], [2, 3, 4, 6]]"
      ]
     },
     "execution_count": 3,
     "metadata": {},
     "output_type": "execute_result"
    }
   ],
   "source": [
    "# 문자열을 토큰화 하기\n",
    "\n",
    "from tensorflow.keras.preprocessing.text import Tokenizer\n",
    "from tensorflow.keras.utils import to_categorical\n",
    "\n",
    "# 토큰화할 문장\n",
    "texts = ['You are the Best', 'You are the Nice']\n",
    "\n",
    "# num_words --> 최대 단어 개수를 지정\n",
    "# oov_token --> Out Of Vocabulary. 테스트에서 주어진 문장에 포함되지 않은 단어가 존재할 경우 대체할 단어를 지정.\n",
    "tokenizer = Tokenizer(num_words = 10, oov_token = '<OOV>')\n",
    "tokenizer.fit_on_texts(texts)\n",
    "\n",
    "# 토큰화를 통해 각 토큰에 부여된 인덱스를 활용하여 주어진 문장에 존재하는 단어를 정수 인덱스 형태로 변환\n",
    "# -> 공통 문장인 'You are the'는 [2, 3, 4]\n",
    "# -> 'Best'와 'Nice'는 각각 5, 6으로 변환됨\n",
    "sequences = tokenizer.texts_to_sequences(texts)\n",
    "sequences"
   ]
  },
  {
   "cell_type": "code",
   "execution_count": 4,
   "metadata": {},
   "outputs": [
    {
     "name": "stdout",
     "output_type": "stream",
     "text": [
      "{'<OOV>': 1, 'you': 2, 'are': 3, 'the': 4, 'best': 5, 'nice': 6}\n",
      "----------------------\n",
      "sequences: [[2, 3, 4, 5], [2, 3, 4, 6]]\n",
      "\n",
      "binary_vectors: \n",
      " [[0. 0. 1. 1. 1. 1. 0. 0. 0. 0.]\n",
      " [0. 0. 1. 1. 1. 0. 1. 0. 0. 0.]]\n",
      "\n"
     ]
    }
   ],
   "source": [
    "# sequences_to_matrix --> 이진 형태로 인코딩합니다.\n",
    "# 인코딩 결과로 얻어지는 벡터를 '희소행렬'이라고 한다.\n",
    "# [희소행렬]\n",
    "# - 존재하는 단어의 인덱스를 제외하고 전부 0으로 표현\n",
    "# - 단어의 유사성을 표현할 수는 없다.\n",
    "binary_results = tokenizer.sequences_to_matrix(sequences, mode = 'binary')\n",
    "\n",
    "print(tokenizer.word_index)\n",
    "print('----------------------')\n",
    "\n",
    "print(f'sequences: {sequences}\\n')\n",
    "print(f'binary_vectors: \\n {binary_results}\\n')"
   ]
  },
  {
   "cell_type": "code",
   "execution_count": 2,
   "metadata": {},
   "outputs": [
    {
     "name": "stdout",
     "output_type": "stream",
     "text": [
      "test sequences: [[2, 3, 4, 1]]\n"
     ]
    }
   ],
   "source": [
    "# 원-핫 형태로 인코딩합니다.\n",
    "# print(to_categorical(sequences))\n",
    "\n",
    "test_text = ['You are the One']\n",
    "test_seq = tokenizer.texts_to_sequences(test_text)\n",
    "\n",
    "print(f'test sequences: {test_seq}')"
   ]
  }
 ],
 "metadata": {
  "kernelspec": {
   "display_name": "Python 3",
   "language": "python",
   "name": "python3"
  },
  "language_info": {
   "codemirror_mode": {
    "name": "ipython",
    "version": 3
   },
   "file_extension": ".py",
   "mimetype": "text/x-python",
   "name": "python",
   "nbconvert_exporter": "python",
   "pygments_lexer": "ipython3",
   "version": "3.8.6"
  }
 },
 "nbformat": 4,
 "nbformat_minor": 4
}
