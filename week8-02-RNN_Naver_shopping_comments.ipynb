{
 "cells": [
  {
   "cell_type": "markdown",
   "metadata": {},
   "source": [
    "## Naver Shopping Comments\n",
    "\n",
    "- mecab을 활용한 텍스트 토크나이저 처리\n",
    "- GRU 알고리즘 적용"
   ]
  },
  {
   "cell_type": "code",
   "execution_count": 1,
   "metadata": {},
   "outputs": [],
   "source": [
    "# 필요한 패키지 import\n",
    "\n",
    "import pandas as pd\n",
    "import numpy as np\n",
    "import matplotlib.pyplot as plt\n",
    "from collections import Counter\n",
    "from konlpy.tag import Mecab\n",
    "from sklearn.model_selection import train_test_split\n",
    "from tensorflow.keras.preprocessing.text import Tokenizer\n",
    "from tensorflow.keras.preprocessing.sequence import pad_sequences"
   ]
  },
  {
   "cell_type": "code",
   "execution_count": 2,
   "metadata": {},
   "outputs": [],
   "source": [
    "# 말뭉치 파일 업로드하기\n",
    "total_data = pd.read_table('naver_shopping.txt', names = ['ratings','reviews'])"
   ]
  },
  {
   "cell_type": "code",
   "execution_count": 3,
   "metadata": {},
   "outputs": [
    {
     "name": "stdout",
     "output_type": "stream",
     "text": [
      "전체 리뷰 개수:  200000\n"
     ]
    }
   ],
   "source": [
    "# 전체 리뷰 개수 출력\n",
    "print('전체 리뷰 개수: ', len(total_data))"
   ]
  },
  {
   "cell_type": "code",
   "execution_count": 4,
   "metadata": {},
   "outputs": [
    {
     "data": {
      "text/html": [
       "<div>\n",
       "<style scoped>\n",
       "    .dataframe tbody tr th:only-of-type {\n",
       "        vertical-align: middle;\n",
       "    }\n",
       "\n",
       "    .dataframe tbody tr th {\n",
       "        vertical-align: top;\n",
       "    }\n",
       "\n",
       "    .dataframe thead th {\n",
       "        text-align: right;\n",
       "    }\n",
       "</style>\n",
       "<table border=\"1\" class=\"dataframe\">\n",
       "  <thead>\n",
       "    <tr style=\"text-align: right;\">\n",
       "      <th></th>\n",
       "      <th>ratings</th>\n",
       "      <th>reviews</th>\n",
       "    </tr>\n",
       "  </thead>\n",
       "  <tbody>\n",
       "    <tr>\n",
       "      <th>0</th>\n",
       "      <td>5</td>\n",
       "      <td>배공빠르고 굿</td>\n",
       "    </tr>\n",
       "    <tr>\n",
       "      <th>1</th>\n",
       "      <td>2</td>\n",
       "      <td>택배가 엉망이네용 저희집 밑에층에 말도없이 놔두고가고</td>\n",
       "    </tr>\n",
       "    <tr>\n",
       "      <th>2</th>\n",
       "      <td>5</td>\n",
       "      <td>아주좋아요 바지 정말 좋아서2개 더 구매했어요 이가격에 대박입니다. 바느질이 조금 ...</td>\n",
       "    </tr>\n",
       "    <tr>\n",
       "      <th>3</th>\n",
       "      <td>2</td>\n",
       "      <td>선물용으로 빨리 받아서 전달했어야 하는 상품이었는데 머그컵만 와서 당황했습니다. 전...</td>\n",
       "    </tr>\n",
       "    <tr>\n",
       "      <th>4</th>\n",
       "      <td>5</td>\n",
       "      <td>민트색상 예뻐요. 옆 손잡이는 거는 용도로도 사용되네요 ㅎㅎ</td>\n",
       "    </tr>\n",
       "  </tbody>\n",
       "</table>\n",
       "</div>"
      ],
      "text/plain": [
       "   ratings                                            reviews\n",
       "0        5                                            배공빠르고 굿\n",
       "1        2                      택배가 엉망이네용 저희집 밑에층에 말도없이 놔두고가고\n",
       "2        5  아주좋아요 바지 정말 좋아서2개 더 구매했어요 이가격에 대박입니다. 바느질이 조금 ...\n",
       "3        2  선물용으로 빨리 받아서 전달했어야 하는 상품이었는데 머그컵만 와서 당황했습니다. 전...\n",
       "4        5                  민트색상 예뻐요. 옆 손잡이는 거는 용도로도 사용되네요 ㅎㅎ"
      ]
     },
     "execution_count": 4,
     "metadata": {},
     "output_type": "execute_result"
    }
   ],
   "source": [
    "# 상위 5건 확인\n",
    "total_data.head()"
   ]
  },
  {
   "cell_type": "markdown",
   "metadata": {},
   "source": [
    "ratings가 1,2,3이면 부정(label = 0)으로, 4,5면 긍정(label = 1)으로 구분한다."
   ]
  },
  {
   "cell_type": "code",
   "execution_count": 5,
   "metadata": {},
   "outputs": [
    {
     "data": {
      "text/html": [
       "<div>\n",
       "<style scoped>\n",
       "    .dataframe tbody tr th:only-of-type {\n",
       "        vertical-align: middle;\n",
       "    }\n",
       "\n",
       "    .dataframe tbody tr th {\n",
       "        vertical-align: top;\n",
       "    }\n",
       "\n",
       "    .dataframe thead th {\n",
       "        text-align: right;\n",
       "    }\n",
       "</style>\n",
       "<table border=\"1\" class=\"dataframe\">\n",
       "  <thead>\n",
       "    <tr style=\"text-align: right;\">\n",
       "      <th></th>\n",
       "      <th>ratings</th>\n",
       "      <th>reviews</th>\n",
       "      <th>label</th>\n",
       "    </tr>\n",
       "  </thead>\n",
       "  <tbody>\n",
       "    <tr>\n",
       "      <th>0</th>\n",
       "      <td>5</td>\n",
       "      <td>배공빠르고 굿</td>\n",
       "      <td>1</td>\n",
       "    </tr>\n",
       "    <tr>\n",
       "      <th>1</th>\n",
       "      <td>2</td>\n",
       "      <td>택배가 엉망이네용 저희집 밑에층에 말도없이 놔두고가고</td>\n",
       "      <td>0</td>\n",
       "    </tr>\n",
       "    <tr>\n",
       "      <th>2</th>\n",
       "      <td>5</td>\n",
       "      <td>아주좋아요 바지 정말 좋아서2개 더 구매했어요 이가격에 대박입니다. 바느질이 조금 ...</td>\n",
       "      <td>1</td>\n",
       "    </tr>\n",
       "    <tr>\n",
       "      <th>3</th>\n",
       "      <td>2</td>\n",
       "      <td>선물용으로 빨리 받아서 전달했어야 하는 상품이었는데 머그컵만 와서 당황했습니다. 전...</td>\n",
       "      <td>0</td>\n",
       "    </tr>\n",
       "    <tr>\n",
       "      <th>4</th>\n",
       "      <td>5</td>\n",
       "      <td>민트색상 예뻐요. 옆 손잡이는 거는 용도로도 사용되네요 ㅎㅎ</td>\n",
       "      <td>1</td>\n",
       "    </tr>\n",
       "  </tbody>\n",
       "</table>\n",
       "</div>"
      ],
      "text/plain": [
       "   ratings                                            reviews  label\n",
       "0        5                                            배공빠르고 굿      1\n",
       "1        2                      택배가 엉망이네용 저희집 밑에층에 말도없이 놔두고가고      0\n",
       "2        5  아주좋아요 바지 정말 좋아서2개 더 구매했어요 이가격에 대박입니다. 바느질이 조금 ...      1\n",
       "3        2  선물용으로 빨리 받아서 전달했어야 하는 상품이었는데 머그컵만 와서 당황했습니다. 전...      0\n",
       "4        5                  민트색상 예뻐요. 옆 손잡이는 거는 용도로도 사용되네요 ㅎㅎ      1"
      ]
     },
     "execution_count": 5,
     "metadata": {},
     "output_type": "execute_result"
    }
   ],
   "source": [
    "total_data['label'] = np.select([total_data.ratings > 3], [1], default = 0)\n",
    "total_data.head()"
   ]
  },
  {
   "cell_type": "markdown",
   "metadata": {},
   "source": [
    "## 데이터 전처리"
   ]
  },
  {
   "cell_type": "code",
   "execution_count": 6,
   "metadata": {},
   "outputs": [
    {
     "name": "stdout",
     "output_type": "stream",
     "text": [
      "ratings:  4\n",
      "reviews:  199908\n",
      "label:  2\n"
     ]
    }
   ],
   "source": [
    "# 데이터 전처리를 위한 컬럼별 중복을 제외한 값의 수 확인\n",
    "print('ratings: ', total_data['ratings'].nunique())\n",
    "print('reviews: ', total_data['reviews'].nunique())\n",
    "print('label: ', total_data['label'].nunique())"
   ]
  },
  {
   "cell_type": "markdown",
   "metadata": {},
   "source": [
    "- ratings열의 경우 1,2,4,5라는 네 가지 값\n",
    "- reviews열에서 중복을 제외한 경우 199,908 =/= 200,000(원래 전체 리뷰 수)\n",
    "    - 현재 20만개의 리뷰가 존재하므로 이는 현재 갖고 있는 데이터에 중복인 샘플들이 있다는 의미\n",
    "- label열은 0과 1"
   ]
  },
  {
   "cell_type": "code",
   "execution_count": 7,
   "metadata": {},
   "outputs": [
    {
     "name": "stdout",
     "output_type": "stream",
     "text": [
      "총 샘플의 수:  199908\n"
     ]
    }
   ],
   "source": [
    "# 중복되는 샘플 데이터를 제거\n",
    "total_data.drop_duplicates(subset = ['reviews'], inplace = True)\n",
    "print('총 샘플의 수: ', len(total_data))"
   ]
  },
  {
   "cell_type": "code",
   "execution_count": 8,
   "metadata": {},
   "outputs": [
    {
     "data": {
      "text/plain": [
       "ratings    0\n",
       "reviews    0\n",
       "label      0\n",
       "dtype: int64"
      ]
     },
     "execution_count": 8,
     "metadata": {},
     "output_type": "execute_result"
    }
   ],
   "source": [
    "# 결측치(null값) 확인\n",
    "total_data.isna().sum()"
   ]
  },
  {
   "cell_type": "code",
   "execution_count": 9,
   "metadata": {},
   "outputs": [
    {
     "name": "stdout",
     "output_type": "stream",
     "text": [
      "훈련용 리뷰의 개수:  149931\n",
      "테스트용 리뷰의 개수:  49977\n"
     ]
    }
   ],
   "source": [
    "# 훈련 데이터와 테스트 데이터를 3:1 비율로 분리\n",
    "train_data, test_data = train_test_split(total_data, test_size = 0.25, random_state = 777)\n",
    "print('훈련용 리뷰의 개수: ', len(train_data))\n",
    "print('테스트용 리뷰의 개수: ', len(test_data))"
   ]
  },
  {
   "cell_type": "code",
   "execution_count": 10,
   "metadata": {},
   "outputs": [
    {
     "data": {
      "text/html": [
       "<div>\n",
       "<style scoped>\n",
       "    .dataframe tbody tr th:only-of-type {\n",
       "        vertical-align: middle;\n",
       "    }\n",
       "\n",
       "    .dataframe tbody tr th {\n",
       "        vertical-align: top;\n",
       "    }\n",
       "\n",
       "    .dataframe thead th {\n",
       "        text-align: right;\n",
       "    }\n",
       "</style>\n",
       "<table border=\"1\" class=\"dataframe\">\n",
       "  <thead>\n",
       "    <tr style=\"text-align: right;\">\n",
       "      <th></th>\n",
       "      <th>label</th>\n",
       "      <th>count</th>\n",
       "    </tr>\n",
       "  </thead>\n",
       "  <tbody>\n",
       "    <tr>\n",
       "      <th>0</th>\n",
       "      <td>0</td>\n",
       "      <td>74922</td>\n",
       "    </tr>\n",
       "    <tr>\n",
       "      <th>1</th>\n",
       "      <td>1</td>\n",
       "      <td>75009</td>\n",
       "    </tr>\n",
       "  </tbody>\n",
       "</table>\n",
       "</div>"
      ],
      "text/plain": [
       "   label  count\n",
       "0      0  74922\n",
       "1      1  75009"
      ]
     },
     "execution_count": 10,
     "metadata": {},
     "output_type": "execute_result"
    }
   ],
   "source": [
    "# 훈련 데이터의 레이블 분포 확인\n",
    "train_data.groupby('label').size().reset_index(name = 'count')"
   ]
  },
  {
   "cell_type": "code",
   "execution_count": 11,
   "metadata": {},
   "outputs": [
    {
     "data": {
      "text/plain": [
       "<AxesSubplot:>"
      ]
     },
     "execution_count": 11,
     "metadata": {},
     "output_type": "execute_result"
    },
    {
     "data": {
      "image/png": "[encoded data removed]",
      "text/plain": [
       "<Figure size 432x288 with 1 Axes>"
      ]
     },
     "metadata": {
      "needs_background": "light"
     },
     "output_type": "display_data"
    }
   ],
   "source": [
    "train_data['label'].value_counts().plot(kind = 'bar')"
   ]
  },
  {
   "cell_type": "code",
   "execution_count": 12,
   "metadata": {},
   "outputs": [
    {
     "name": "stderr",
     "output_type": "stream",
     "text": [
      "<ipython-input-12-54705d92a626>:3: SettingWithCopyWarning: \n",
      "A value is trying to be set on a copy of a slice from a DataFrame.\n",
      "Try using .loc[row_indexer,col_indexer] = value instead\n",
      "\n",
      "See the caveats in the documentation: https://pandas.pydata.org/pandas-docs/stable/user_guide/indexing.html#returning-a-view-versus-a-copy\n",
      "  train_data['reviews'] = train_data['reviews'].str.replace('[^ㄱ-ㅎㅏ-ㅣ가-힣 ]', '') # 한글이 아닌(^) 부분 모두 ''로 변경\n",
      "c:\\users\\youjin\\appdata\\local\\programs\\python\\python38\\lib\\site-packages\\pandas\\core\\series.py:4576: SettingWithCopyWarning: \n",
      "A value is trying to be set on a copy of a slice from a DataFrame\n",
      "\n",
      "See the caveats in the documentation: https://pandas.pydata.org/pandas-docs/stable/user_guide/indexing.html#returning-a-view-versus-a-copy\n",
      "  return super().replace(\n"
     ]
    },
    {
     "data": {
      "text/plain": [
       "ratings    0\n",
       "reviews    0\n",
       "label      0\n",
       "dtype: int64"
      ]
     },
     "execution_count": 12,
     "metadata": {},
     "output_type": "execute_result"
    }
   ],
   "source": [
    "# train 데이터 정제\n",
    "# -> 정규 표현식을 사용하여 한글을 제외하고 모두 제거\n",
    "train_data['reviews'] = train_data['reviews'].str.replace('[^ㄱ-ㅎㅏ-ㅣ가-힣 ]', '') # 한글이 아닌(^) 부분 모두 ''로 변경\n",
    "train_data['reviews'].replace('', np.nan, inplace = True)\n",
    "\n",
    "# 이 과정에서 빈 샘플이 생기지 않았는지 확인\n",
    "train_data.isnull().sum()"
   ]
  },
  {
   "cell_type": "code",
   "execution_count": 13,
   "metadata": {},
   "outputs": [
    {
     "name": "stderr",
     "output_type": "stream",
     "text": [
      "<ipython-input-13-bc5aaa79b2f7>:3: SettingWithCopyWarning: \n",
      "A value is trying to be set on a copy of a slice from a DataFrame.\n",
      "Try using .loc[row_indexer,col_indexer] = value instead\n",
      "\n",
      "See the caveats in the documentation: https://pandas.pydata.org/pandas-docs/stable/user_guide/indexing.html#returning-a-view-versus-a-copy\n",
      "  test_data['reviews'] = test_data['reviews'].str.replace('[^ㄱ-ㅎㅏ-ㅣ가-힣 ]', '') # 한글이 아닌(^) 부분 모두 ''로 변경\n"
     ]
    },
    {
     "data": {
      "text/plain": [
       "ratings    0\n",
       "reviews    0\n",
       "label      0\n",
       "dtype: int64"
      ]
     },
     "execution_count": 13,
     "metadata": {},
     "output_type": "execute_result"
    }
   ],
   "source": [
    "# test 데이터 정제\n",
    "# -> 정규 표현식을 사용하여 한글을 제외하고 모두 제거\n",
    "test_data['reviews'] = test_data['reviews'].str.replace('[^ㄱ-ㅎㅏ-ㅣ가-힣 ]', '') # 한글이 아닌(^) 부분 모두 ''로 변경\n",
    "test_data['reviews'].replace('', np.nan, inplace = True)\n",
    "\n",
    "# 이 과정에서 빈 샘플이 생기지 않았는지 확인\n",
    "test_data.isnull().sum()"
   ]
  },
  {
   "cell_type": "markdown",
   "metadata": {},
   "source": [
    "## Mecab"
   ]
  },
  {
   "cell_type": "code",
   "execution_count": 14,
   "metadata": {},
   "outputs": [],
   "source": [
    "# 토큰화를 위한 불용어를 정의\n",
    "stopwords = ['도', '는', '다', '의', '가', '이', '은', '한', '에', '하', '고', '을', '를', '인', '듯', '과', '와', '네', '들', '듯', '지', '임', '게']"
   ]
  },
  {
   "cell_type": "code",
   "execution_count": 15,
   "metadata": {},
   "outputs": [
    {
     "name": "stderr",
     "output_type": "stream",
     "text": [
      "<ipython-input-15-0992fc14e033>:3: SettingWithCopyWarning: \n",
      "A value is trying to be set on a copy of a slice from a DataFrame.\n",
      "Try using .loc[row_indexer,col_indexer] = value instead\n",
      "\n",
      "See the caveats in the documentation: https://pandas.pydata.org/pandas-docs/stable/user_guide/indexing.html#returning-a-view-versus-a-copy\n",
      "  train_data['tokenized'] = train_data['reviews'].apply(mecab.morphs)\n",
      "<ipython-input-15-0992fc14e033>:6: SettingWithCopyWarning: \n",
      "A value is trying to be set on a copy of a slice from a DataFrame.\n",
      "Try using .loc[row_indexer,col_indexer] = value instead\n",
      "\n",
      "See the caveats in the documentation: https://pandas.pydata.org/pandas-docs/stable/user_guide/indexing.html#returning-a-view-versus-a-copy\n",
      "  train_data['tokenized'] = train_data['tokenized'].apply(lambda x: [item for item in x if item not in stopwords])\n"
     ]
    },
    {
     "data": {
      "text/html": [
       "<div>\n",
       "<style scoped>\n",
       "    .dataframe tbody tr th:only-of-type {\n",
       "        vertical-align: middle;\n",
       "    }\n",
       "\n",
       "    .dataframe tbody tr th {\n",
       "        vertical-align: top;\n",
       "    }\n",
       "\n",
       "    .dataframe thead th {\n",
       "        text-align: right;\n",
       "    }\n",
       "</style>\n",
       "<table border=\"1\" class=\"dataframe\">\n",
       "  <thead>\n",
       "    <tr style=\"text-align: right;\">\n",
       "      <th></th>\n",
       "      <th>ratings</th>\n",
       "      <th>reviews</th>\n",
       "      <th>label</th>\n",
       "      <th>tokenized</th>\n",
       "    </tr>\n",
       "  </thead>\n",
       "  <tbody>\n",
       "    <tr>\n",
       "      <th>67132</th>\n",
       "      <td>1</td>\n",
       "      <td>봉돌 비닐포장이 뜯어져서 왔네요 야광물질도 벗겨져 있구요ㅠ</td>\n",
       "      <td>0</td>\n",
       "      <td>[봉돌, 비닐, 포장, 뜯, 어, 져서, 왔, 네요, 야, 광물질, 벗겨져, 있, ...</td>\n",
       "    </tr>\n",
       "    <tr>\n",
       "      <th>48395</th>\n",
       "      <td>2</td>\n",
       "      <td>불편해요ㅡ다음엔 안살듯</td>\n",
       "      <td>0</td>\n",
       "      <td>[불편, 해요, ㅡ, 다음, 엔, 안, 살]</td>\n",
       "    </tr>\n",
       "    <tr>\n",
       "      <th>199169</th>\n",
       "      <td>2</td>\n",
       "      <td>직접보고 사지 않아서 일까요 크기가 많이 작네요지인집에서 의외의 씹는맛에 놀라고 오...</td>\n",
       "      <td>0</td>\n",
       "      <td>[직접, 보, 사, 않, 아서, 일까요, 크기, 많이, 작, 요지, 집, 에서, 의...</td>\n",
       "    </tr>\n",
       "    <tr>\n",
       "      <th>174898</th>\n",
       "      <td>2</td>\n",
       "      <td>일반욕조엔 맞는다고해서 샀는데 너무 꽉맞아서 아기가 물에 잠기지 않네요ㅠ 반송비가 ...</td>\n",
       "      <td>0</td>\n",
       "      <td>[일반, 욕조, 엔, 맞, 는다고, 해서, 샀, 는데, 너무, 꽉, 맞, 아서, 아...</td>\n",
       "    </tr>\n",
       "    <tr>\n",
       "      <th>28344</th>\n",
       "      <td>2</td>\n",
       "      <td>이 브랜드는 첨써보는데 끼워넣을때 좀 억지로넣어야되는 경향이있어요ㅜㅜ 제가못한건지 ...</td>\n",
       "      <td>0</td>\n",
       "      <td>[브랜드, 첨, 써, 보, 데, 끼워, 넣, 때, 좀, 억지로, 넣, 어야, 되, ...</td>\n",
       "    </tr>\n",
       "  </tbody>\n",
       "</table>\n",
       "</div>"
      ],
      "text/plain": [
       "        ratings                                            reviews  label  \\\n",
       "67132         1                   봉돌 비닐포장이 뜯어져서 왔네요 야광물질도 벗겨져 있구요ㅠ      0   \n",
       "48395         2                                       불편해요ㅡ다음엔 안살듯      0   \n",
       "199169        2  직접보고 사지 않아서 일까요 크기가 많이 작네요지인집에서 의외의 씹는맛에 놀라고 오...      0   \n",
       "174898        2  일반욕조엔 맞는다고해서 샀는데 너무 꽉맞아서 아기가 물에 잠기지 않네요ㅠ 반송비가 ...      0   \n",
       "28344         2  이 브랜드는 첨써보는데 끼워넣을때 좀 억지로넣어야되는 경향이있어요ㅜㅜ 제가못한건지 ...      0   \n",
       "\n",
       "                                                tokenized  \n",
       "67132   [봉돌, 비닐, 포장, 뜯, 어, 져서, 왔, 네요, 야, 광물질, 벗겨져, 있, ...  \n",
       "48395                            [불편, 해요, ㅡ, 다음, 엔, 안, 살]  \n",
       "199169  [직접, 보, 사, 않, 아서, 일까요, 크기, 많이, 작, 요지, 집, 에서, 의...  \n",
       "174898  [일반, 욕조, 엔, 맞, 는다고, 해서, 샀, 는데, 너무, 꽉, 맞, 아서, 아...  \n",
       "28344   [브랜드, 첨, 써, 보, 데, 끼워, 넣, 때, 좀, 억지로, 넣, 어야, 되, ...  "
      ]
     },
     "execution_count": 15,
     "metadata": {},
     "output_type": "execute_result"
    }
   ],
   "source": [
    "# 훈련데이터 토큰화\n",
    "mecab = Mecab(dicpath=r'C:\\mecab\\mecab-ko-dic')\n",
    "train_data['tokenized'] = train_data['reviews'].apply(mecab.morphs)\n",
    "\n",
    "# 토큰화 결과에서 불용어는 제거함\n",
    "train_data['tokenized'] = train_data['tokenized'].apply(lambda x: [item for item in x if item not in stopwords])\n",
    "\n",
    "train_data.head()"
   ]
  },
  {
   "cell_type": "code",
   "execution_count": 29,
   "metadata": {},
   "outputs": [
    {
     "name": "stderr",
     "output_type": "stream",
     "text": [
      "<ipython-input-29-0696f9d058c1>:3: SettingWithCopyWarning: \n",
      "A value is trying to be set on a copy of a slice from a DataFrame.\n",
      "Try using .loc[row_indexer,col_indexer] = value instead\n",
      "\n",
      "See the caveats in the documentation: https://pandas.pydata.org/pandas-docs/stable/user_guide/indexing.html#returning-a-view-versus-a-copy\n",
      "  test_data['tokenized'] = test_data['reviews'].apply(mecab.morphs)\n",
      "<ipython-input-29-0696f9d058c1>:6: SettingWithCopyWarning: \n",
      "A value is trying to be set on a copy of a slice from a DataFrame.\n",
      "Try using .loc[row_indexer,col_indexer] = value instead\n",
      "\n",
      "See the caveats in the documentation: https://pandas.pydata.org/pandas-docs/stable/user_guide/indexing.html#returning-a-view-versus-a-copy\n",
      "  test_data['tokenized'] = test_data['tokenized'].apply(lambda x: [item for item in x if item not in stopwords])\n"
     ]
    },
    {
     "data": {
      "text/html": [
       "<div>\n",
       "<style scoped>\n",
       "    .dataframe tbody tr th:only-of-type {\n",
       "        vertical-align: middle;\n",
       "    }\n",
       "\n",
       "    .dataframe tbody tr th {\n",
       "        vertical-align: top;\n",
       "    }\n",
       "\n",
       "    .dataframe thead th {\n",
       "        text-align: right;\n",
       "    }\n",
       "</style>\n",
       "<table border=\"1\" class=\"dataframe\">\n",
       "  <thead>\n",
       "    <tr style=\"text-align: right;\">\n",
       "      <th></th>\n",
       "      <th>ratings</th>\n",
       "      <th>reviews</th>\n",
       "      <th>label</th>\n",
       "      <th>tokenized</th>\n",
       "    </tr>\n",
       "  </thead>\n",
       "  <tbody>\n",
       "    <tr>\n",
       "      <th>7636</th>\n",
       "      <td>4</td>\n",
       "      <td>잡기도 편하고 사용하기 좋아요</td>\n",
       "      <td>1</td>\n",
       "      <td>[잡, 기, 편하, 사용, 기, 좋, 아요]</td>\n",
       "    </tr>\n",
       "    <tr>\n",
       "      <th>38609</th>\n",
       "      <td>5</td>\n",
       "      <td>따듯하고 축구복안에입기좋아요</td>\n",
       "      <td>1</td>\n",
       "      <td>[따듯, 축구, 복안, 입, 기, 좋, 아요]</td>\n",
       "    </tr>\n",
       "    <tr>\n",
       "      <th>52630</th>\n",
       "      <td>5</td>\n",
       "      <td>재구매 화분보냈는데 잘자라고 가게분위기도확사네요 ㅎ</td>\n",
       "      <td>1</td>\n",
       "      <td>[재, 구매, 화분, 보냈, 는데, 잘, 자라, 분위기, 확, 사, 네요, ㅎ]</td>\n",
       "    </tr>\n",
       "    <tr>\n",
       "      <th>133487</th>\n",
       "      <td>1</td>\n",
       "      <td>항상 리얼테크닉제품을 사용하는데 이번엔 스폰지가 일정모양으로 전부 구겨져서 와서 복...</td>\n",
       "      <td>0</td>\n",
       "      <td>[항상, 리얼, 테크닉, 제품, 사용, 데, 이번, 엔, 스폰지, 일정, 모양, 으...</td>\n",
       "    </tr>\n",
       "    <tr>\n",
       "      <th>54914</th>\n",
       "      <td>1</td>\n",
       "      <td>토치로 쏘면 잠깐 불이 붙더니 금방 꺼집니다 하얗게 되는 시간도 오래 걸릴 뿐더러 ...</td>\n",
       "      <td>0</td>\n",
       "      <td>[토치, 로, 쏘, 면, 잠깐, 불, 붙, 더니, 금방, 꺼집니다, 하얗, 되, 시...</td>\n",
       "    </tr>\n",
       "  </tbody>\n",
       "</table>\n",
       "</div>"
      ],
      "text/plain": [
       "        ratings                                            reviews  label  \\\n",
       "7636          4                                   잡기도 편하고 사용하기 좋아요      1   \n",
       "38609         5                                    따듯하고 축구복안에입기좋아요      1   \n",
       "52630         5                       재구매 화분보냈는데 잘자라고 가게분위기도확사네요 ㅎ      1   \n",
       "133487        1  항상 리얼테크닉제품을 사용하는데 이번엔 스폰지가 일정모양으로 전부 구겨져서 와서 복...      0   \n",
       "54914         1  토치로 쏘면 잠깐 불이 붙더니 금방 꺼집니다 하얗게 되는 시간도 오래 걸릴 뿐더러 ...      0   \n",
       "\n",
       "                                                tokenized  \n",
       "7636                             [잡, 기, 편하, 사용, 기, 좋, 아요]  \n",
       "38609                           [따듯, 축구, 복안, 입, 기, 좋, 아요]  \n",
       "52630        [재, 구매, 화분, 보냈, 는데, 잘, 자라, 분위기, 확, 사, 네요, ㅎ]  \n",
       "133487  [항상, 리얼, 테크닉, 제품, 사용, 데, 이번, 엔, 스폰지, 일정, 모양, 으...  \n",
       "54914   [토치, 로, 쏘, 면, 잠깐, 불, 붙, 더니, 금방, 꺼집니다, 하얗, 되, 시...  "
      ]
     },
     "execution_count": 29,
     "metadata": {},
     "output_type": "execute_result"
    }
   ],
   "source": [
    "# 테스트데이터 토큰화\n",
    "mecab = Mecab(dicpath=r'C:\\mecab\\mecab-ko-dic')\n",
    "test_data['tokenized'] = test_data['reviews'].apply(mecab.morphs)\n",
    "\n",
    "# 토큰화 결과에서 불용어는 제거함\n",
    "test_data['tokenized'] = test_data['tokenized'].apply(lambda x: [item for item in x if item not in stopwords])\n",
    "\n",
    "test_data.head()"
   ]
  },
  {
   "cell_type": "markdown",
   "metadata": {},
   "source": [
    "mecab이 실행이 되지 않을 때\n",
    "- 압축파일 두 개 먼저 C:\\mecab 폴더 만들어서 압축 풀어놓고\n",
    "- 두 번째 압축파일에서 내 python version과 맞는 파일 mecab 폴더에 넣고\n",
    "- pip install '파일 이름.whl'\n",
    "- `mecab = Mecab(dicpath=r'C:\\mecab\\mecab-ko-dic')` 코드 실행(사전을 지정해주는 단계) "
   ]
  },
  {
   "cell_type": "markdown",
   "metadata": {},
   "source": [
    "## 단어와 길이 분포 확인하기\n",
    "- 긍정 리뷰에는 주로 어떤 단어들이 많이 등장하고, 부정 리뷰에는 주로 어떤 단어들이 등장하는지 두 가지 경우에 대해서 각 단어의 빈도수를 계산"
   ]
  },
  {
   "cell_type": "markdown",
   "metadata": {},
   "source": [
    "#### 부정적 리뷰의 단어"
   ]
  },
  {
   "cell_type": "code",
   "execution_count": 24,
   "metadata": {},
   "outputs": [
    {
     "data": {
      "text/plain": [
       "array(['봉돌', '비닐', '포장', ..., '검수', '미흡', '함'], dtype='<U25')"
      ]
     },
     "execution_count": 24,
     "metadata": {},
     "output_type": "execute_result"
    }
   ],
   "source": [
    "# 1) 각 레이블에 따라서 별도로 단어들의 리스트를 저장\n",
    "negative_words = np.hstack(train_data[train_data.label == 0]['tokenized'].values)\n",
    "negative_words"
   ]
  },
  {
   "cell_type": "code",
   "execution_count": 22,
   "metadata": {},
   "outputs": [
    {
     "data": {
      "text/plain": [
       "[('네요', 31841),\n",
       " ('는데', 20193),\n",
       " ('안', 19652),\n",
       " ('어요', 14817),\n",
       " ('있', 13263),\n",
       " ('너무', 13181),\n",
       " ('했', 11635),\n",
       " ('좋', 9726),\n",
       " ('배송', 9609),\n",
       " ('같', 9026),\n",
       " ('거', 8892),\n",
       " ('어', 8867),\n",
       " ('구매', 8822),\n",
       " ('아요', 8718),\n",
       " ('없', 8656),\n",
       " ('습니다', 8475),\n",
       " ('되', 8468),\n",
       " ('그냥', 8393),\n",
       " ('잘', 8095),\n",
       " ('않', 7965)]"
      ]
     },
     "execution_count": 22,
     "metadata": {},
     "output_type": "execute_result"
    }
   ],
   "source": [
    "# 2) Counter()를 사용하여 각 단어에 대한 빈도수를 카운트\n",
    "negative_word_count = Counter(negative_words)\n",
    "negative_word_count.most_common(20)"
   ]
  },
  {
   "cell_type": "markdown",
   "metadata": {},
   "source": [
    "#### 긍정적 리뷰의 단어"
   ]
  },
  {
   "cell_type": "code",
   "execution_count": 23,
   "metadata": {},
   "outputs": [
    {
     "data": {
      "text/plain": [
       "array(['좋', '아요', '완전', ..., '좋', '았', '어요'], dtype='<U25')"
      ]
     },
     "execution_count": 23,
     "metadata": {},
     "output_type": "execute_result"
    }
   ],
   "source": [
    "# 1) 각 레이블에 따라서 별도로 단어들의 리스트를 저장\n",
    "positive_words = np.hstack(train_data[train_data.label == 1]['tokenized'].values)\n",
    "positive_words"
   ]
  },
  {
   "cell_type": "code",
   "execution_count": 26,
   "metadata": {},
   "outputs": [
    {
     "data": {
      "text/plain": [
       "[('좋', 39383),\n",
       " ('아요', 21055),\n",
       " ('네요', 19880),\n",
       " ('잘', 18679),\n",
       " ('어요', 18640),\n",
       " ('구매', 16241),\n",
       " ('습니다', 13535),\n",
       " ('있', 12462),\n",
       " ('배송', 12147),\n",
       " ('는데', 11774),\n",
       " ('했', 9855),\n",
       " ('합니다', 9839),\n",
       " ('먹', 9632),\n",
       " ('재', 9340),\n",
       " ('너무', 8368),\n",
       " ('같', 7921),\n",
       " ('만족', 7310),\n",
       " ('거', 6602),\n",
       " ('어', 6396),\n",
       " ('쓰', 6379)]"
      ]
     },
     "execution_count": 26,
     "metadata": {},
     "output_type": "execute_result"
    }
   ],
   "source": [
    "# 2) Counter()를 사용하여 각 단어에 대한 빈도수를 카운트\n",
    "positive_word_count = Counter(positive_words)\n",
    "positive_word_count.most_common(20)"
   ]
  },
  {
   "cell_type": "code",
   "execution_count": 27,
   "metadata": {},
   "outputs": [
    {
     "name": "stdout",
     "output_type": "stream",
     "text": [
      "긍정 리뷰의 평균 길이:  13.602141076404164\n",
      "부정 리뷰의 평균 길이:  17.0584607992312\n"
     ]
    },
    {
     "data": {
      "image/png": "[encoded data removed]",
      "text/plain": [
       "<Figure size 720x360 with 2 Axes>"
      ]
     },
     "metadata": {
      "needs_background": "light"
     },
     "output_type": "display_data"
    }
   ],
   "source": [
    "# 두 가지 경우에 대한 길이 분포 확인\n",
    "fig, (ax1, ax2) = plt.subplots(1, 2, figsize = (10, 5))\n",
    "text_len = train_data[train_data['label'] == 1]['tokenized'].map(lambda x: len(x))\n",
    "ax1.hist(text_len, color = 'red')\n",
    "ax1.set_title('Positive Reviews')\n",
    "ax1.set_xlabel('length of samples')\n",
    "ax1.set_ylabel('number of samples')\n",
    "print('긍정 리뷰의 평균 길이: ', np.mean(text_len))\n",
    "\n",
    "text_len = train_data[train_data['label'] == 0]['tokenized'].map(lambda x: len(x))\n",
    "ax2.hist(text_len, color = 'blue')\n",
    "ax2.set_title('Negative Reviews')\n",
    "ax2.set_xlabel('length of samples')\n",
    "ax2.set_ylabel('number of samples')\n",
    "print('부정 리뷰의 평균 길이: ', np.mean(text_len))"
   ]
  },
  {
   "cell_type": "markdown",
   "metadata": {},
   "source": [
    "- 부정 리뷰가 좀 더 길게 작성된 경향"
   ]
  },
  {
   "cell_type": "code",
   "execution_count": 31,
   "metadata": {},
   "outputs": [],
   "source": [
    "# 정수 인코딩\n",
    "X_train = train_data['tokenized'].values\n",
    "y_train = train_data['label'].values\n",
    "X_test = test_data['tokenized'].values\n",
    "y_test = test_data['label'].values\n",
    "\n",
    "tokenizer = Tokenizer()\n",
    "tokenizer.fit_on_texts(X_train)"
   ]
  },
  {
   "cell_type": "code",
   "execution_count": 35,
   "metadata": {},
   "outputs": [
    {
     "name": "stdout",
     "output_type": "stream",
     "text": [
      "단어 집합(vocabulary)의 크기:  40083\n",
      "등장 빈도가 1번 이하인 희귀 단어의 수: 18254\n",
      "단어 집합에서 희귀 단어의 비율:  45.54050345533019\n",
      "전체 등장 빈도에서 희귀 단어 등장 빈도 비율  0.7942264341565227\n"
     ]
    }
   ],
   "source": [
    "# 희귀 단어의 비율 알아보기\n",
    "# -> 등장 빈도가 2회 미만인 단어\n",
    "threshold = 2 # 제한하고자 하는 최대 등장 빈도수\n",
    "total_cnt = len(tokenizer.word_index) # 단어의 수\n",
    "rare_cnt = 0 # 등장 빈도수가 threshold보다 작은 단어의 개수를 카운트\n",
    "total_freq = 0 # 훈련 데이터의 전체 단어 빈도수 총합\n",
    "rare_freq = 0 # 등장 빈도구사 threshold보다 작은 단어의 등장 빈도수의 총합\n",
    "\n",
    "# 단어와 빈도수의 쌍(pair)을 key와 value로 받는다.\n",
    "for key, value in tokenizer.word_counts.items():\n",
    "    total_freq = total_freq + value\n",
    "    \n",
    "    # 단어의 등장 빈도수가 threshold보다 작으면\n",
    "    if (value < threshold):\n",
    "        rare_cnt = rare_cnt + 1\n",
    "        rare_freq = rare_freq + value\n",
    "        \n",
    "print('단어 집합(vocabulary)의 크기: ', total_cnt)\n",
    "print('등장 빈도가 %s번 이하인 희귀 단어의 수: %s' %(threshold - 1, rare_cnt))\n",
    "print('단어 집합에서 희귀 단어의 비율: ', (rare_cnt/total_cnt) * 100)\n",
    "print('전체 등장 빈도에서 희귀 단어 등장 빈도 비율 ', (rare_freq/total_freq) * 100)"
   ]
  },
  {
   "cell_type": "code",
   "execution_count": 36,
   "metadata": {},
   "outputs": [
    {
     "name": "stdout",
     "output_type": "stream",
     "text": [
      "단어 집합의 크기:  21831\n"
     ]
    }
   ],
   "source": [
    "# 등장 빈도수가 1인 단어들의 수를 제외한 단어의 개수를 단어 집합의 최대 크기로 제한\n",
    "# 전체 단어 개수 중 빈도수 2이하인 단어 개수는 제거\n",
    "# 0번 패딩 토큰과 1번 OOV 토큰을 고려하여 +2\n",
    "# OOV --> Out of Vacabulary\n",
    "vocab_size = total_cnt - rare_cnt + 2\n",
    "print('단어 집합의 크기: ', vocab_size)"
   ]
  },
  {
   "cell_type": "code",
   "execution_count": 37,
   "metadata": {},
   "outputs": [
    {
     "name": "stdout",
     "output_type": "stream",
     "text": [
      "[[6787, 492, 78, 332, 17, 537, 70, 2, 314, 1, 2616, 8, 117, 95], [127, 50, 684, 192, 183, 10, 168], [634, 40, 64, 25, 43, 3355, 222, 62, 73, 1, 180, 68, 4219, 1145, 61, 2475, 1137, 937, 900, 36, 76, 38, 5, 299, 88, 73, 43, 10, 2717, 503, 48, 3310, 26, 4, 95]]\n",
      "[[363, 23, 143, 30, 23, 3, 6], [2306, 5873, 1, 79, 23, 3, 6], [21, 9, 2087, 822, 5, 7, 4472, 1348, 1324, 64, 2, 153]]\n"
     ]
    }
   ],
   "source": [
    "# vocab_size를 토크나이저의 인자로 넘겨주면, 토크나이저는 텍스트 시퀀스를 숫자 시퀀스로 변환\n",
    "tokenizer = Tokenizer(vocab_size, oov_token = 'OOV')\n",
    "tokenizer.fit_on_texts(X_train)\n",
    "X_train = tokenizer.texts_to_sequences(X_train)\n",
    "X_test = tokenizer.texts_to_sequences(X_test)\n",
    "\n",
    "# 정수 인코딩이 진행되었는지 확인하고자 X_train과 X_test에 대해서 상위 3개의 샘플만 출력\n",
    "print(X_train[:3])\n",
    "print(X_test[:3])"
   ]
  },
  {
   "cell_type": "code",
   "execution_count": 38,
   "metadata": {},
   "outputs": [
    {
     "name": "stdout",
     "output_type": "stream",
     "text": [
      "리뷰의 최대 길이:  85\n",
      "리뷰의 평균 길이:  15.32929814381282\n"
     ]
    },
    {
     "data": {
      "image/png": "[encoded data removed]",
      "text/plain": [
       "<Figure size 432x288 with 1 Axes>"
      ]
     },
     "metadata": {
      "needs_background": "light"
     },
     "output_type": "display_data"
    }
   ],
   "source": [
    "# 전체 데이터에서 가장 길이가 긴 리뷰와 전체 데이터의 길이 분포\n",
    "print('리뷰의 최대 길이: ', max(len(l) for l in X_train))\n",
    "print('리뷰의 평균 길이: ', sum(map(len, X_train)) / len(X_train))\n",
    "plt.hist([len(s)for s in X_train], bins = 50)\n",
    "plt.xlabel('length of samples')\n",
    "plt.ylabel('number of samples')\n",
    "plt.show()"
   ]
  },
  {
   "cell_type": "code",
   "execution_count": 40,
   "metadata": {},
   "outputs": [
    {
     "name": "stdout",
     "output_type": "stream",
     "text": [
      "전체 샘플 중 길이가 80 이하인 샘플의 비율: 99.99866605305107\n"
     ]
    }
   ],
   "source": [
    "# 최대 길이가 85이므로 만약 80으로 패딩할 경우, 몇 개의 샘플들을 온전히 보전할 수 있는지 확인\n",
    "max_len = 80\n",
    "cnt = 0\n",
    "\n",
    "for x in X_train:\n",
    "    if len(x) <= max_len:\n",
    "        cnt += 1\n",
    "\n",
    "result = (cnt / len(X_train)) * 100\n",
    "print('전체 샘플 중 길이가 %s 이하인 샘플의 비율: %s' % (max_len, result))"
   ]
  },
  {
   "cell_type": "code",
   "execution_count": 41,
   "metadata": {},
   "outputs": [],
   "source": [
    "# 훈련용 리뷰를 길이 80으로 패딩\n",
    "X_train = pad_sequences(X_train, maxlen = max_len)\n",
    "X_test = pad_sequences(X_test, maxlen = max_len)"
   ]
  },
  {
   "cell_type": "markdown",
   "metadata": {},
   "source": [
    "## GRU로 네이버 쇼핑 리뷰 감성 분류\n",
    "- GRU: LSTM의 간소화 형태\n"
   ]
  },
  {
   "cell_type": "code",
   "execution_count": 42,
   "metadata": {},
   "outputs": [],
   "source": [
    "from tensorflow.keras.layers import Embedding, Dense, GRU\n",
    "from tensorflow.keras.models import Sequential\n",
    "from tensorflow.keras.models import load_model\n",
    "from tensorflow.keras.callbacks import EarlyStopping, ModelCheckpoint"
   ]
  },
  {
   "cell_type": "code",
   "execution_count": 43,
   "metadata": {},
   "outputs": [],
   "source": [
    "# 모델 구성\n",
    "model = Sequential()\n",
    "model.add(Embedding(vocab_size, 100))\n",
    "model.add(GRU(128))\n",
    "model.add(Dense(1, activation = 'sigmoid'))"
   ]
  },
  {
   "cell_type": "code",
   "execution_count": 45,
   "metadata": {},
   "outputs": [],
   "source": [
    "# 콜백함수 지정\n",
    "es = EarlyStopping(monitor = 'val_loss', mode = 'min', verbose = 1, patience = 4)\n",
    "mc = ModelCheckpoint('best_model.h5', monitor = 'val_acc', mode = 'max', verbose = 1, save_best_only = True)"
   ]
  },
  {
   "cell_type": "code",
   "execution_count": 46,
   "metadata": {},
   "outputs": [
    {
     "name": "stdout",
     "output_type": "stream",
     "text": [
      "Model: \"sequential\"\n",
      "_________________________________________________________________\n",
      "Layer (type)                 Output Shape              Param #   \n",
      "=================================================================\n",
      "embedding (Embedding)        (None, None, 100)         2183100   \n",
      "_________________________________________________________________\n",
      "gru (GRU)                    (None, 128)               88320     \n",
      "_________________________________________________________________\n",
      "dense (Dense)                (None, 1)                 129       \n",
      "=================================================================\n",
      "Total params: 2,271,549\n",
      "Trainable params: 2,271,549\n",
      "Non-trainable params: 0\n",
      "_________________________________________________________________\n"
     ]
    }
   ],
   "source": [
    "# 모델 컴파일\n",
    "model.compile(optimizer = 'rmsprop', loss = 'binary_crossentropy', metrics = ['acc'])\n",
    "model.summary()"
   ]
  },
  {
   "cell_type": "code",
   "execution_count": 47,
   "metadata": {},
   "outputs": [
    {
     "name": "stdout",
     "output_type": "stream",
     "text": [
      "Epoch 1/15\n",
      "2000/2000 [==============================] - ETA: 0s - loss: 0.2694 - acc: 0.8986\n",
      "Epoch 00001: val_acc improved from -inf to 0.92070, saving model to best_model.h5\n",
      "2000/2000 [==============================] - 265s 132ms/step - loss: 0.2694 - acc: 0.8986 - val_loss: 0.2224 - val_acc: 0.9207\n",
      "Epoch 2/15\n",
      "2000/2000 [==============================] - ETA: 0s - loss: 0.2132 - acc: 0.9231\n",
      "Epoch 00002: val_acc improved from 0.92070 to 0.92313, saving model to best_model.h5\n",
      "2000/2000 [==============================] - 271s 135ms/step - loss: 0.2132 - acc: 0.9231 - val_loss: 0.2119 - val_acc: 0.9231\n",
      "Epoch 3/15\n",
      "2000/2000 [==============================] - ETA: 0s - loss: 0.1970 - acc: 0.9297\n",
      "Epoch 00003: val_acc improved from 0.92313 to 0.92550, saving model to best_model.h5\n",
      "2000/2000 [==============================] - 271s 136ms/step - loss: 0.1970 - acc: 0.9297 - val_loss: 0.2057 - val_acc: 0.9255\n",
      "Epoch 4/15\n",
      "2000/2000 [==============================] - ETA: 0s - loss: 0.1868 - acc: 0.9346\n",
      "Epoch 00004: val_acc did not improve from 0.92550\n",
      "2000/2000 [==============================] - 278s 139ms/step - loss: 0.1868 - acc: 0.9346 - val_loss: 0.2069 - val_acc: 0.9251\n",
      "Epoch 5/15\n",
      "2000/2000 [==============================] - ETA: 0s - loss: 0.1783 - acc: 0.9368\n",
      "Epoch 00005: val_acc improved from 0.92550 to 0.92740, saving model to best_model.h5\n",
      "2000/2000 [==============================] - 283s 141ms/step - loss: 0.1783 - acc: 0.9368 - val_loss: 0.2030 - val_acc: 0.9274\n",
      "Epoch 6/15\n",
      "2000/2000 [==============================] - ETA: 0s - loss: 0.1703 - acc: 0.9401\n",
      "Epoch 00006: val_acc did not improve from 0.92740\n",
      "2000/2000 [==============================] - 286s 143ms/step - loss: 0.1703 - acc: 0.9401 - val_loss: 0.2034 - val_acc: 0.9268\n",
      "Epoch 7/15\n",
      "2000/2000 [==============================] - ETA: 0s - loss: 0.1617 - acc: 0.9435\n",
      "Epoch 00007: val_acc did not improve from 0.92740\n",
      "2000/2000 [==============================] - 277s 138ms/step - loss: 0.1617 - acc: 0.9435 - val_loss: 0.2107 - val_acc: 0.9242\n",
      "Epoch 8/15\n",
      "2000/2000 [==============================] - ETA: 0s - loss: 0.1528 - acc: 0.9473\n",
      "Epoch 00008: val_acc did not improve from 0.92740\n",
      "2000/2000 [==============================] - 282s 141ms/step - loss: 0.1528 - acc: 0.9473 - val_loss: 0.2162 - val_acc: 0.9232\n",
      "Epoch 9/15\n",
      "2000/2000 [==============================] - ETA: 0s - loss: 0.1428 - acc: 0.9509\n",
      "Epoch 00009: val_acc did not improve from 0.92740\n",
      "2000/2000 [==============================] - 276s 138ms/step - loss: 0.1428 - acc: 0.9509 - val_loss: 0.2261 - val_acc: 0.9213\n",
      "Epoch 00009: early stopping\n"
     ]
    }
   ],
   "source": [
    "# 훈련 시작\n",
    "history = model.fit(X_train, y_train, epochs = 15, callbacks = [es, mc], batch_size = 60, validation_split = 0.2)"
   ]
  },
  {
   "cell_type": "code",
   "execution_count": 48,
   "metadata": {},
   "outputs": [
    {
     "name": "stdout",
     "output_type": "stream",
     "text": [
      "1562/1562 [==============================] - 31s 20ms/step - loss: 0.2099 - acc: 0.9252\n",
      "\n",
      " 테스트 정확도: 0.9252\n"
     ]
    }
   ],
   "source": [
    "# 훈련 정확도 확인\n",
    "loaded_model = load_model('best_model.h5')\n",
    "print('\\n 테스트 정확도: %.4f' % (loaded_model.evaluate(X_test, y_test)[1]))"
   ]
  },
  {
   "cell_type": "markdown",
   "metadata": {},
   "source": [
    "## 리뷰 예측해보기"
   ]
  },
  {
   "cell_type": "code",
   "execution_count": 49,
   "metadata": {},
   "outputs": [],
   "source": [
    "def sentiment_predict(new_sentence):\n",
    "    new_sentence = mecab.morphs(new_sentence) # 토큰화\n",
    "    new_sentence = [word for word in new_sentence if not word in stopwords] # 불영어 제거\n",
    "    encoded = tokenizer.texts_to_sequences([new_sentence]) # 정수 인코딩\n",
    "    pad_new = pad_sequences(encoded, maxlen = max_len) # 패딩\n",
    "    score = float(loaded_model.predict(pad_new)) # 예측\n",
    "    if (score > 0.5):\n",
    "        print(\"{:.2f}% 확률로 긍정 리뷰입니다.\".format(score * 100))\n",
    "    else:\n",
    "        print(\"{:.2f}% 확률로 부정 리뷰입니다.\".format((1 - score) * 100))"
   ]
  },
  {
   "cell_type": "code",
   "execution_count": 50,
   "metadata": {},
   "outputs": [
    {
     "name": "stdout",
     "output_type": "stream",
     "text": [
      "97.63% 확률로 긍정 리뷰입니다.\n",
      "99.63% 확률로 부정 리뷰입니다.\n",
      "97.45% 확률로 긍정 리뷰입니다.\n",
      "92.33% 확률로 부정 리뷰입니다.\n"
     ]
    }
   ],
   "source": [
    "sentiment_predict('이 상품 진짜 좋아요... 저는 강추합니다. 대박')\n",
    "sentiment_predict('진짜 배송도 늦고 개짜증나네요. 뭐 이런 걸 상품이라고 만듬?')\n",
    "sentiment_predict('판매자님... 너무 짱이에요.... 대박나삼')\n",
    "sentiment_predict('ㅁㄴㅇㄻㄴㅇㄹ리뷰쓰기도 귀찮아')"
   ]
  }
 ],
 "metadata": {
  "kernelspec": {
   "display_name": "Python 3",
   "language": "python",
   "name": "python3"
  },
  "language_info": {
   "codemirror_mode": {
    "name": "ipython",
    "version": 3
   },
   "file_extension": ".py",
   "mimetype": "text/x-python",
   "name": "python",
   "nbconvert_exporter": "python",
   "pygments_lexer": "ipython3",
   "version": "3.8.6"
  }
 },
 "nbformat": 4,
 "nbformat_minor": 4
}
