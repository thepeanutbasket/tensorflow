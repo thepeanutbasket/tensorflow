{
 "cells": [
  {
   "cell_type": "markdown",
   "metadata": {},
   "source": [
    "## RNN (순환신경망, Recurrnet Neural Network)\n",
    "\n",
    "- CNN과 함께 딥러닝의 양대 산맥을 이루는 신경망\n",
    "- 음성 인식, 문장 번역, 시계열 데이터를 통한 예측에서 활용함.\n",
    "- 케라스에서는 RNN을 위한 4개의 계층을 제공함 (Embedding, SimpleRNN, LSTM, Conv1D)\n",
    "\n",
    "### IMDB 데이터 셋\n",
    "\n",
    "- 영화 리뷰에 대한 데이터 50,000개로 이루어져 있다.\n",
    "- 25,000개의 훈련 데이터와 25,000개의 테스트 데이터\n",
    "- 50%씩 긍정 리뷰와 부정 리뷰\n",
    "- 이미 전처리가 되어 있어서 각 리뷰가 숫자로 변환되어 있다."
   ]
  },
  {
   "cell_type": "code",
   "execution_count": 2,
   "metadata": {},
   "outputs": [
    {
     "name": "stdout",
     "output_type": "stream",
     "text": [
      "(25000,) (25000,)\n",
      "(25000,) (25000,)\n"
     ]
    }
   ],
   "source": [
    "# 데이터셋 다운받기\n",
    "from tensorflow.keras.datasets import imdb\n",
    "\n",
    "# num_words: 가장 빈번하게 사용되는 단어의 개수\n",
    "num_words = 10000\n",
    "(x_train, y_train), (x_test, y_test) = imdb.load_data(num_words = num_words)\n",
    "\n",
    "# 데이터 형태 확인하기\n",
    "print(x_train.shape, y_train.shape)\n",
    "print(x_test.shape, y_test.shape)"
   ]
  },
  {
   "cell_type": "code",
   "execution_count": 4,
   "metadata": {},
   "outputs": [
    {
     "name": "stdout",
     "output_type": "stream",
     "text": [
      "[1, 14, 22, 16, 43, 530, 973, 1622, 1385, 65, 458, 4468, 66, 3941, 4, 173, 36, 256, 5, 25, 100, 43, 838, 112, 50, 670, 2, 9, 35, 480, 284, 5, 150, 4, 172, 112, 167, 2, 336, 385, 39, 4, 172, 4536, 1111, 17, 546, 38, 13, 447, 4, 192, 50, 16, 6, 147, 2025, 19, 14, 22, 4, 1920, 4613, 469, 4, 22, 71, 87, 12, 16, 43, 530, 38, 76, 15, 13, 1247, 4, 22, 17, 515, 17, 12, 16, 626, 18, 2, 5, 62, 386, 12, 8, 316, 8, 106, 5, 4, 2223, 5244, 16, 480, 66, 3785, 33, 4, 130, 12, 16, 38, 619, 5, 25, 124, 51, 36, 135, 48, 25, 1415, 33, 6, 22, 12, 215, 28, 77, 52, 5, 14, 407, 16, 82, 2, 8, 4, 107, 117, 5952, 15, 256, 4, 2, 7, 3766, 5, 723, 36, 71, 43, 530, 476, 26, 400, 317, 46, 7, 4, 2, 1029, 13, 104, 88, 4, 381, 15, 297, 98, 32, 2071, 56, 26, 141, 6, 194, 7486, 18, 4, 226, 22, 21, 134, 476, 26, 480, 5, 144, 30, 5535, 18, 51, 36, 28, 224, 92, 25, 104, 4, 226, 65, 16, 38, 1334, 88, 12, 16, 283, 5, 16, 4472, 113, 103, 32, 15, 16, 5345, 19, 178, 32]\n",
      "-----------------------------------\n",
      "1\n"
     ]
    }
   ],
   "source": [
    "# 첫 번째 데이터 확인하기\n",
    "print(x_train[0])\n",
    "print('-----------------------------------')\n",
    "print(y_train[0])"
   ]
  },
  {
   "cell_type": "markdown",
   "metadata": {},
   "source": [
    "#### x_train[0]\n",
    "\n",
    "- 영어로 된 한 문장을 예시로 갖고왔다고 생각하면 된다.\n",
    "- x_train[0]에서 볼 수 있는 숫자는 빈번하게 사용되는 정도\n",
    "- 1은 데이터셋에서 가장 빈번하게 사용되는 단어, 10은 10번째로 빈번하게 사용되는 단어를 의미\n",
    "\n",
    "#### y_train[0]\n",
    "- 1은 긍정, 0은 부정적인 리뷰"
   ]
  },
  {
   "cell_type": "code",
   "execution_count": 10,
   "metadata": {},
   "outputs": [
    {
     "name": "stdout",
     "output_type": "stream",
     "text": [
      "1번째로 가장 많이 쓰인 단어 : the\n",
      "2번째로 가장 많이 쓰인 단어 : and\n",
      "3번째로 가장 많이 쓰인 단어 : a\n",
      "4번째로 가장 많이 쓰인 단어 : of\n",
      "5번째로 가장 많이 쓰인 단어 : to\n",
      "6번째로 가장 많이 쓰인 단어 : is\n",
      "7번째로 가장 많이 쓰인 단어 : br\n",
      "8번째로 가장 많이 쓰인 단어 : in\n",
      "9번째로 가장 많이 쓰인 단어 : it\n",
      "10번째로 가장 많이 쓰인 단어 : i\n",
      "11번째로 가장 많이 쓰인 단어 : this\n",
      "12번째로 가장 많이 쓰인 단어 : that\n",
      "13번째로 가장 많이 쓰인 단어 : was\n",
      "14번째로 가장 많이 쓰인 단어 : as\n",
      "15번째로 가장 많이 쓰인 단어 : for\n",
      "16번째로 가장 많이 쓰인 단어 : with\n",
      "17번째로 가장 많이 쓰인 단어 : movie\n",
      "18번째로 가장 많이 쓰인 단어 : but\n",
      "19번째로 가장 많이 쓰인 단어 : film\n",
      "20번째로 가장 많이 쓰인 단어 : on\n",
      "21번째로 가장 많이 쓰인 단어 : not\n",
      "22번째로 가장 많이 쓰인 단어 : you\n",
      "23번째로 가장 많이 쓰인 단어 : are\n",
      "24번째로 가장 많이 쓰인 단어 : his\n",
      "25번째로 가장 많이 쓰인 단어 : have\n",
      "26번째로 가장 많이 쓰인 단어 : he\n",
      "27번째로 가장 많이 쓰인 단어 : be\n",
      "28번째로 가장 많이 쓰인 단어 : one\n",
      "29번째로 가장 많이 쓰인 단어 : all\n",
      "30번째로 가장 많이 쓰인 단어 : at\n"
     ]
    }
   ],
   "source": [
    "# IMDB 데이터셋에서 가장 빈번하게 사용되는 30개의 단어\n",
    "imdb_get_word_index = {}\n",
    "\n",
    "# items() 는 인덱스와 아이템을 가진 튜플을 출력한다\n",
    "for key, value in imdb.get_word_index().items():\n",
    "    imdb_get_word_index[value] = key\n",
    "    \n",
    "for i in range(1, 31):\n",
    "    print('{}번째로 가장 많이 쓰인 단어 : {}'.format(i, imdb_get_word_index[i]))"
   ]
  },
  {
   "cell_type": "markdown",
   "metadata": {},
   "source": [
    "### 데이터를 동일한 길이로 맞추기\n",
    "- Embedding층을 사용하기 위해서는 시퀀스 데이터(여기서는 문장을 나타냅니다)의 길이가 전부 동일해야 한다.\n",
    "- 이를 위해 pad_sequences() 함수를 사용\n",
    "    - 이 함수는 해당 데이터가 지정해준 길이보다 짧은 경우 0으로 채워 넣으며 긴 경우는 잘라낸다.\n",
    "    - 단어의 뒤에 패딩을 추가하고 싶으면 padding인자를 post로 지정한다."
   ]
  },
  {
   "cell_type": "code",
   "execution_count": 11,
   "metadata": {},
   "outputs": [
    {
     "name": "stdout",
     "output_type": "stream",
     "text": [
      "Before pad_sequences:  218\n"
     ]
    }
   ],
   "source": [
    "from tensorflow.keras.preprocessing.sequence import pad_sequences\n",
    "\n",
    "max_len = 500\n",
    "\n",
    "print('Before pad_sequences: ', len(x_train[0]))"
   ]
  },
  {
   "cell_type": "code",
   "execution_count": 15,
   "metadata": {},
   "outputs": [
    {
     "name": "stdout",
     "output_type": "stream",
     "text": [
      "After pad_sequences:  500\n"
     ]
    }
   ],
   "source": [
    "pad_x_train = pad_sequences(x_train, maxlen = max_len, padding = 'pre')\n",
    "pad_x_test = pad_sequences(x_test, maxlen = max_len, padding = 'pre')\n",
    "\n",
    "print('After pad_sequences: ', len(pad_x_train[0]))"
   ]
  },
  {
   "cell_type": "markdown",
   "metadata": {},
   "source": [
    "## Embedding 층을 사용하여 모델 구성하기\n",
    "\n",
    "- Embedding층은 모델의 첫 번째 층으로만 사용할 수 있으며, 주로 순환 신경망과 연결하여 사용한다.\n",
    "     - input_dim 인자는 학습 데이터 셋에서 사용한 단어의 개수(10,000)\n",
    "     - output_dim 인자는 임베딩 벡터의 크기(32)\n",
    "        - 이와 같이 인자를 설정하고나면 Embedding층은 (None, 500, 32)형태의 출력을 가지게 된다.\n",
    "        - 500은 입력값의 길이를 지정했던 max_len의 길이와 같으며, 32는 임베딩 벡터의 크기와 같다.\n",
    "     - input_length 인자는 Flatten 층을 사용하기 위해 전달"
   ]
  },
  {
   "cell_type": "code",
   "execution_count": 17,
   "metadata": {},
   "outputs": [],
   "source": [
    "from tensorflow.keras.models import Sequential\n",
    "from tensorflow.keras.layers import Dense, Embedding, Flatten\n",
    "\n",
    "model = Sequential()\n",
    "\n",
    "model.add(Embedding(input_dim = num_words, output_dim = 32, input_length = max_len))"
   ]
  },
  {
   "cell_type": "markdown",
   "metadata": {},
   "source": [
    "### Embedding층 이후에 Dense층을 연결\n",
    "\n",
    "- input_length 인자를 사용하여 출력 크기를 지정\n",
    "- Dense층과의 연결을 위해 Flatten층을 사용\n",
    "- 여기서는 직접 지정한 데이터의 최대 길이인 500(max_len)을 사용합니다. 또한, input_length 인자는 Embedding층과 연결된 층이 순환 신경망일 경우엔 사용하지 않습니다."
   ]
  },
  {
   "cell_type": "code",
   "execution_count": 18,
   "metadata": {},
   "outputs": [
    {
     "name": "stdout",
     "output_type": "stream",
     "text": [
      "Model: \"sequential\"\n",
      "_________________________________________________________________\n",
      "Layer (type)                 Output Shape              Param #   \n",
      "=================================================================\n",
      "embedding (Embedding)        (None, 500, 32)           320000    \n",
      "_________________________________________________________________\n",
      "flatten (Flatten)            (None, 16000)             0         \n",
      "_________________________________________________________________\n",
      "dense (Dense)                (None, 1)                 16001     \n",
      "=================================================================\n",
      "Total params: 336,001\n",
      "Trainable params: 336,001\n",
      "Non-trainable params: 0\n",
      "_________________________________________________________________\n"
     ]
    }
   ],
   "source": [
    "model.add(Flatten())\n",
    "model.add(Dense(1, activation = 'sigmoid'))\n",
    "\n",
    "model.compile(optimizer = 'adam', loss = 'binary_crossentropy', metrics = ['acc'])\n",
    "\n",
    "model.summary()"
   ]
  },
  {
   "cell_type": "markdown",
   "metadata": {},
   "source": [
    "### 모델 학습시키기\n",
    "- model.fit()에서 새로운 인자인 validation_split을 사용\n",
    "- validation_split : 학습 데이터의 끝에서 해당 비율만큼 떼어내어 검증 데이터셋으로 활용.\n",
    "- 여기서는 0.2로 학습 데이터의 20% 비율만큼을 검증 데이터로 활용\n",
    "- 데이터에서 무작위로 20%의 비율만큼 뽑아오는 게 아니라, 단손하게 학습 데이터의 끝에서 20%를 떼어낸다."
   ]
  },
  {
   "cell_type": "code",
   "execution_count": 19,
   "metadata": {},
   "outputs": [
    {
     "name": "stdout",
     "output_type": "stream",
     "text": [
      "Epoch 1/30\n",
      "625/625 [==============================] - 8s 13ms/step - loss: 0.4696 - acc: 0.7674 - val_loss: 0.2962 - val_acc: 0.8798\n",
      "Epoch 2/30\n",
      "625/625 [==============================] - 9s 14ms/step - loss: 0.2018 - acc: 0.9268 - val_loss: 0.2713 - val_acc: 0.8894\n",
      "Epoch 3/30\n",
      "625/625 [==============================] - 14s 23ms/step - loss: 0.1051 - acc: 0.9707 - val_loss: 0.2913 - val_acc: 0.8840loss: 0.1043 - acc: 0.972 - ETA: 2s - loss: 0.1043 - acc - E\n",
      "Epoch 4/30\n",
      "625/625 [==============================] - 10s 16ms/step - loss: 0.0494 - acc: 0.9909 - val_loss: 0.3237 - val_acc: 0.8798\n",
      "Epoch 5/30\n",
      "625/625 [==============================] - 8s 12ms/step - loss: 0.0225 - acc: 0.9979 - val_loss: 0.3407 - val_acc: 0.8824\n",
      "Epoch 6/30\n",
      "625/625 [==============================] - 7s 12ms/step - loss: 0.0113 - acc: 0.9997 - val_loss: 0.3610 - val_acc: 0.8834\n",
      "Epoch 7/30\n",
      "625/625 [==============================] - 8s 13ms/step - loss: 0.0062 - acc: 0.9999 - val_loss: 0.3889 - val_acc: 0.8798\n",
      "Epoch 8/30\n",
      "625/625 [==============================] - 11s 17ms/step - loss: 0.0037 - acc: 0.9999 - val_loss: 0.4089 - val_acc: 0.8790\n",
      "Epoch 9/30\n",
      "625/625 [==============================] - 11s 17ms/step - loss: 0.0022 - acc: 1.0000 - val_loss: 0.4307 - val_acc: 0.8786\n",
      "Epoch 10/30\n",
      "625/625 [==============================] - 10s 16ms/step - loss: 0.0014 - acc: 1.0000 - val_loss: 0.4515 - val_acc: 0.8790\n",
      "Epoch 11/30\n",
      "625/625 [==============================] - 9s 14ms/step - loss: 9.2173e-04 - acc: 1.0000 - val_loss: 0.4720 - val_acc: 0.8802\n",
      "Epoch 12/30\n",
      "625/625 [==============================] - 8s 13ms/step - loss: 6.0041e-04 - acc: 1.0000 - val_loss: 0.4903 - val_acc: 0.8782\n",
      "Epoch 13/30\n",
      "625/625 [==============================] - 7s 12ms/step - loss: 4.1085e-04 - acc: 1.0000 - val_loss: 0.5110 - val_acc: 0.8792\n",
      "Epoch 14/30\n",
      "625/625 [==============================] - 7s 12ms/step - loss: 2.8071e-04 - acc: 1.0000 - val_loss: 0.5292 - val_acc: 0.8784\n",
      "Epoch 15/30\n",
      "625/625 [==============================] - 8s 12ms/step - loss: 1.9420e-04 - acc: 1.0000 - val_loss: 0.5492 - val_acc: 0.8784\n",
      "Epoch 16/30\n",
      "625/625 [==============================] - 9s 14ms/step - loss: 1.3225e-04 - acc: 1.0000 - val_loss: 0.5675 - val_acc: 0.8776\n",
      "Epoch 17/30\n",
      "625/625 [==============================] - 8s 12ms/step - loss: 9.2243e-05 - acc: 1.0000 - val_loss: 0.5846 - val_acc: 0.8780\n",
      "Epoch 18/30\n",
      "625/625 [==============================] - 9s 14ms/step - loss: 6.5078e-05 - acc: 1.0000 - val_loss: 0.6034 - val_acc: 0.8778\n",
      "Epoch 19/30\n",
      "625/625 [==============================] - 9s 14ms/step - loss: 4.5753e-05 - acc: 1.0000 - val_loss: 0.6212 - val_acc: 0.8778\n",
      "Epoch 20/30\n",
      "625/625 [==============================] - 9s 14ms/step - loss: 3.1689e-05 - acc: 1.0000 - val_loss: 0.6389 - val_acc: 0.8778\n",
      "Epoch 21/30\n",
      "625/625 [==============================] - 8s 13ms/step - loss: 2.2443e-05 - acc: 1.0000 - val_loss: 0.6567 - val_acc: 0.8784\n",
      "Epoch 22/30\n",
      "625/625 [==============================] - 8s 12ms/step - loss: 1.5893e-05 - acc: 1.0000 - val_loss: 0.6764 - val_acc: 0.8772\n",
      "Epoch 23/30\n",
      "625/625 [==============================] - 8s 12ms/step - loss: 1.1347e-05 - acc: 1.0000 - val_loss: 0.6958 - val_acc: 0.8766\n",
      "Epoch 24/30\n",
      "625/625 [==============================] - 7s 12ms/step - loss: 8.1284e-06 - acc: 1.0000 - val_loss: 0.7104 - val_acc: 0.8766\n",
      "Epoch 25/30\n",
      "625/625 [==============================] - 7s 11ms/step - loss: 5.8793e-06 - acc: 1.0000 - val_loss: 0.7291 - val_acc: 0.8762\n",
      "Epoch 26/30\n",
      "625/625 [==============================] - 7s 11ms/step - loss: 4.1757e-06 - acc: 1.0000 - val_loss: 0.7475 - val_acc: 0.8768\n",
      "Epoch 27/30\n",
      "625/625 [==============================] - 7s 12ms/step - loss: 3.0477e-06 - acc: 1.0000 - val_loss: 0.7635 - val_acc: 0.8772\n",
      "Epoch 28/30\n",
      "625/625 [==============================] - 8s 14ms/step - loss: 2.2295e-06 - acc: 1.0000 - val_loss: 0.7809 - val_acc: 0.8766\n",
      "Epoch 29/30\n",
      "625/625 [==============================] - 9s 14ms/step - loss: 1.6378e-06 - acc: 1.0000 - val_loss: 0.7981 - val_acc: 0.8772\n",
      "Epoch 30/30\n",
      "625/625 [==============================] - 8s 12ms/step - loss: 1.2149e-06 - acc: 1.0000 - val_loss: 0.8131 - val_acc: 0.8776\n"
     ]
    }
   ],
   "source": [
    "history = model.fit(pad_x_train, y_train, batch_size = 32, epochs = 30, validation_split = 0.2)"
   ]
  },
  {
   "cell_type": "code",
   "execution_count": 21,
   "metadata": {},
   "outputs": [
    {
     "name": "stdout",
     "output_type": "stream",
     "text": [
      "dict_keys(['loss', 'acc', 'val_loss', 'val_acc'])\n"
     ]
    }
   ],
   "source": [
    "# 학습 결과로 리턴된 history에서 확인할 수 있는 지표 출력\n",
    "# -> 학습 과정을 확인할 때 그래프로 표시할 수 있는 항목이 출력된다.\n",
    "print(history.history.keys())"
   ]
  },
  {
   "cell_type": "markdown",
   "metadata": {},
   "source": [
    "## 모델 평가하기\n",
    "- 스탠포드 대학교에서 저술한 논문에서 IMDB 데이터셋을 예제와 동일한 비율(학습데이터 50 : 테스트데이터 50)을 사용하여 88.98%의 정확도를 얻었다고 설명하고 있다."
   ]
  },
  {
   "cell_type": "code",
   "execution_count": 22,
   "metadata": {},
   "outputs": [
    {
     "name": "stdout",
     "output_type": "stream",
     "text": [
      "782/782 [==============================] - 2s 3ms/step - loss: 0.7992 - acc: 0.8724\n"
     ]
    },
    {
     "data": {
      "text/plain": [
       "[0.7992370128631592, 0.8723999857902527]"
      ]
     },
     "execution_count": 22,
     "metadata": {},
     "output_type": "execute_result"
    }
   ],
   "source": [
    "model.evaluate(pad_x_test, y_test)"
   ]
  },
  {
   "cell_type": "markdown",
   "metadata": {},
   "source": [
    "## 학습과정 확인하기"
   ]
  },
  {
   "cell_type": "code",
   "execution_count": 24,
   "metadata": {},
   "outputs": [
    {
     "data": {
      "image/png": "[encoded data removed]",
      "text/plain": [
       "<Figure size 1080x576 with 2 Axes>"
      ]
     },
     "metadata": {
      "needs_background": "light"
     },
     "output_type": "display_data"
    }
   ],
   "source": [
    "import matplotlib.pyplot as plt\n",
    "\n",
    "plt.rcParams['font.family'] = 'Malgun Gothic'\n",
    "plt.rcParams['font.size'] = 16\n",
    "plt.rcParams['figure.figsize'] = (15, 8)\n",
    "\n",
    "epochs = range(1, len(history.history['loss']) +1)\n",
    "\n",
    "# 서브플롯을 위한 그래프 그리기 시작\n",
    "fig = plt.figure()\n",
    "\n",
    "# 훈련 및 검증 손실 그리기\n",
    "ax1 = fig.add_subplot(1, 2, 1)\n",
    "ax1.plot(epochs, history.history['loss'], color = 'blue', label = 'train_loss')\n",
    "ax1.plot(epochs, history.history['val_loss'], color = 'orange', label = 'val_loss')\n",
    "ax1.set_title('train and val loss')\n",
    "ax1.set_xlabel('epochs')\n",
    "ax1.set_ylabel('loss')\n",
    "ax1.legend()\n",
    "\n",
    "# 훈련 및 검증 정확도 그리기\n",
    "ax2 = fig.add_subplot(1, 2, 2)\n",
    "ax2.plot(epochs, history.history['acc'], color = 'blue', label = 'train_acc')\n",
    "ax2.plot(epochs, history.history['val_acc'], color = 'orange', label = 'val_acc')\n",
    "ax2.set_title('train and val acc')\n",
    "ax2.set_xlabel('epochs')\n",
    "ax2.set_ylabel('acc')\n",
    "ax2.legend()\n",
    "\n",
    "plt.show()"
   ]
  }
 ],
 "metadata": {
  "kernelspec": {
   "display_name": "Python 3",
   "language": "python",
   "name": "python3"
  },
  "language_info": {
   "codemirror_mode": {
    "name": "ipython",
    "version": 3
   },
   "file_extension": ".py",
   "mimetype": "text/x-python",
   "name": "python",
   "nbconvert_exporter": "python",
   "pygments_lexer": "ipython3",
   "version": "3.8.6"
  }
 },
 "nbformat": 4,
 "nbformat_minor": 4
}
