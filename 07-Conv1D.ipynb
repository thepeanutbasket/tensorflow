{
 "cells": [
  {
   "cell_type": "markdown",
   "metadata": {},
   "source": [
    "## Conv1D\n",
    "\n",
    "- 컨볼루션(CNN) 방법은 이미지 데이터의 특징을 추출하는 데 적합한 방법\n",
    "- 시퀀스 데이터의 특징을 추출하기 위한 방법도 존재함.\n",
    "    - 1차원 형태의 컨볼루션 필터를 가지는 1D 컨볼루션 층\n",
    "    - 케라스에서는 Conv1D로 기능을 제공함."
   ]
  },
  {
   "cell_type": "markdown",
   "metadata": {},
   "source": [
    "- 최근 Conv1D와 LSTM을 혼합 사용하면서 좋은 성능을 보여주고 있다."
   ]
  },
  {
   "cell_type": "markdown",
   "metadata": {},
   "source": [
    "- 결국 CNN + RNN"
   ]
  },
  {
   "cell_type": "markdown",
   "metadata": {},
   "source": [
    "## 데이터셋 준비하기"
   ]
  },
  {
   "cell_type": "code",
   "execution_count": 1,
   "metadata": {},
   "outputs": [],
   "source": [
    "from tensorflow.keras.datasets import imdb\n",
    "\n",
    "num_words = 10000\n",
    "(x_train, y_train), (x_test, y_test) = imdb.load_data(num_words = num_words)"
   ]
  },
  {
   "cell_type": "markdown",
   "metadata": {},
   "source": [
    "## 데이터를 동일한 길이로 맞추기"
   ]
  },
  {
   "cell_type": "code",
   "execution_count": 2,
   "metadata": {},
   "outputs": [],
   "source": [
    "from tensorflow.keras.preprocessing.sequence import pad_sequences\n",
    "\n",
    "max_len = 500\n",
    "\n",
    "pad_x_train = pad_sequences(x_train, maxlen = max_len)\n",
    "pad_x_test = pad_sequences(x_test, maxlen = max_len)"
   ]
  },
  {
   "cell_type": "markdown",
   "metadata": {},
   "source": [
    "## 모델 구성하기 - Conv1D"
   ]
  },
  {
   "cell_type": "code",
   "execution_count": 4,
   "metadata": {},
   "outputs": [
    {
     "name": "stdout",
     "output_type": "stream",
     "text": [
      "Model: \"sequential_1\"\n",
      "_________________________________________________________________\n",
      "Layer (type)                 Output Shape              Param #   \n",
      "=================================================================\n",
      "embedding_1 (Embedding)      (None, 500, 32)           320000    \n",
      "_________________________________________________________________\n",
      "conv1d_2 (Conv1D)            (None, 494, 32)           7200      \n",
      "_________________________________________________________________\n",
      "max_pooling1d_2 (MaxPooling1 (None, 70, 32)            0         \n",
      "_________________________________________________________________\n",
      "conv1d_3 (Conv1D)            (None, 66, 32)            5152      \n",
      "_________________________________________________________________\n",
      "max_pooling1d_3 (MaxPooling1 (None, 13, 32)            0         \n",
      "_________________________________________________________________\n",
      "global_max_pooling1d (Global (None, 32)                0         \n",
      "_________________________________________________________________\n",
      "dense (Dense)                (None, 1)                 33        \n",
      "=================================================================\n",
      "Total params: 332,385\n",
      "Trainable params: 332,385\n",
      "Non-trainable params: 0\n",
      "_________________________________________________________________\n"
     ]
    }
   ],
   "source": [
    "from tensorflow.keras.models import Sequential\n",
    "from tensorflow.keras.layers import Dense, Embedding, Conv1D, MaxPooling1D, GlobalMaxPooling1D\n",
    "\n",
    "model = Sequential()\n",
    "\n",
    "# 이 층은 모델의 제일 첫 번째 층으로만 사용할 수 있다.\n",
    "# Flatten 층을 사용하기 위해 input_length를 전달해야 한다.\n",
    "\n",
    "model.add(Embedding(input_dim = num_words, output_dim = 32, input_length = max_len))\n",
    "model.add(Conv1D(32, 7, activation = 'relu'))\n",
    "model.add(MaxPooling1D(7))\n",
    "model.add(Conv1D(32, 5, activation = 'relu'))\n",
    "model.add(MaxPooling1D(5))\n",
    "model.add(GlobalMaxPooling1D())\n",
    "model.add(Dense(1, activation = 'sigmoid'))\n",
    "\n",
    "model.compile(optimizer = 'adam',\n",
    "             loss = 'binary_crossentropy',\n",
    "             metrics = ['acc'])\n",
    "\n",
    "model.summary()"
   ]
  },
  {
   "cell_type": "markdown",
   "metadata": {},
   "source": [
    "## 모델 학습시키기"
   ]
  },
  {
   "cell_type": "code",
   "execution_count": 5,
   "metadata": {},
   "outputs": [
    {
     "name": "stdout",
     "output_type": "stream",
     "text": [
      "Epoch 1/30\n",
      "625/625 [==============================] - 30s 48ms/step - loss: 0.4574 - acc: 0.7574 - val_loss: 0.3321 - val_acc: 0.8582\n",
      "Epoch 2/30\n",
      "625/625 [==============================] - 27s 43ms/step - loss: 0.2281 - acc: 0.9117 - val_loss: 0.3171 - val_acc: 0.8696\n",
      "Epoch 3/30\n",
      "625/625 [==============================] - 28s 45ms/step - loss: 0.1202 - acc: 0.9589 - val_loss: 0.3876 - val_acc: 0.8706\n",
      "Epoch 4/30\n",
      "625/625 [==============================] - 27s 42ms/step - loss: 0.0477 - acc: 0.9861 - val_loss: 0.4999 - val_acc: 0.8650\n",
      "Epoch 5/30\n",
      "625/625 [==============================] - 29s 46ms/step - loss: 0.0141 - acc: 0.9973 - val_loss: 0.6593 - val_acc: 0.8652\n",
      "Epoch 6/30\n",
      "625/625 [==============================] - 28s 45ms/step - loss: 0.0042 - acc: 0.9998 - val_loss: 0.7249 - val_acc: 0.8648\n",
      "Epoch 7/30\n",
      "625/625 [==============================] - 27s 44ms/step - loss: 0.0021 - acc: 0.9999 - val_loss: 0.7759 - val_acc: 0.8650\n",
      "Epoch 8/30\n",
      "625/625 [==============================] - 28s 45ms/step - loss: 0.0013 - acc: 0.9999 - val_loss: 0.8142 - val_acc: 0.8642\n",
      "Epoch 9/30\n",
      "625/625 [==============================] - 27s 43ms/step - loss: 0.0014 - acc: 0.9999 - val_loss: 0.8977 - val_acc: 0.8658\n",
      "Epoch 10/30\n",
      "625/625 [==============================] - 29s 46ms/step - loss: 0.0195 - acc: 0.9930 - val_loss: 0.8700 - val_acc: 0.8584\n",
      "Epoch 11/30\n",
      "625/625 [==============================] - 28s 44ms/step - loss: 0.0337 - acc: 0.9877 - val_loss: 0.8962 - val_acc: 0.8522\n",
      "Epoch 12/30\n",
      "625/625 [==============================] - 27s 44ms/step - loss: 0.0061 - acc: 0.9982 - val_loss: 0.9424 - val_acc: 0.8512\n",
      "Epoch 13/30\n",
      "625/625 [==============================] - 27s 43ms/step - loss: 6.9116e-04 - acc: 1.0000 - val_loss: 0.9884 - val_acc: 0.8562\n",
      "Epoch 14/30\n",
      "625/625 [==============================] - 27s 44ms/step - loss: 2.7196e-04 - acc: 1.0000 - val_loss: 1.0095 - val_acc: 0.8538\n",
      "Epoch 15/30\n",
      "625/625 [==============================] - 28s 45ms/step - loss: 2.1788e-04 - acc: 1.0000 - val_loss: 1.0308 - val_acc: 0.8534\n",
      "Epoch 16/30\n",
      "625/625 [==============================] - 27s 44ms/step - loss: 1.9045e-04 - acc: 1.0000 - val_loss: 1.0514 - val_acc: 0.8544\n",
      "Epoch 17/30\n",
      "625/625 [==============================] - 28s 45ms/step - loss: 1.7070e-04 - acc: 1.0000 - val_loss: 1.0738 - val_acc: 0.8544\n",
      "Epoch 18/30\n",
      "625/625 [==============================] - 28s 44ms/step - loss: 1.5517e-04 - acc: 1.0000 - val_loss: 1.0985 - val_acc: 0.8556\n",
      "Epoch 19/30\n",
      "625/625 [==============================] - 28s 45ms/step - loss: 1.4254e-04 - acc: 1.0000 - val_loss: 1.1214 - val_acc: 0.8554\n",
      "Epoch 20/30\n",
      "625/625 [==============================] - 28s 44ms/step - loss: 1.3151e-04 - acc: 1.0000 - val_loss: 1.1452 - val_acc: 0.8556\n",
      "Epoch 21/30\n",
      "625/625 [==============================] - 28s 45ms/step - loss: 1.2166e-04 - acc: 1.0000 - val_loss: 1.1716 - val_acc: 0.8562\n",
      "Epoch 22/30\n",
      "625/625 [==============================] - 28s 45ms/step - loss: 1.1254e-04 - acc: 1.0000 - val_loss: 1.1983 - val_acc: 0.8572\n",
      "Epoch 23/30\n",
      "625/625 [==============================] - 28s 45ms/step - loss: 1.0403e-04 - acc: 1.0000 - val_loss: 1.2250 - val_acc: 0.8580\n",
      "Epoch 24/30\n",
      "625/625 [==============================] - 30s 49ms/step - loss: 9.5862e-05 - acc: 1.0000 - val_loss: 1.2526 - val_acc: 0.8572\n",
      "Epoch 25/30\n",
      "625/625 [==============================] - 29s 47ms/step - loss: 8.8061e-05 - acc: 1.0000 - val_loss: 1.2815 - val_acc: 0.8572\n",
      "Epoch 26/30\n",
      "625/625 [==============================] - 32s 51ms/step - loss: 8.0729e-05 - acc: 1.0000 - val_loss: 1.3109 - val_acc: 0.8578\n",
      "Epoch 27/30\n",
      "625/625 [==============================] - 37s 60ms/step - loss: 7.3650e-05 - acc: 1.0000 - val_loss: 1.3399 - val_acc: 0.8574\n",
      "Epoch 28/30\n",
      "625/625 [==============================] - 33s 52ms/step - loss: 6.6852e-05 - acc: 1.0000 - val_loss: 1.3704 - val_acc: 0.8580\n",
      "Epoch 29/30\n",
      "625/625 [==============================] - 28s 45ms/step - loss: 6.0429e-05 - acc: 1.0000 - val_loss: 1.3999 - val_acc: 0.8586\n",
      "Epoch 30/30\n",
      "625/625 [==============================] - 28s 45ms/step - loss: 5.4503e-05 - acc: 1.0000 - val_loss: 1.4297 - val_acc: 0.8580\n"
     ]
    }
   ],
   "source": [
    "hist = model.fit(pad_x_train, y_train,\n",
    "                batch_size = 32, epochs = 30, validation_split = 0.2)"
   ]
  },
  {
   "cell_type": "markdown",
   "metadata": {},
   "source": [
    "## 모델 평가하기"
   ]
  },
  {
   "cell_type": "code",
   "execution_count": 6,
   "metadata": {},
   "outputs": [
    {
     "name": "stdout",
     "output_type": "stream",
     "text": [
      "782/782 [==============================] - 6s 8ms/step - loss: 1.4855 - acc: 0.8403\n"
     ]
    },
    {
     "data": {
      "text/plain": [
       "[1.4854543209075928, 0.8402799963951111]"
      ]
     },
     "execution_count": 6,
     "metadata": {},
     "output_type": "execute_result"
    }
   ],
   "source": [
    "model.evaluate(pad_x_test, y_test)"
   ]
  },
  {
   "cell_type": "markdown",
   "metadata": {},
   "source": [
    "## 학습 과정 그리기"
   ]
  },
  {
   "cell_type": "code",
   "execution_count": 7,
   "metadata": {},
   "outputs": [
    {
     "data": {
      "image/png": "[encoded data removed]",
      "text/plain": [
       "<Figure size 1080x576 with 2 Axes>"
      ]
     },
     "metadata": {
      "needs_background": "light"
     },
     "output_type": "display_data"
    }
   ],
   "source": [
    "import matplotlib.pyplot as plt\n",
    "\n",
    "plt.rcParams['font.family'] = 'Malgun Gothic'\n",
    "plt.rcParams['font.size'] = 16\n",
    "plt.rcParams['figure.figsize'] = (15, 8)\n",
    "\n",
    "his_dict = hist.history\n",
    "loss = his_dict['loss']\n",
    "val_loss = his_dict['val_loss']\n",
    "\n",
    "epochs = range(1, len(loss) + 1)\n",
    "fig = plt.figure()\n",
    "\n",
    "# 훈련 및 검증 손실 그리기\n",
    "ax1 = fig.add_subplot(1, 2, 1)\n",
    "ax1.plot(epochs, loss, color = 'blue', label = '훈련 손실')\n",
    "ax1.plot(epochs, val_loss, color = 'orange', label = '검증 손실')\n",
    "ax1.set_title('훈련 및 검증 손실')\n",
    "ax1.set_xlabel('epochs')\n",
    "ax1.set_ylabel('손실률')\n",
    "ax1.legend()\n",
    "\n",
    "# 훈련 및 검증 정확도 그리기\n",
    "acc = his_dict['acc']\n",
    "val_acc = his_dict['val_acc']\n",
    "\n",
    "ax2 = fig.add_subplot(1, 2, 2)\n",
    "ax2.plot(epochs, acc, color = 'blue', label = '훈련 정확도')\n",
    "ax2.plot(epochs, val_acc, color = 'orange', label = '검증 정확도')\n",
    "ax2.set_title('훈련 및 검증 정확도')\n",
    "ax2.set_xlabel('epochs')\n",
    "ax2.set_ylabel('정확도')\n",
    "ax2.legend()\n",
    "\n",
    "plt.show()"
   ]
  }
 ],
 "metadata": {
  "kernelspec": {
   "display_name": "Python 3",
   "language": "python",
   "name": "python3"
  },
  "language_info": {
   "codemirror_mode": {
    "name": "ipython",
    "version": 3
   },
   "file_extension": ".py",
   "mimetype": "text/x-python",
   "name": "python",
   "nbconvert_exporter": "python",
   "pygments_lexer": "ipython3",
   "version": "3.8.6"
  }
 },
 "nbformat": 4,
 "nbformat_minor": 4
}
