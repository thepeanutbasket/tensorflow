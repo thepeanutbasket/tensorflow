{
 "cells": [
  {
   "cell_type": "markdown",
   "metadata": {},
   "source": [
    "# 01-HelloML\n",
    "\n",
    "* 텐서플로우, 케라스 기본 동작 확인 예제.\n",
    "\n",
    "### 1) 텐서플로우 패키지 참조"
   ]
  },
  {
   "cell_type": "code",
   "execution_count": 1,
   "metadata": {},
   "outputs": [],
   "source": [
    "import tensorflow as tf"
   ]
  },
  {
   "cell_type": "markdown",
   "metadata": {},
   "source": [
    "### 2) MNIST 데이터셋을 로드하여 준비\n",
    "\n",
    "* 샘플 값을 정수에서 부동소수로 변환한다. 0-9까지 숫자를 이미지화 시켜놓은 것.\n",
    "\n",
    "\n",
    "아래 코드에서 다운로드 문제 발생 시 명령 프롬프트에서 아래의 코드를 실행하고 jupyter를 재시작한다. (여기서는 정상다운로드 되었으므로 실행하지 않았다.)\n",
    "\n",
    "```shell\n",
    "pip install --upgrade certfi\n",
    "```\n",
    "\n",
    "* SSL 보안 통신 -> 파이썬 자체의 보안 통신 모듈 버전 문제로 다운로드에 실패하는 경우가 있음. 그 경우 certfi 패키지를 업그레이드 한다."
   ]
  },
  {
   "cell_type": "code",
   "execution_count": 2,
   "metadata": {},
   "outputs": [
    {
     "name": "stdout",
     "output_type": "stream",
     "text": [
      "Downloading data from https://storage.googleapis.com/tensorflow/tf-keras-datasets/mnist.npz\n",
      "11493376/11490434 [==============================] - 2s 0us/step\n"
     ]
    }
   ],
   "source": [
    "mnist = tf.keras.datasets.mnist\n",
    "\n",
    "(x_train, y_train), (x_test, y_test) = mnist.load_data()     # tuple 두 개로 반환되니 변수도 tuple 두 개 안에 적어준다.\n",
    "x_train, x_test = x_train / 255.0, x_test / 255.0"
   ]
  },
  {
   "cell_type": "markdown",
   "metadata": {},
   "source": [
    "### 3) 모델 구성하기\n",
    "\n",
    "층을 차례대로 쌓아 tf.keras.Sequential 모델을 만든다.\n",
    "\n",
    "훈련에 사용할 옵티마이저(optimizer)와 손실 함수를 선택한다.\n",
    "\n",
    "* loss : 손실함수를 걸어준다"
   ]
  },
  {
   "cell_type": "code",
   "execution_count": 3,
   "metadata": {},
   "outputs": [],
   "source": [
    "# 훈련 모델 추가\n",
    "model = tf.keras.models.Sequential([\n",
    "    tf.keras.layers.Flatten(input_shape = (28,28)),\n",
    "    tf.keras.layers.Dense(128, activation = 'relu'),\n",
    "    tf.keras.layers.Dropout(0.2),\n",
    "    tf.keras.layers.Dense(10, activation = 'softmax')\n",
    "])\n",
    "\n",
    "# 옵티마이저 객체, 손실함수, 분석모듈 지정\n",
    "model.compile(optimizer = 'adam',\n",
    "             loss = 'sparse_categorical_crossentropy',\n",
    "             metrics = ['accuracy'])"
   ]
  },
  {
   "cell_type": "markdown",
   "metadata": {},
   "source": [
    "### 4) 모델 훈련 및 평가\n",
    "\n",
    "훈련된 이미지 분류기는 이 데이터셋에서 약 97-98%의 정확도를 달성한다."
   ]
  },
  {
   "cell_type": "code",
   "execution_count": 5,
   "metadata": {},
   "outputs": [
    {
     "name": "stdout",
     "output_type": "stream",
     "text": [
      "Epoch 1/5\n",
      "1875/1875 [==============================] - 2s 1ms/step - loss: 0.2949 - accuracy: 0.9139\n",
      "Epoch 2/5\n",
      "1875/1875 [==============================] - 2s 1ms/step - loss: 0.1447 - accuracy: 0.9564\n",
      "Epoch 3/5\n",
      "1875/1875 [==============================] - 2s 1ms/step - loss: 0.1063 - accuracy: 0.9681\n",
      "Epoch 4/5\n",
      "1875/1875 [==============================] - 2s 1ms/step - loss: 0.0871 - accuracy: 0.9737\n",
      "Epoch 5/5\n",
      "1875/1875 [==============================] - 2s 1ms/step - loss: 0.0758 - accuracy: 0.9759\n",
      "313/313 - 0s - loss: 0.0767 - accuracy: 0.9774\n"
     ]
    },
    {
     "data": {
      "text/plain": [
       "[0.07668343931436539, 0.977400004863739]"
      ]
     },
     "execution_count": 5,
     "metadata": {},
     "output_type": "execute_result"
    }
   ],
   "source": [
    "model.fit(x_train, y_train, epochs = 5)\n",
    "model.evaluate(x_test, y_test, verbose = 2)"
   ]
  },
  {
   "cell_type": "markdown",
   "metadata": {},
   "source": [
    "# 02 - 머신러닝 개요\n",
    "\n",
    "### 1) 각 분야의 차이\n",
    "\n",
    "#### 인공지능(AI)\n",
    "\n",
    "컴퓨터가 인간과 같은 지능적인 행동을 할 수 있게 해주는 기법들을 연구하는 분야.\n",
    "\n",
    "#### 머신러닝(Machine Learning)\n",
    "\n",
    "인공지능 연구 분야의 방법론 중 하나.\n",
    "데이터를 이용해 컴퓨터가 어떤 지식이나 패턴을 학습하는 것.\n",
    "\n",
    "#### 딥러닝(Deep Learning)\n",
    "\n",
    "머신러닝의 여러 방법론 중 하나.\n",
    "인공신경망을 깊게 여러 층 쌓아 올려 학습하는 방식.\n",
    "\n",
    "<이미지1>\n",
    "\n",
    "### 2) 전통적인 프로그래밍과의 차이\n",
    "\n",
    "<이미지2>\n",
    "<이미지3>\n",
    "\n",
    "머신러닝은 경험에 의존하는 경우가 많다.\n",
    "\n",
    "\n",
    "### 3) 각 분야 특징\n",
    "\n",
    "#### "
   ]
  }
 ],
 "metadata": {
  "kernelspec": {
   "display_name": "Python 3",
   "language": "python",
   "name": "python3"
  },
  "language_info": {
   "codemirror_mode": {
    "name": "ipython",
    "version": 3
   },
   "file_extension": ".py",
   "mimetype": "text/x-python",
   "name": "python",
   "nbconvert_exporter": "python",
   "pygments_lexer": "ipython3",
   "version": "3.8.6"
  }
 },
 "nbformat": 4,
 "nbformat_minor": 4
}
