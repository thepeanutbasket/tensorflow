{
 "cells": [
  {
   "cell_type": "markdown",
   "metadata": {},
   "source": [
    "## 패키지 가져오기"
   ]
  },
  {
   "cell_type": "code",
   "execution_count": 1,
   "metadata": {},
   "outputs": [],
   "source": [
    "import tensorflow as tf"
   ]
  },
  {
   "cell_type": "markdown",
   "metadata": {},
   "source": [
    "## 난수 벡터 만들기\n",
    "- uniform 분포(균등분포)에서 해당 크기만큼 난수를 생성합니다."
   ]
  },
  {
   "cell_type": "code",
   "execution_count": 2,
   "metadata": {},
   "outputs": [
    {
     "name": "stdout",
     "output_type": "stream",
     "text": [
      "tf.Tensor(\n",
      "[[0.89496434 0.9327171  0.844849   0.74003196 0.12424242]\n",
      " [0.8331584  0.19189894 0.66972077 0.4295205  0.5586684 ]\n",
      " [0.14159703 0.05225515 0.5647652  0.5120609  0.39504528]\n",
      " [0.77842677 0.7039485  0.6249143  0.87601054 0.42076278]\n",
      " [0.4040569  0.47452676 0.3624556  0.0534482  0.3518256 ]\n",
      " [0.55917263 0.68165684 0.295537   0.35410726 0.73518264]\n",
      " [0.9129709  0.13747859 0.33506715 0.22094297 0.03486526]\n",
      " [0.44423687 0.73240197 0.7291299  0.509056   0.12211299]\n",
      " [0.95592225 0.6830845  0.77227426 0.94808924 0.44551373]\n",
      " [0.0190798  0.6224303  0.82785046 0.94714856 0.9744204 ]], shape=(10, 5), dtype=float32)\n",
      "tf.Tensor(\n",
      "[[0.6814668  0.9487852  0.65057635]\n",
      " [0.0466578  0.8855854  0.32074702]\n",
      " [0.10209465 0.06910527 0.95030487]\n",
      " [0.15076327 0.38226175 0.8545941 ]\n",
      " [0.57145727 0.32427943 0.6982025 ]], shape=(5, 3), dtype=float32)\n"
     ]
    }
   ],
   "source": [
    "x = tf.random.uniform((10, 5))\n",
    "w = tf.random.uniform((5, 3))\n",
    "print(x)\n",
    "print(w)"
   ]
  },
  {
   "cell_type": "markdown",
   "metadata": {},
   "source": [
    "## 벡터의 내적\n",
    "- (10, 5) * (5, 3) -> (10, 3)"
   ]
  },
  {
   "cell_type": "code",
   "execution_count": 3,
   "metadata": {},
   "outputs": [
    {
     "name": "stdout",
     "output_type": "stream",
     "text": [
      "x와 w의 벡터 내적의 결과 크기:(10, 3)\n",
      "tf.Tensor(\n",
      "[[0.9222305  2.056688   2.4034464 ]\n",
      " [1.0291092  1.3520663  1.9971524 ]\n",
      " [0.45954275 0.5434962  1.3590053 ]\n",
      " [0.9996353  1.8764611  2.3684857 ]\n",
      " [0.54360783 0.9631658  1.0508382 ]\n",
      " [0.91654676 1.5283896  1.6791985 ]\n",
      " [0.7160164  1.1068813  1.1696286 ]\n",
      " [0.5578745  1.3546679  1.7371172 ]\n",
      " [1.1596746  2.072152   2.696184  ]\n",
      " [0.82619745 1.30457    2.4885361 ]], shape=(10, 3), dtype=float32)\n"
     ]
    }
   ],
   "source": [
    "d = tf.matmul(x, w)\n",
    "print(f'x와 w의 벡터 내적의 결과 크기:{d.shape}')\n",
    "print(d)"
   ]
  }
 ],
 "metadata": {
  "kernelspec": {
   "display_name": "Python 3",
   "language": "python",
   "name": "python3"
  },
  "language_info": {
   "codemirror_mode": {
    "name": "ipython",
    "version": 3
   },
   "file_extension": ".py",
   "mimetype": "text/x-python",
   "name": "python",
   "nbconvert_exporter": "python",
   "pygments_lexer": "ipython3",
   "version": "3.8.6"
  }
 },
 "nbformat": 4,
 "nbformat_minor": 4
}
