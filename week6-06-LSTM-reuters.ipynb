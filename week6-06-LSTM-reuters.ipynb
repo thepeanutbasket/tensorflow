{
 "cells": [
  {
   "cell_type": "markdown",
   "metadata": {},
   "source": [
    "## reuters 데이터셋에 LSTM 적용해보기\n",
    "\n",
    "- reuters: IMDB 데이터셋과 같이 일련의 문장 모음으로 구성되어 있지만, 46개 카테고리로 이루어져 있는 다중분류 문제"
   ]
  },
  {
   "cell_type": "code",
   "execution_count": 1,
   "metadata": {},
   "outputs": [
    {
     "name": "stdout",
     "output_type": "stream",
     "text": [
      "(8982,) (8982,)\n",
      "(2246,) (2246,)\n"
     ]
    }
   ],
   "source": [
    "# 데이터셋 사용하기\n",
    "\n",
    "from tensorflow.keras.datasets import reuters\n",
    "\n",
    "num_words = 10000\n",
    "(x_train, y_train), (x_test, y_test) = reuters.load_data(num_words = num_words)\n",
    "\n",
    "print(x_train.shape, y_train.shape)\n",
    "print(x_test.shape, y_test.shape)"
   ]
  },
  {
   "cell_type": "markdown",
   "metadata": {},
   "source": [
    "## 데이터를 동일한 길이로 맞추기"
   ]
  },
  {
   "cell_type": "code",
   "execution_count": 2,
   "metadata": {},
   "outputs": [],
   "source": [
    "from tensorflow.keras.preprocessing.sequence import pad_sequences\n",
    "\n",
    "max_len = 500\n",
    "\n",
    "# 길이를 맞추기 위해 pad_sequences() 함수 사용\n",
    "# 데이터가 지정해준 길이(max_len)보다 짧은 경우 0으로 채워넣으며 긴 경우는 잘라낸다.\n",
    "pad_x_train = pad_sequences(x_train, maxlen = max_len)\n",
    "pad_x_test = pad_sequences(x_test, maxlen = max_len)"
   ]
  },
  {
   "cell_type": "markdown",
   "metadata": {},
   "source": [
    "## 학습을 위한 층 쌓기"
   ]
  },
  {
   "cell_type": "code",
   "execution_count": 3,
   "metadata": {},
   "outputs": [
    {
     "name": "stdout",
     "output_type": "stream",
     "text": [
      "Model: \"sequential\"\n",
      "_________________________________________________________________\n",
      "Layer (type)                 Output Shape              Param #   \n",
      "=================================================================\n",
      "embedding (Embedding)        (None, None, 64)          640000    \n",
      "_________________________________________________________________\n",
      "lstm (LSTM)                  (None, None, 64)          33024     \n",
      "_________________________________________________________________\n",
      "lstm_1 (LSTM)                (None, 32)                12416     \n",
      "_________________________________________________________________\n",
      "dense (Dense)                (None, 46)                1518      \n",
      "=================================================================\n",
      "Total params: 686,958\n",
      "Trainable params: 686,958\n",
      "Non-trainable params: 0\n",
      "_________________________________________________________________\n"
     ]
    }
   ],
   "source": [
    "from tensorflow.keras.models import Sequential\n",
    "from tensorflow.keras.layers import LSTM, Dense, Embedding\n",
    "\n",
    "model = Sequential()\n",
    "model.add(Embedding(input_dim = num_words, output_dim = 64))\n",
    "model.add(LSTM(64, return_sequences = True))\n",
    "model.add(LSTM(32))\n",
    "model.add(Dense(46, activation = 'softmax'))\n",
    "\n",
    "model.compile(optimizer = 'adam', loss = 'sparse_categorical_crossentropy', metrics = ['acc'])\n",
    "model.summary()"
   ]
  },
  {
   "cell_type": "markdown",
   "metadata": {},
   "source": [
    "## 모델 학습하기"
   ]
  },
  {
   "cell_type": "code",
   "execution_count": 4,
   "metadata": {},
   "outputs": [
    {
     "name": "stdout",
     "output_type": "stream",
     "text": [
      "Epoch 1/20\n",
      "225/225 [==============================] - 102s 452ms/step - loss: 2.5563 - acc: 0.3509 - val_loss: 2.4096 - val_acc: 0.3450\n",
      "Epoch 2/20\n",
      "225/225 [==============================] - 99s 440ms/step - loss: 2.4075 - acc: 0.3534 - val_loss: 2.3752 - val_acc: 0.3450\n",
      "Epoch 3/20\n",
      "225/225 [==============================] - 101s 448ms/step - loss: 2.1173 - acc: 0.4547 - val_loss: 1.9990 - val_acc: 0.5058\n",
      "Epoch 4/20\n",
      "225/225 [==============================] - 101s 449ms/step - loss: 1.9163 - acc: 0.5105 - val_loss: 1.8574 - val_acc: 0.5220\n",
      "Epoch 5/20\n",
      "225/225 [==============================] - 102s 452ms/step - loss: 1.7606 - acc: 0.5420 - val_loss: 1.7036 - val_acc: 0.5554\n",
      "Epoch 6/20\n",
      "225/225 [==============================] - 101s 449ms/step - loss: 1.6576 - acc: 0.5695 - val_loss: 1.6692 - val_acc: 0.5776\n",
      "Epoch 7/20\n",
      "225/225 [==============================] - 103s 457ms/step - loss: 1.5655 - acc: 0.5922 - val_loss: 1.6032 - val_acc: 0.5888\n",
      "Epoch 8/20\n",
      "225/225 [==============================] - 101s 449ms/step - loss: 1.5101 - acc: 0.5986 - val_loss: 1.6206 - val_acc: 0.5927\n",
      "Epoch 9/20\n",
      "225/225 [==============================] - 101s 447ms/step - loss: 1.4417 - acc: 0.6177 - val_loss: 1.5397 - val_acc: 0.6049\n",
      "Epoch 10/20\n",
      "225/225 [==============================] - 102s 454ms/step - loss: 1.3410 - acc: 0.6358 - val_loss: 1.5228 - val_acc: 0.6088\n",
      "Epoch 11/20\n",
      "225/225 [==============================] - 102s 452ms/step - loss: 1.2830 - acc: 0.6437 - val_loss: 1.5989 - val_acc: 0.5698\n",
      "Epoch 12/20\n",
      "225/225 [==============================] - 101s 448ms/step - loss: 1.2305 - acc: 0.6664 - val_loss: 1.5534 - val_acc: 0.5993\n",
      "Epoch 13/20\n",
      "225/225 [==============================] - 100s 446ms/step - loss: 1.1690 - acc: 0.6765 - val_loss: 1.5517 - val_acc: 0.5960\n",
      "Epoch 14/20\n",
      "225/225 [==============================] - 100s 447ms/step - loss: 1.1398 - acc: 0.6781 - val_loss: 1.6174 - val_acc: 0.5810\n",
      "Epoch 15/20\n",
      "225/225 [==============================] - 101s 447ms/step - loss: 1.1360 - acc: 0.6949 - val_loss: 1.5721 - val_acc: 0.6043\n",
      "Epoch 16/20\n",
      "225/225 [==============================] - 103s 456ms/step - loss: 1.0215 - acc: 0.7211 - val_loss: 1.5878 - val_acc: 0.6027\n",
      "Epoch 17/20\n",
      "225/225 [==============================] - 112s 497ms/step - loss: 0.9489 - acc: 0.7421 - val_loss: 1.5998 - val_acc: 0.6088\n",
      "Epoch 18/20\n",
      "225/225 [==============================] - 111s 492ms/step - loss: 0.8900 - acc: 0.7619 - val_loss: 1.6157 - val_acc: 0.6105\n",
      "Epoch 19/20\n",
      "225/225 [==============================] - 104s 464ms/step - loss: 0.8620 - acc: 0.7655 - val_loss: 1.6474 - val_acc: 0.6155\n",
      "Epoch 20/20\n",
      "225/225 [==============================] - 106s 473ms/step - loss: 0.8186 - acc: 0.7770 - val_loss: 1.6660 - val_acc: 0.6093\n",
      "dict_keys(['loss', 'acc', 'val_loss', 'val_acc'])\n"
     ]
    }
   ],
   "source": [
    "hist = model.fit(pad_x_train, y_train, batch_size = 32, epochs = 20, validation_split = 0.2)\n",
    "\n",
    "# 학습 결과로 리턴된 history에서 확인할 수 있는 지표 출력\n",
    "print(hist.history.keys())"
   ]
  },
  {
   "cell_type": "markdown",
   "metadata": {},
   "source": [
    "## 모델 평가하기"
   ]
  },
  {
   "cell_type": "code",
   "execution_count": 5,
   "metadata": {},
   "outputs": [
    {
     "name": "stdout",
     "output_type": "stream",
     "text": [
      "71/71 [==============================] - 9s 129ms/step - loss: 1.7511 - acc: 0.6144\n"
     ]
    },
    {
     "data": {
      "text/plain": [
       "[1.7510654926300049, 0.6144256591796875]"
      ]
     },
     "execution_count": 5,
     "metadata": {},
     "output_type": "execute_result"
    }
   ],
   "source": [
    "model.evaluate(pad_x_test, y_test)"
   ]
  },
  {
   "cell_type": "markdown",
   "metadata": {},
   "source": [
    "## 학습 과정 그리기"
   ]
  },
  {
   "cell_type": "code",
   "execution_count": 6,
   "metadata": {},
   "outputs": [
    {
     "data": {
      "image/png": "[encoded data removed]",
      "text/plain": [
       "<Figure size 1080x576 with 2 Axes>"
      ]
     },
     "metadata": {
      "needs_background": "light"
     },
     "output_type": "display_data"
    }
   ],
   "source": [
    "import matplotlib.pyplot as plt\n",
    "\n",
    "plt.rcParams['font.family'] = 'Malgun Gothic'\n",
    "plt.rcParams['font.size'] = 16\n",
    "plt.rcParams['figure.figsize'] = (15, 8)\n",
    "\n",
    "his_dict = hist.history\n",
    "loss = his_dict['loss']\n",
    "val_loss = his_dict['val_loss']\n",
    "\n",
    "epochs = range(1, len(loss) + 1)\n",
    "fig = plt.figure()\n",
    "\n",
    "# 훈련 및 검증 손실 그리기\n",
    "ax1 = fig.add_subplot(1, 2, 1)\n",
    "ax1.plot(epochs, loss, color = 'blue', label = '훈련 손실')\n",
    "ax1.plot(epochs, val_loss, color = 'orange', label = '검증 손실')\n",
    "ax1.set_title('훈련 및 검증 손실')\n",
    "ax1.set_xlabel('epochs')\n",
    "ax1.set_ylabel('손실률')\n",
    "ax1.legend()\n",
    "\n",
    "# 훈련 및 검증 정확도 그리기\n",
    "acc = his_dict['acc']\n",
    "val_acc = his_dict['val_acc']\n",
    "\n",
    "ax2 = fig.add_subplot(1, 2, 2)\n",
    "ax2.plot(epochs, acc, color = 'blue', label = '훈련 정확도')\n",
    "ax2.plot(epochs, val_acc, color = 'orange', label = '검증 정확도')\n",
    "ax2.set_title('훈련 및 검증 정확도')\n",
    "ax2.set_xlabel('epochs')\n",
    "ax2.set_ylabel('정확도')\n",
    "ax2.legend()\n",
    "\n",
    "plt.show()"
   ]
  },
  {
   "cell_type": "markdown",
   "metadata": {},
   "source": [
    "## 함수 정의하기"
   ]
  },
  {
   "cell_type": "code",
   "execution_count": 7,
   "metadata": {},
   "outputs": [],
   "source": [
    "import numpy as np\n",
    "\n",
    "# 뉴스 기사와 라벨 데이터를 벡터로 변환\n",
    "def vectorize_sequences(sequences, dimension = 10000):\n",
    "    results = np.zeros((len(sequences), dimension))\n",
    "    # 크기가 들어온 리스트(단어개수, 전체단어개수)이고, 모든 원소가 0인 행렬을 생성\n",
    "    for i, sequence in enumerate(sequences):\n",
    "        results[i, sequence] = 1.\n",
    "    return results"
   ]
  },
  {
   "cell_type": "markdown",
   "metadata": {},
   "source": [
    "## 모델을 이용해 각 뉴스기사에 대한 토픽을 예측하기\n",
    "- softmax를 사용하여 각 뉴스별로 46개의 토픽에 해당하는 확률을 출력\n",
    "    - 각 클래스별 확률을 모두 더하면 1.0(100%)가 된다."
   ]
  },
  {
   "cell_type": "code",
   "execution_count": 8,
   "metadata": {},
   "outputs": [],
   "source": [
    "from tensorflow.keras.utils import to_categorical\n",
    "\n",
    "# 준비한 함수를 활용하여 훈련, 테스트 데이터를 학습 데이터와 레이블로 분류함.\n",
    "x_train = vectorize_sequences(x_train)\n",
    "x_test = vectorize_sequences(x_test)\n",
    "\n",
    "one_hot_train_labels = to_categorical(y_train)\n",
    "one_hot_test_labels = to_categorical(y_test)"
   ]
  },
  {
   "cell_type": "code",
   "execution_count": 9,
   "metadata": {},
   "outputs": [],
   "source": [
    "predictions = model.predict(x_test)"
   ]
  },
  {
   "cell_type": "markdown",
   "metadata": {},
   "source": [
    "## 결과\n",
    "- (2246, 46)\n",
    "- predictions는 테스트 데이터셋의 개수에 맞게 2246개의 결과가 들어 있다.\n",
    "- 각 결과 안에는 46개 클래스에 해당하는 확률값이 들어가 있다."
   ]
  },
  {
   "cell_type": "code",
   "execution_count": 10,
   "metadata": {},
   "outputs": [
    {
     "data": {
      "text/plain": [
       "(2246, 46)"
      ]
     },
     "metadata": {},
     "output_type": "display_data"
    }
   ],
   "source": [
    "display(predictions.shape)"
   ]
  },
  {
   "cell_type": "code",
   "execution_count": 11,
   "metadata": {},
   "outputs": [
    {
     "name": "stdout",
     "output_type": "stream",
     "text": [
      "45\n"
     ]
    }
   ],
   "source": [
    "# predictions[0]의 44번째 인덱스가 가장 큰 값을 가지는 것을 확인. -> 실패ㅠㅠ\n",
    "print(np.argmax(predictions[0]))"
   ]
  }
 ],
 "metadata": {
  "kernelspec": {
   "display_name": "Python 3",
   "language": "python",
   "name": "python3"
  },
  "language_info": {
   "codemirror_mode": {
    "name": "ipython",
    "version": 3
   },
   "file_extension": ".py",
   "mimetype": "text/x-python",
   "name": "python",
   "nbconvert_exporter": "python",
   "pygments_lexer": "ipython3",
   "version": "3.8.6"
  }
 },
 "nbformat": 4,
 "nbformat_minor": 4
}
